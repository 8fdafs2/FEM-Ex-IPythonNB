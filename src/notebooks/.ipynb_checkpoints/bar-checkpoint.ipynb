{
 "cells": [
  {
   "cell_type": "code",
   "execution_count": 30,
   "metadata": {
    "collapsed": false
   },
   "outputs": [
    {
     "name": "stdout",
     "output_type": "stream",
     "text": [
      "IPython console for SymPy 0.7.6 (Python 3.4.3-64-bit) (ground types: gmpy)\n"
     ]
    }
   ],
   "source": [
    "from sympy import *\n",
    "init_session(quiet=True, use_latex='mathjax', use_unicode=True)\n",
    "from IPython.display import HTML, display\n",
    "\n",
    "import os, sys\n",
    "lib_path = os.path.abspath(os.path.join('..', 'src'))\n",
    "sys.path.append(lib_path)\n",
    "\n",
    "from EqDisp import eq_disp, eqs_disp"
   ]
  },
  {
   "cell_type": "markdown",
   "metadata": {
    "slideshow": {
     "slide_type": "-"
    }
   },
   "source": [
    "<img src=\"image/4.7.png\" alt=\"Figure 4.7\" align=left>"
   ]
  },
  {
   "cell_type": "code",
   "execution_count": 31,
   "metadata": {
    "collapsed": false
   },
   "outputs": [],
   "source": [
    "# Global\n",
    "var('E')\n",
    "var('l_e')\n",
    "var('u_i u_j sigma_i sigma_j epsilon_i epsilon_j')\n",
    "# Element\n",
    "var('A_1 A_2 A_3 A_4')\n",
    "var('l_1 l_2 l_3 l_4')\n",
    "# Node\n",
    "var('F_1 F_2 F_3 F_4 F_5')\n",
    "var('U_1 U_2 U_3 U_4 U_5')\n",
    "var('R_1 R_2 R_3 R_4 R_5')\n",
    "var('epsilon_1 epsilon_2 epsilon_3 epsilon_4');"
   ]
  },
  {
   "cell_type": "code",
   "execution_count": 32,
   "metadata": {
    "collapsed": true
   },
   "outputs": [],
   "source": [
    "# Predefined Value\n",
    "E_val = 29e6\n",
    "A_1_val = A_2_val = A_3_val = A_4_val = 39.7\n",
    "l_1_val = l_2_val = l_3_val = l_4_val = 15 * 12\n",
    "F_1_val = 0; F_2_val = F_3_val = F_4_val = 25000 * 2; F_5_val = 30000 * 2"
   ]
  },
  {
   "cell_type": "code",
   "execution_count": 33,
   "metadata": {
    "collapsed": false
   },
   "outputs": [
    {
     "name": "stdout",
     "output_type": "stream",
     "text": [
      ">>> Global Stiffness Matrix:\n"
     ]
    },
    {
     "data": {
      "text/html": [
       "\\({[K_1]}={\\frac{A_{1} E}{l_{1}} \\left[\\begin{matrix}1 & -1\\\\-1 & 1\\end{matrix}\\right]}\\)$\\,\\,\\,\\,\\,$\\({[K_2]}={\\frac{A_{2} E}{l_{2}} \\left[\\begin{matrix}1 & -1\\\\-1 & 1\\end{matrix}\\right]}\\)$\\,\\,\\,\\,\\,$\\({[K_3]}={\\frac{A_{3} E}{l_{3}} \\left[\\begin{matrix}1 & -1\\\\-1 & 1\\end{matrix}\\right]}\\)$\\,\\,\\,\\,\\,$\\({[K_4]}={\\frac{A_{4} E}{l_{4}} \\left[\\begin{matrix}1 & -1\\\\-1 & 1\\end{matrix}\\right]}\\)"
      ],
      "text/plain": [
       "<IPython.core.display.HTML object>"
      ]
     },
     "metadata": {},
     "output_type": "execute_result"
    },
    {
     "data": {
      "text/html": [
       "\\begin{equation}\\begin{aligned}{[K_G]}={\\left[\\begin{matrix}\\frac{A_{1} E}{l_{1}} & - \\frac{A_{1} E}{l_{1}} & 0 & 0 & 0\\\\- \\frac{A_{1} E}{l_{1}} & \\frac{A_{1} E}{l_{1}} + \\frac{A_{2} E}{l_{2}} & - \\frac{A_{2} E}{l_{2}} & 0 & 0\\\\0 & - \\frac{A_{2} E}{l_{2}} & \\frac{A_{2} E}{l_{2}} + \\frac{A_{3} E}{l_{3}} & - \\frac{A_{3} E}{l_{3}} & 0\\\\0 & 0 & - \\frac{A_{3} E}{l_{3}} & \\frac{A_{3} E}{l_{3}} + \\frac{A_{4} E}{l_{4}} & - \\frac{A_{4} E}{l_{4}}\\\\0 & 0 & 0 & - \\frac{A_{4} E}{l_{4}} & \\frac{A_{4} E}{l_{4}}\\end{matrix}\\right]}\\end{aligned}\\end{equation}"
      ],
      "text/plain": [
       "<IPython.core.display.HTML object>"
      ]
     },
     "metadata": {},
     "output_type": "execute_result"
    }
   ],
   "source": [
    "# Global Stiffness Matrix\n",
    "K_1 = MatMul(A_1 * E / l_1, Matrix([[1, -1],[-1, 1]]))\n",
    "K_2 = MatMul(A_2 * E / l_2, Matrix([[1, -1],[-1, 1]]))\n",
    "K_3 = MatMul(A_3 * E / l_3, Matrix([[1, -1],[-1, 1]]))\n",
    "K_4 = MatMul(A_4 * E / l_4, Matrix([[1, -1],[-1, 1]]))\n",
    "\n",
    "K_G = zeros(5, 5)\n",
    "K_G[0:2, 0:2] += K_1\n",
    "K_G[1:3, 1:3] += K_2\n",
    "K_G[2:4, 2:4] += K_3\n",
    "K_G[3:5, 3:5] += K_4\n",
    "\n",
    "print('>>> Global Stiffness Matrix:')\n",
    "eqs_disp(['[K_1]', K_1], ['[K_2]', K_2], ['[K_3]', K_3], ['[K_4]', K_4])\n",
    "eq_disp('[K_G]', K_G)"
   ]
  },
  {
   "cell_type": "code",
   "execution_count": 34,
   "metadata": {
    "collapsed": false
   },
   "outputs": [
    {
     "name": "stdout",
     "output_type": "stream",
     "text": [
      ">>> Global Stiffness Matrix (Reaction Force Eliminated):\n"
     ]
    },
    {
     "data": {
      "text/html": [
       "\\begin{equation}\\begin{aligned}{[R]}={[K_G]\\{U\\}-\\{F\\}}\\end{aligned}\\end{equation}"
      ],
      "text/plain": [
       "<IPython.core.display.HTML object>"
      ]
     },
     "metadata": {},
     "output_type": "execute_result"
    },
    {
     "data": {
      "text/html": [
       "\\begin{equation}\\begin{aligned}{\\left[\\begin{matrix}R_{1}\\\\R_{2}\\\\R_{3}\\\\R_{4}\\\\R_{5}\\end{matrix}\\right]}={\\left[\\begin{matrix}- F_{1}\\\\- F_{2}\\\\- F_{3}\\\\- F_{4}\\\\- F_{5}\\end{matrix}\\right] + \\left[\\begin{matrix}\\frac{A_{1} E}{l_{1}} & - \\frac{A_{1} E}{l_{1}} & 0 & 0 & 0\\\\- \\frac{A_{1} E}{l_{1}} & \\frac{A_{1} E}{l_{1}} + \\frac{A_{2} E}{l_{2}} & - \\frac{A_{2} E}{l_{2}} & 0 & 0\\\\0 & - \\frac{A_{2} E}{l_{2}} & \\frac{A_{2} E}{l_{2}} + \\frac{A_{3} E}{l_{3}} & - \\frac{A_{3} E}{l_{3}} & 0\\\\0 & 0 & - \\frac{A_{3} E}{l_{3}} & \\frac{A_{3} E}{l_{3}} + \\frac{A_{4} E}{l_{4}} & - \\frac{A_{4} E}{l_{4}}\\\\0 & 0 & 0 & - \\frac{A_{4} E}{l_{4}} & \\frac{A_{4} E}{l_{4}}\\end{matrix}\\right] \\left[\\begin{matrix}U_{1}\\\\U_{2}\\\\U_{3}\\\\U_{4}\\\\U_{5}\\end{matrix}\\right]}\\end{aligned}\\end{equation}"
      ],
      "text/plain": [
       "<IPython.core.display.HTML object>"
      ]
     },
     "metadata": {},
     "output_type": "execute_result"
    },
    {
     "name": "stdout",
     "output_type": "stream",
     "text": [
      "~~~~~~~~~~~\n"
     ]
    },
    {
     "data": {
      "text/html": [
       "\\begin{equation}\\begin{aligned}{[K_{GM}]\\{U\\}}={\\{F\\}}\\end{aligned}\\end{equation}"
      ],
      "text/plain": [
       "<IPython.core.display.HTML object>"
      ]
     },
     "metadata": {},
     "output_type": "execute_result"
    },
    {
     "data": {
      "text/html": [
       "\\begin{equation}\\begin{aligned}{\\left[\\begin{matrix}1 & 0 & 0 & 0 & 0\\\\- \\frac{A_{1} E}{l_{1}} & \\frac{A_{1} E}{l_{1}} + \\frac{A_{2} E}{l_{2}} & - \\frac{A_{2} E}{l_{2}} & 0 & 0\\\\0 & - \\frac{A_{2} E}{l_{2}} & \\frac{A_{2} E}{l_{2}} + \\frac{A_{3} E}{l_{3}} & - \\frac{A_{3} E}{l_{3}} & 0\\\\0 & 0 & - \\frac{A_{3} E}{l_{3}} & \\frac{A_{3} E}{l_{3}} + \\frac{A_{4} E}{l_{4}} & - \\frac{A_{4} E}{l_{4}}\\\\0 & 0 & 0 & - \\frac{A_{4} E}{l_{4}} & \\frac{A_{4} E}{l_{4}}\\end{matrix}\\right] \\left[\\begin{matrix}U_{1}\\\\U_{2}\\\\U_{3}\\\\U_{4}\\\\U_{5}\\end{matrix}\\right]}={\\left[\\begin{matrix}F_{1}\\\\F_{2}\\\\F_{3}\\\\F_{4}\\\\F_{5}\\end{matrix}\\right]}\\end{aligned}\\end{equation}"
      ],
      "text/plain": [
       "<IPython.core.display.HTML object>"
      ]
     },
     "metadata": {},
     "output_type": "execute_result"
    }
   ],
   "source": [
    "# Global Stiffness Matrix (Reaction Force Eliminated)\n",
    "R = Matrix([R_1, R_2, R_3, R_4, R_5])\n",
    "U = Matrix([U_1, U_2, U_3, U_4, U_5])\n",
    "F = Matrix([F_1, F_2, F_3, F_4, F_5])\n",
    "\n",
    "K_GM = Matrix(K_G)\n",
    "K_GM[0, 0:5] = Matrix(1, 5, [1,0,0,0,0])\n",
    "\n",
    "print('>>> Global Stiffness Matrix (Reaction Force Eliminated):')\n",
    "eq_disp('[R]', '[K_G]\\{U\\}-\\{F\\}')\n",
    "eq_disp(R, MatMul(K_G, U) - F)\n",
    "print('~~~~~~~~~~~')\n",
    "eq_disp('[K_{GM}]\\{U\\}', '\\{F\\}')\n",
    "eq_disp(MatMul(K_GM, U), F)"
   ]
  },
  {
   "cell_type": "code",
   "execution_count": 35,
   "metadata": {
    "collapsed": false
   },
   "outputs": [
    {
     "name": "stdout",
     "output_type": "stream",
     "text": [
      ">>> Global Stiffness Matrix (Reaction Force Eliminated):\n"
     ]
    },
    {
     "data": {
      "text/html": [
       "\\begin{equation}\\begin{aligned}{[K_{GM}]}={\\left[\\begin{matrix}1 & 0 & 0 & 0 & 0\\\\0 & 12792222.2222222 & -6396111.11111111 & 0 & 0\\\\0 & -6396111.11111111 & 12792222.2222222 & -6396111.11111111 & 0\\\\0 & 0 & -6396111.11111111 & 12792222.2222222 & -6396111.11111111\\\\0 & 0 & 0 & -6396111.11111111 & 6396111.11111111\\end{matrix}\\right]}\\end{aligned}\\end{equation}"
      ],
      "text/plain": [
       "<IPython.core.display.HTML object>"
      ]
     },
     "metadata": {},
     "output_type": "execute_result"
    }
   ],
   "source": [
    "# Global Stiffness Matrix (Reaction Force Eliminated)\n",
    "K_G_val = K_G.subs([(A_1, A_1_val), (A_2, A_2_val), (A_3, A_3_val), (A_4, A_4_val),\n",
    "                    (E, E_val),\n",
    "                    (l_1, l_1_val), (l_2, l_2_val), (l_3, l_3_val), (l_4, l_4_val),\n",
    "                   ])\n",
    "\n",
    "K_GM_val = Matrix(K_G_val)\n",
    "\n",
    "K_GM_val[0, 0:5] = Matrix(1, 5, [1,0,0,0,0])\n",
    "K_GM_val[1:5, 0] = zeros(4, 1)\n",
    "\n",
    "print('>>> Global Stiffness Matrix (Reaction Force Eliminated):')\n",
    "eq_disp('[K_{GM}]', K_GM_val)"
   ]
  },
  {
   "cell_type": "code",
   "execution_count": 36,
   "metadata": {
    "collapsed": false
   },
   "outputs": [
    {
     "name": "stdout",
     "output_type": "stream",
     "text": [
      ">>> Global External Force Vector:\n"
     ]
    },
    {
     "data": {
      "text/html": [
       "\\begin{equation}\\begin{aligned}{\\{F\\}}={\\left[\\begin{matrix}0\\\\50000\\\\50000\\\\50000\\\\60000\\end{matrix}\\right]}\\end{aligned}\\end{equation}"
      ],
      "text/plain": [
       "<IPython.core.display.HTML object>"
      ]
     },
     "metadata": {},
     "output_type": "execute_result"
    },
    {
     "name": "stdout",
     "output_type": "stream",
     "text": [
      ">>> Global Displacement Vector:\n"
     ]
    },
    {
     "data": {
      "text/html": [
       "\\begin{equation}\\begin{aligned}{\\{U\\}}={\\left[\\begin{matrix}0\\\\0.0328324502736037\\\\0.0578476504820638\\\\0.07504560062538\\\\0.0844263007035525\\end{matrix}\\right]}\\end{aligned}\\end{equation}"
      ],
      "text/plain": [
       "<IPython.core.display.HTML object>"
      ]
     },
     "metadata": {},
     "output_type": "execute_result"
    },
    {
     "name": "stdout",
     "output_type": "stream",
     "text": [
      ">>> Global Reaction Force Vector:\n"
     ]
    },
    {
     "data": {
      "text/html": [
       "\\begin{equation}\\begin{aligned}{\\{R\\}}={\\left[\\begin{matrix}-210000.0\\\\-5.82076609134674 \\cdot 10^{-11}\\\\5.82076609134674 \\cdot 10^{-11}\\\\-1.16415321826935 \\cdot 10^{-10}\\\\5.82076609134674 \\cdot 10^{-11}\\end{matrix}\\right]}\\end{aligned}\\end{equation}"
      ],
      "text/plain": [
       "<IPython.core.display.HTML object>"
      ]
     },
     "metadata": {},
     "output_type": "execute_result"
    }
   ],
   "source": [
    "# Solve Displacement\n",
    "F_val = F.subs([(F_1, F_1_val), (F_2, F_2_val), (F_3, F_3_val), (F_4, F_4_val), (F_5, F_5_val)])\n",
    "U_val = K_GM_val ** -1 * F_val\n",
    "R_val = K_G_val * U_val - F_val\n",
    "\n",
    "print('>>> Global External Force Vector:')\n",
    "eq_disp('\\{F\\}', F_val)\n",
    "print('>>> Global Displacement Vector:')\n",
    "eq_disp('\\{U\\}', U_val)\n",
    "print('>>> Global Reaction Force Vector:')\n",
    "eq_disp('\\{R\\}', R_val)"
   ]
  },
  {
   "cell_type": "code",
   "execution_count": 37,
   "metadata": {
    "collapsed": false
   },
   "outputs": [
    {
     "name": "stdout",
     "output_type": "stream",
     "text": [
      ">>> Strain Vector:\n"
     ]
    },
    {
     "data": {
      "text/html": [
       "\\begin{equation}\\begin{aligned}{\\{\\epsilon\\}}={\\left[\\begin{matrix}\\frac{1}{l_{1}} \\left(- u_{1} + u_{2}\\right)\\\\\\frac{1}{l_{2}} \\left(- u_{2} + u_{3}\\right)\\\\\\frac{1}{l_{3}} \\left(- u_{3} + u_{4}\\right)\\\\\\frac{1}{l_{4}} \\left(- u_{4} + u_{5}\\right)\\end{matrix}\\right]}={\\left[\\begin{matrix}0.000182402501520021\\\\0.000138973334491444\\\\9.55441674628681 \\cdot 10^{-5}\\\\5.21150004342917 \\cdot 10^{-5}\\end{matrix}\\right]}\\end{aligned}\\end{equation}"
      ],
      "text/plain": [
       "<IPython.core.display.HTML object>"
      ]
     },
     "metadata": {},
     "output_type": "execute_result"
    },
    {
     "name": "stdout",
     "output_type": "stream",
     "text": [
      ">>> Stress Vector:\n"
     ]
    },
    {
     "data": {
      "text/html": [
       "\\begin{equation}\\begin{aligned}{\\{\\sigma\\}}={\\left[\\begin{matrix}E \\epsilon_{1}\\\\E \\epsilon_{2}\\\\E \\epsilon_{3}\\\\E \\epsilon_{4}\\end{matrix}\\right]}={\\left[\\begin{matrix}5289.6725440806\\\\4030.22670025189\\\\2770.78085642317\\\\1511.33501259446\\end{matrix}\\right]}\\end{aligned}\\end{equation}"
      ],
      "text/plain": [
       "<IPython.core.display.HTML object>"
      ]
     },
     "metadata": {},
     "output_type": "execute_result"
    }
   ],
   "source": [
    "# Solve Strain & Stress\n",
    "sigma_1 = E * epsilon_1\n",
    "sigma_2 = E * epsilon_2\n",
    "sigma_3 = E * epsilon_3\n",
    "sigma_4 = E * epsilon_4\n",
    "\n",
    "u_1_val, u_2_val, u_3_val, u_4_val, u_5_val = U_val\n",
    "\n",
    "epsilon_1 = (u_2 - u_1)/l_1\n",
    "epsilon_2 = (u_3 - u_2)/l_2\n",
    "epsilon_3 = (u_4 - u_3)/l_3\n",
    "epsilon_4 = (u_5 - u_4)/l_4\n",
    "\n",
    "epsilon_1_val = epsilon_1.subs([(u_1, u_1_val), (u_2, u_2_val), (l_1, l_1_val)])\n",
    "epsilon_2_val = epsilon_2.subs([(u_2, u_2_val), (u_3, u_3_val), (l_2, l_2_val)])\n",
    "epsilon_3_val = epsilon_3.subs([(u_3, u_3_val), (u_4, u_4_val), (l_3, l_3_val)])\n",
    "epsilon_4_val = epsilon_4.subs([(u_4, u_4_val), (u_5, u_5_val), (l_4, l_4_val)])\n",
    "\n",
    "epsilon = Matrix([epsilon_1, epsilon_2, epsilon_3, epsilon_4])\n",
    "epsilon_val = Matrix([epsilon_1_val, epsilon_2_val, epsilon_3_val, epsilon_4_val])\n",
    "\n",
    "sigma_1_val = sigma_1.subs([(E, E_val), ('epsilon_1', epsilon_1_val)])\n",
    "sigma_2_val = sigma_2.subs([(E, E_val), ('epsilon_2', epsilon_2_val)])\n",
    "sigma_3_val = sigma_3.subs([(E, E_val), ('epsilon_3', epsilon_3_val)])\n",
    "sigma_4_val = sigma_4.subs([(E, E_val), ('epsilon_4', epsilon_4_val)])\n",
    "\n",
    "sigma = Matrix([sigma_1, sigma_2, sigma_3, sigma_4])\n",
    "sigma_val = Matrix([sigma_1_val, sigma_2_val, sigma_3_val, sigma_4_val])\n",
    "\n",
    "print('>>> Strain Vector:')\n",
    "eq_disp('\\{\\epsilon\\}', epsilon, epsilon_val)\n",
    "print('>>> Stress Vector:')\n",
    "eq_disp('\\{\\sigma\\}', sigma, sigma_val)"
   ]
  },
  {
   "cell_type": "code",
   "execution_count": 38,
   "metadata": {
    "collapsed": false
   },
   "outputs": [
    {
     "name": "stdout",
     "output_type": "stream",
     "text": [
      ">>> Solve on Point of Y=33:\n"
     ]
    },
    {
     "data": {
      "text/html": [
       "\\begin{equation}\\begin{aligned}{u_e(y)}={\\frac{1}{l_e}(u_i(l_e-y)+u_jy)}={0.0581342829844523}\\end{aligned}\\end{equation}"
      ],
      "text/plain": [
       "<IPython.core.display.HTML object>"
      ]
     },
     "metadata": {},
     "output_type": "execute_result"
    },
    {
     "data": {
      "text/html": [
       "\\begin{equation}\\begin{aligned}{\\sigma_e(y)}={\\frac{1}{l_e}(\\sigma_i(l_e-y)+\\sigma_jy)}={2749.79009235936}\\end{aligned}\\end{equation}"
      ],
      "text/plain": [
       "<IPython.core.display.HTML object>"
      ]
     },
     "metadata": {},
     "output_type": "execute_result"
    },
    {
     "data": {
      "text/html": [
       "\\begin{equation}\\begin{aligned}{\\epsilon_e(y)}={\\frac{1}{l_e}(\\epsilon_i(l_e-y)+\\epsilon_jy)}={9.48203480123918 \\cdot 10^{-5}}\\end{aligned}\\end{equation}"
      ],
      "text/plain": [
       "<IPython.core.display.HTML object>"
      ]
     },
     "metadata": {},
     "output_type": "execute_result"
    }
   ],
   "source": [
    "# Solve on Certain Point (Not Node)\n",
    "pos = 33\n",
    "e = 3\n",
    "i = 3\n",
    "j = 4\n",
    "y_val = 3\n",
    "l_e_val = l_3_val\n",
    "u_i_val = u_3_val\n",
    "u_j_val = u_4_val\n",
    "sigma_i_val = sigma_3_val\n",
    "sigma_j_val = sigma_4_val\n",
    "epsilon_i_val = epsilon_3_val\n",
    "epsilon_j_val = epsilon_4_val\n",
    "\n",
    "u_e = 1 / l_e * (u_i * (l_e - y) + u_j * y)\n",
    "sigma_e = 1 / l_e * (sigma_i * (l_e - y) + sigma_j * y)\n",
    "epsilon_e = 1 / l_e * (epsilon_i * (l_e - y) + epsilon_j * y)\n",
    "\n",
    "u_e_val = u_e.subs([(l_e, l_e_val), (y, y_val), \n",
    "                    (u_i, u_i_val), (u_j, u_j_val)])\n",
    "\n",
    "sigma_e_val = sigma_e.subs([(l_e, l_e_val), (y, y_val), \n",
    "                    (sigma_i, sigma_i_val), (sigma_j, sigma_j_val)])\n",
    "\n",
    "epsilon_e_val = epsilon_e.subs([(l_e, l_e_val), (y, y_val), \n",
    "                    (epsilon_i, epsilon_i_val), (epsilon_j, epsilon_j_val)])\n",
    "\n",
    "print('>>> Solve on Point of Y=33:')\n",
    "eq_disp('u_e(y)', r'\\frac{1}{l_e}(u_i(l_e-y)+u_jy)', u_e_val)\n",
    "eq_disp(r'\\sigma_e(y)', r'\\frac{1}{l_e}(\\sigma_i(l_e-y)+\\sigma_jy)', sigma_e_val)\n",
    "eq_disp(r'\\epsilon_e(y)', r'\\frac{1}{l_e}(\\epsilon_i(l_e-y)+\\epsilon_jy)', epsilon_e_val)"
   ]
  }
 ],
 "metadata": {
  "kernelspec": {
   "display_name": "Python 3",
   "language": "python",
   "name": "python3"
  },
  "language_info": {
   "codemirror_mode": {
    "name": "ipython",
    "version": 3
   },
   "file_extension": ".py",
   "mimetype": "text/x-python",
   "name": "python",
   "nbconvert_exporter": "python",
   "pygments_lexer": "ipython3",
   "version": "3.5.2"
  }
 },
 "nbformat": 4,
 "nbformat_minor": 0
}
