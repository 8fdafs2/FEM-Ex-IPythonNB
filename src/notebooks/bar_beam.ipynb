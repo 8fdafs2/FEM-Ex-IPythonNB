{
 "cells": [
  {
   "cell_type": "code",
   "execution_count": 11,
   "metadata": {
    "collapsed": false
   },
   "outputs": [
    {
     "name": "stdout",
     "output_type": "stream",
     "text": [
      "IPython console for SymPy 0.7.6 (Python 3.4.3-64-bit) (ground types: gmpy)\n"
     ]
    }
   ],
   "source": [
    "from sympy import *\n",
    "init_session(quiet=True, use_latex='mathjax', use_unicode=True)\n",
    "from IPython.display import HTML, display\n",
    "\n",
    "import os, sys\n",
    "lib_path = os.path.abspath(os.path.join('..', 'src'))\n",
    "sys.path.append(lib_path)\n",
    "\n",
    "from EqDisp import eq_disp, eqs_disp"
   ]
  },
  {
   "cell_type": "markdown",
   "metadata": {
    "slideshow": {
     "slide_type": "-"
    }
   },
   "source": [
    "<img src=\"image/4.13.png\" alt=\"Figure 4.13\" align=left>\n",
    "<img src=\"image/4.14.png\" alt=\"Figure 4.14\" align=left>\n",
    "<img src=\"image/4.15.png\" alt=\"Figure 4.15\" align=left>"
   ]
  },
  {
   "cell_type": "code",
   "execution_count": 12,
   "metadata": {
    "collapsed": false
   },
   "outputs": [],
   "source": [
    "# Global\n",
    "var('E')\n",
    "# Element\n",
    "var('A_1 A_2')\n",
    "var('I_1 I_2')\n",
    "var('l_1 l_2')\n",
    "var('theta_1 theta_2')\n",
    "var('w_1 w_2')\n",
    "# Node\n",
    "var('U_11 U_12 U_13 U_21 U_22 U_23 U_31 U_32 U_33')\n",
    "var('F_11 F_12 F_13 F_21 F_22 F_23 F_31 F_32 F_33')\n",
    "var('R_11 R_12 R_13 R_21 R_22 R_23 R_31 R_32 R_33');"
   ]
  },
  {
   "cell_type": "code",
   "execution_count": 13,
   "metadata": {
    "collapsed": true
   },
   "outputs": [],
   "source": [
    "# Predefined Value\n",
    "E_val = 30e6\n",
    "theta_1_val, theta_2_val = 0, rad(270)\n",
    "A_1_val = A_2_val = 7.65\n",
    "w_1_val, w_2_val = -800.0/12, 0\n",
    "I_1_val = I_2_val = 204\n",
    "l_1_val, l_2_val = 10*12, 9*12"
   ]
  },
  {
   "cell_type": "code",
   "execution_count": 14,
   "metadata": {
    "collapsed": false,
    "scrolled": false
   },
   "outputs": [
    {
     "name": "stdout",
     "output_type": "stream",
     "text": [
      ">>> Transition Matrix:\n"
     ]
    },
    {
     "data": {
      "text/html": [
       "\\({T_1}={\\left[\\begin{matrix}\\cos{\\left (\\theta_{1} \\right )} & \\sin{\\left (\\theta_{1} \\right )} & 0 & 0 & 0 & 0\\\\- \\sin{\\left (\\theta_{1} \\right )} & \\cos{\\left (\\theta_{1} \\right )} & 0 & 0 & 0 & 0\\\\0 & 0 & 1 & 0 & 0 & 0\\\\0 & 0 & 0 & \\cos{\\left (\\theta_{1} \\right )} & \\sin{\\left (\\theta_{1} \\right )} & 0\\\\0 & 0 & 0 & - \\sin{\\left (\\theta_{1} \\right )} & \\cos{\\left (\\theta_{1} \\right )} & 0\\\\0 & 0 & 0 & 0 & 0 & 1\\end{matrix}\\right]}={\\left[\\begin{matrix}1.0 & 0 & 0 & 0 & 0 & 0\\\\0 & 1.0 & 0 & 0 & 0 & 0\\\\0 & 0 & 1.0 & 0 & 0 & 0\\\\0 & 0 & 0 & 1.0 & 0 & 0\\\\0 & 0 & 0 & 0 & 1.0 & 0\\\\0 & 0 & 0 & 0 & 0 & 1.0\\end{matrix}\\right]}\\)$\\,\\,\\,\\,\\,$\\({T_2}={\\left[\\begin{matrix}\\cos{\\left (\\theta_{2} \\right )} & \\sin{\\left (\\theta_{2} \\right )} & 0 & 0 & 0 & 0\\\\- \\sin{\\left (\\theta_{2} \\right )} & \\cos{\\left (\\theta_{2} \\right )} & 0 & 0 & 0 & 0\\\\0 & 0 & 1 & 0 & 0 & 0\\\\0 & 0 & 0 & \\cos{\\left (\\theta_{2} \\right )} & \\sin{\\left (\\theta_{2} \\right )} & 0\\\\0 & 0 & 0 & - \\sin{\\left (\\theta_{2} \\right )} & \\cos{\\left (\\theta_{2} \\right )} & 0\\\\0 & 0 & 0 & 0 & 0 & 1\\end{matrix}\\right]}={\\left[\\begin{matrix}0 & -1.0 & 0 & 0 & 0 & 0\\\\1.0 & 0 & 0 & 0 & 0 & 0\\\\0 & 0 & 1.0 & 0 & 0 & 0\\\\0 & 0 & 0 & 0 & -1.0 & 0\\\\0 & 0 & 0 & 1.0 & 0 & 0\\\\0 & 0 & 0 & 0 & 0 & 1.0\\end{matrix}\\right]}\\)"
      ],
      "text/plain": [
       "<IPython.core.display.HTML object>"
      ]
     },
     "metadata": {},
     "output_type": "display_data"
    },
    {
     "name": "stdout",
     "output_type": "stream",
     "text": [
      ">>> Global Stiffness Matrix:\n"
     ]
    },
    {
     "data": {
      "text/html": [
       "\\({K_1}={T_1^{-1}k_1T_1}={\\left[\\begin{matrix}1.0 & 0 & 0 & 0 & 0 & 0\\\\0 & 1.0 & 0 & 0 & 0 & 0\\\\0 & 0 & 1.0 & 0 & 0 & 0\\\\0 & 0 & 0 & 1.0 & 0 & 0\\\\0 & 0 & 0 & 0 & 1.0 & 0\\\\0 & 0 & 0 & 0 & 0 & 1.0\\end{matrix}\\right] \\left[\\begin{matrix}\\frac{A_{1} E}{l_{1}} & 0 & 0 & - \\frac{A_{1} E}{l_{1}} & 0 & 0\\\\0 & \\frac{12 E}{l_{1}^{3}} I_{1} & \\frac{6 E}{l_{1}^{2}} I_{1} & 0 & - \\frac{12 E}{l_{1}^{3}} I_{1} & \\frac{6 E}{l_{1}^{2}} I_{1}\\\\0 & \\frac{6 E}{l_{1}^{2}} I_{1} & \\frac{4 E}{l_{1}} I_{1} & 0 & - \\frac{6 E}{l_{1}^{2}} I_{1} & \\frac{2 E}{l_{1}} I_{1}\\\\- \\frac{A_{1} E}{l_{1}} & 0 & 0 & \\frac{A_{1} E}{l_{1}} & 0 & 0\\\\0 & - \\frac{12 E}{l_{1}^{3}} I_{1} & - \\frac{6 E}{l_{1}^{2}} I_{1} & 0 & \\frac{12 E}{l_{1}^{3}} I_{1} & - \\frac{6 E}{l_{1}^{2}} I_{1}\\\\0 & \\frac{6 E}{l_{1}^{2}} I_{1} & \\frac{2 E}{l_{1}} I_{1} & 0 & - \\frac{6 E}{l_{1}^{2}} I_{1} & \\frac{4 E}{l_{1}} I_{1}\\end{matrix}\\right] \\left[\\begin{matrix}1.0 & 0 & 0 & 0 & 0 & 0\\\\0 & 1.0 & 0 & 0 & 0 & 0\\\\0 & 0 & 1.0 & 0 & 0 & 0\\\\0 & 0 & 0 & 1.0 & 0 & 0\\\\0 & 0 & 0 & 0 & 1.0 & 0\\\\0 & 0 & 0 & 0 & 0 & 1.0\\end{matrix}\\right]}={\\left[\\begin{matrix}\\frac{1.0 A_{1}}{l_{1}} E & 0 & 0 & - \\frac{1.0 A_{1}}{l_{1}} E & 0 & 0\\\\0 & \\frac{12.0 E}{l_{1}^{3}} I_{1} & \\frac{6.0 E}{l_{1}^{2}} I_{1} & 0 & - \\frac{12.0 E}{l_{1}^{3}} I_{1} & \\frac{6.0 E}{l_{1}^{2}} I_{1}\\\\0 & \\frac{6.0 E}{l_{1}^{2}} I_{1} & \\frac{4.0 E}{l_{1}} I_{1} & 0 & - \\frac{6.0 E}{l_{1}^{2}} I_{1} & \\frac{2.0 E}{l_{1}} I_{1}\\\\- \\frac{1.0 A_{1}}{l_{1}} E & 0 & 0 & \\frac{1.0 A_{1}}{l_{1}} E & 0 & 0\\\\0 & - \\frac{12.0 E}{l_{1}^{3}} I_{1} & - \\frac{6.0 E}{l_{1}^{2}} I_{1} & 0 & \\frac{12.0 E}{l_{1}^{3}} I_{1} & - \\frac{6.0 E}{l_{1}^{2}} I_{1}\\\\0 & \\frac{6.0 E}{l_{1}^{2}} I_{1} & \\frac{2.0 E}{l_{1}} I_{1} & 0 & - \\frac{6.0 E}{l_{1}^{2}} I_{1} & \\frac{4.0 E}{l_{1}} I_{1}\\end{matrix}\\right]}\\)$\\,\\,\\,\\,\\,$\\({K_2}={T_2^{-1}k_2T_2}={\\left[\\begin{matrix}0 & 1.0 & 0 & 0 & 0 & 0\\\\-1.0 & 0 & 0 & 0 & 0 & 0\\\\0 & 0 & 1.0 & 0 & 0 & 0\\\\0 & 0 & 0 & 0 & 1.0 & 0\\\\0 & 0 & 0 & -1.0 & 0 & 0\\\\0 & 0 & 0 & 0 & 0 & 1.0\\end{matrix}\\right] \\left[\\begin{matrix}\\frac{A_{2} E}{l_{2}} & 0 & 0 & - \\frac{A_{2} E}{l_{2}} & 0 & 0\\\\0 & \\frac{12 E}{l_{2}^{3}} I_{2} & \\frac{6 E}{l_{2}^{2}} I_{2} & 0 & - \\frac{12 E}{l_{2}^{3}} I_{2} & \\frac{6 E}{l_{2}^{2}} I_{2}\\\\0 & \\frac{6 E}{l_{2}^{2}} I_{2} & \\frac{4 E}{l_{2}} I_{2} & 0 & - \\frac{6 E}{l_{2}^{2}} I_{2} & \\frac{2 E}{l_{2}} I_{2}\\\\- \\frac{A_{2} E}{l_{2}} & 0 & 0 & \\frac{A_{2} E}{l_{2}} & 0 & 0\\\\0 & - \\frac{12 E}{l_{2}^{3}} I_{2} & - \\frac{6 E}{l_{2}^{2}} I_{2} & 0 & \\frac{12 E}{l_{2}^{3}} I_{2} & - \\frac{6 E}{l_{2}^{2}} I_{2}\\\\0 & \\frac{6 E}{l_{2}^{2}} I_{2} & \\frac{2 E}{l_{2}} I_{2} & 0 & - \\frac{6 E}{l_{2}^{2}} I_{2} & \\frac{4 E}{l_{2}} I_{2}\\end{matrix}\\right] \\left[\\begin{matrix}0 & -1.0 & 0 & 0 & 0 & 0\\\\1.0 & 0 & 0 & 0 & 0 & 0\\\\0 & 0 & 1.0 & 0 & 0 & 0\\\\0 & 0 & 0 & 0 & -1.0 & 0\\\\0 & 0 & 0 & 1.0 & 0 & 0\\\\0 & 0 & 0 & 0 & 0 & 1.0\\end{matrix}\\right]}={\\left[\\begin{matrix}\\frac{12.0 E}{l_{2}^{3}} I_{2} & 0 & \\frac{6.0 E}{l_{2}^{2}} I_{2} & - \\frac{12.0 E}{l_{2}^{3}} I_{2} & 0 & \\frac{6.0 E}{l_{2}^{2}} I_{2}\\\\0 & \\frac{1.0 A_{2}}{l_{2}} E & 0 & 0 & - \\frac{1.0 A_{2}}{l_{2}} E & 0\\\\\\frac{6.0 E}{l_{2}^{2}} I_{2} & 0 & \\frac{4.0 E}{l_{2}} I_{2} & - \\frac{6.0 E}{l_{2}^{2}} I_{2} & 0 & \\frac{2.0 E}{l_{2}} I_{2}\\\\- \\frac{12.0 E}{l_{2}^{3}} I_{2} & 0 & - \\frac{6.0 E}{l_{2}^{2}} I_{2} & \\frac{12.0 E}{l_{2}^{3}} I_{2} & 0 & - \\frac{6.0 E}{l_{2}^{2}} I_{2}\\\\0 & - \\frac{1.0 A_{2}}{l_{2}} E & 0 & 0 & \\frac{1.0 A_{2}}{l_{2}} E & 0\\\\\\frac{6.0 E}{l_{2}^{2}} I_{2} & 0 & \\frac{2.0 E}{l_{2}} I_{2} & - \\frac{6.0 E}{l_{2}^{2}} I_{2} & 0 & \\frac{4.0 E}{l_{2}} I_{2}\\end{matrix}\\right]}\\)"
      ],
      "text/plain": [
       "<IPython.core.display.HTML object>"
      ]
     },
     "metadata": {},
     "output_type": "display_data"
    },
    {
     "data": {
      "text/html": [
       "\\begin{equation}\\begin{aligned}{[K_G]}={\\left[\\begin{matrix}\\frac{1.0 A_{1}}{l_{1}} E & 0 & 0 & - \\frac{1.0 A_{1}}{l_{1}} E & 0 & 0 & 0 & 0 & 0\\\\0 & \\frac{12.0 E}{l_{1}^{3}} I_{1} & \\frac{6.0 E}{l_{1}^{2}} I_{1} & 0 & - \\frac{12.0 E}{l_{1}^{3}} I_{1} & \\frac{6.0 E}{l_{1}^{2}} I_{1} & 0 & 0 & 0\\\\0 & \\frac{6.0 E}{l_{1}^{2}} I_{1} & \\frac{4.0 E}{l_{1}} I_{1} & 0 & - \\frac{6.0 E}{l_{1}^{2}} I_{1} & \\frac{2.0 E}{l_{1}} I_{1} & 0 & 0 & 0\\\\- \\frac{1.0 A_{1}}{l_{1}} E & 0 & 0 & \\frac{1.0 A_{1}}{l_{1}} E + \\frac{12.0 E}{l_{2}^{3}} I_{2} & 0 & \\frac{6.0 E}{l_{2}^{2}} I_{2} & - \\frac{12.0 E}{l_{2}^{3}} I_{2} & 0 & \\frac{6.0 E}{l_{2}^{2}} I_{2}\\\\0 & - \\frac{12.0 E}{l_{1}^{3}} I_{1} & - \\frac{6.0 E}{l_{1}^{2}} I_{1} & 0 & \\frac{1.0 A_{2}}{l_{2}} E + \\frac{12.0 E}{l_{1}^{3}} I_{1} & - \\frac{6.0 E}{l_{1}^{2}} I_{1} & 0 & - \\frac{1.0 A_{2}}{l_{2}} E & 0\\\\0 & \\frac{6.0 E}{l_{1}^{2}} I_{1} & \\frac{2.0 E}{l_{1}} I_{1} & \\frac{6.0 E}{l_{2}^{2}} I_{2} & - \\frac{6.0 E}{l_{1}^{2}} I_{1} & \\frac{4.0 E}{l_{1}} I_{1} + \\frac{4.0 E}{l_{2}} I_{2} & - \\frac{6.0 E}{l_{2}^{2}} I_{2} & 0 & \\frac{2.0 E}{l_{2}} I_{2}\\\\0 & 0 & 0 & - \\frac{12.0 E}{l_{2}^{3}} I_{2} & 0 & - \\frac{6.0 E}{l_{2}^{2}} I_{2} & \\frac{12.0 E}{l_{2}^{3}} I_{2} & 0 & - \\frac{6.0 E}{l_{2}^{2}} I_{2}\\\\0 & 0 & 0 & 0 & - \\frac{1.0 A_{2}}{l_{2}} E & 0 & 0 & \\frac{1.0 A_{2}}{l_{2}} E & 0\\\\0 & 0 & 0 & \\frac{6.0 E}{l_{2}^{2}} I_{2} & 0 & \\frac{2.0 E}{l_{2}} I_{2} & - \\frac{6.0 E}{l_{2}^{2}} I_{2} & 0 & \\frac{4.0 E}{l_{2}} I_{2}\\end{matrix}\\right]}\\end{aligned}\\end{equation}"
      ],
      "text/plain": [
       "<IPython.core.display.HTML object>"
      ]
     },
     "metadata": {},
     "output_type": "display_data"
    },
    {
     "name": "stdout",
     "output_type": "stream",
     "text": [
      ">>> Global External Force Vector:\n"
     ]
    },
    {
     "data": {
      "text/html": [
       "\\({F_1}={\\left[\\begin{matrix}F_{11}\\\\F_{12}\\\\F_{13}\\\\F_{21}\\\\F_{22}\\\\F_{23}\\end{matrix}\\right]}\\)$\\,\\,\\,\\,\\,$\\({F_2}={\\left[\\begin{matrix}F_{21}\\\\F_{22}\\\\F_{23}\\\\F_{31}\\\\F_{32}\\\\F_{33}\\end{matrix}\\right]}\\)"
      ],
      "text/plain": [
       "<IPython.core.display.HTML object>"
      ]
     },
     "metadata": {},
     "output_type": "display_data"
    },
    {
     "data": {
      "text/html": [
       "\\begin{equation}\\begin{aligned}{[F_G]}={\\left[\\begin{matrix}F_{11}\\\\F_{12}\\\\F_{13}\\\\F_{21}\\\\F_{22}\\\\F_{23}\\\\F_{31}\\\\F_{32}\\\\F_{33}\\end{matrix}\\right]}={\\left[\\begin{matrix}F_{11}\\\\\\frac{l_{1} w_{1}}{2}\\\\\\frac{l_{1}^{2} w_{1}}{12}\\\\0\\\\\\frac{l_{1} w_{1}}{2}\\\\- \\frac{l_{1}^{2} w_{1}}{12}\\\\F_{31}\\\\F_{32}\\\\F_{33}\\end{matrix}\\right]}\\end{aligned}\\end{equation}"
      ],
      "text/plain": [
       "<IPython.core.display.HTML object>"
      ]
     },
     "metadata": {},
     "output_type": "display_data"
    },
    {
     "name": "stdout",
     "output_type": "stream",
     "text": [
      ">>> Global Displacement Vector:\n"
     ]
    },
    {
     "data": {
      "text/html": [
       "\\({U_1}={\\left[\\begin{matrix}U_{11}\\\\U_{12}\\\\U_{13}\\\\U_{21}\\\\U_{22}\\\\U_{23}\\end{matrix}\\right]}\\)$\\,\\,\\,\\,\\,$\\({U_2}={\\left[\\begin{matrix}U_{21}\\\\U_{22}\\\\U_{23}\\\\U_{31}\\\\U_{32}\\\\U_{33}\\end{matrix}\\right]}\\)"
      ],
      "text/plain": [
       "<IPython.core.display.HTML object>"
      ]
     },
     "metadata": {},
     "output_type": "display_data"
    },
    {
     "data": {
      "text/html": [
       "\\begin{equation}\\begin{aligned}{[U_G]}={\\left[\\begin{matrix}U_{11}\\\\U_{12}\\\\U_{13}\\\\U_{21}\\\\U_{22}\\\\U_{23}\\\\U_{31}\\\\U_{32}\\\\U_{33}\\end{matrix}\\right]}\\end{aligned}\\end{equation}"
      ],
      "text/plain": [
       "<IPython.core.display.HTML object>"
      ]
     },
     "metadata": {},
     "output_type": "display_data"
    },
    {
     "name": "stdout",
     "output_type": "stream",
     "text": [
      ">>> Global Reaction Force Vector:\n"
     ]
    },
    {
     "data": {
      "text/html": [
       "\\({R_1}={\\left[\\begin{matrix}R_{11}\\\\R_{12}\\\\R_{13}\\\\R_{21}\\\\R_{22}\\\\R_{23}\\end{matrix}\\right]}\\)$\\,\\,\\,\\,\\,$\\({R_2}={\\left[\\begin{matrix}R_{21}\\\\R_{22}\\\\R_{23}\\\\R_{31}\\\\R_{32}\\\\R_{33}\\end{matrix}\\right]}\\)"
      ],
      "text/plain": [
       "<IPython.core.display.HTML object>"
      ]
     },
     "metadata": {},
     "output_type": "display_data"
    },
    {
     "data": {
      "text/html": [
       "\\begin{equation}\\begin{aligned}{[R_G]}={\\left[\\begin{matrix}R_{11}\\\\R_{12}\\\\R_{13}\\\\R_{21}\\\\R_{22}\\\\R_{23}\\\\R_{31}\\\\R_{32}\\\\R_{33}\\end{matrix}\\right]}\\end{aligned}\\end{equation}"
      ],
      "text/plain": [
       "<IPython.core.display.HTML object>"
      ]
     },
     "metadata": {},
     "output_type": "display_data"
    }
   ],
   "source": [
    "# Global Vector & Matrix\n",
    "T_1 = eye(6)\n",
    "T_1[0:2, 0:2] = Matrix([[cos(theta_1), sin(theta_1)], \n",
    "                        [-sin(theta_1), cos(theta_1)]])\n",
    "T_1[3:5, 3:5] = Matrix([[cos(theta_1), sin(theta_1)], \n",
    "                        [-sin(theta_1), cos(theta_1)]])\n",
    "\n",
    "T_2 = T_1.subs([(theta_1, theta_2)])\n",
    "T_1_ = T_1\n",
    "T_2_ = T_2\n",
    "T_1 = T_1.subs([(theta_1, theta_1_val)]).evalf()\n",
    "T_2 = T_2.subs([(theta_2, theta_2_val)]).evalf()\n",
    "\n",
    "U_1 = Matrix(6, 1, [U_11, U_12, U_13, U_21, U_22, U_23])\n",
    "U_2 = Matrix(6, 1, [U_21, U_22, U_23, U_31, U_32, U_33])\n",
    "U_G = Matrix(9, 1, [U_11, U_12, U_13, U_21, U_22, U_23, U_31, U_32, U_33])\n",
    "\n",
    "F_1 = Matrix(6, 1, [F_11, F_12, F_13, F_21, F_22, F_23])\n",
    "F_2 = Matrix(6, 1, [F_21, F_22, F_23, F_31, F_32, F_33])\n",
    "F_G = Matrix(9, 1, [F_11, F_12, F_13, F_21, F_22, F_23, F_31, F_32, F_33])\n",
    "F_G_ = F_G\n",
    "F_G = F_G.subs([(F_12, l_1*w_1/2), (F_13, l_1**2*w_1/12), \n",
    "                (F_21, 0), \n",
    "                (F_22, l_1*w_1/2), (F_23, -l_1**2*w_1/12)])\n",
    "\n",
    "R_1 = Matrix(6, 1, [R_11, R_12, R_13, R_21, R_22, R_23])\n",
    "R_2 = Matrix(6, 1, [R_21, R_22, R_23, R_31, R_32, R_33])\n",
    "R_G = Matrix(9, 1, [R_11, R_12, R_13, R_21, R_22, R_23, R_31, R_32, R_33])\n",
    "\n",
    "\n",
    "k_1 = Matrix([[A_1*E/l_1, 0, 0, -A_1*E/l_1, 0, 0], \n",
    "              [0, 12*E*I_1/l_1**3, 6*E*I_1/l_1**2, 0, -12*E*I_1/l_1**3, 6*E*I_1/l_1**2],\n",
    "              [0, 6*E*I_1/l_1**2, 4*E*I_1/l_1, 0, -6*E*I_1/l_1**2, 2*E*I_1/l_1],\n",
    "              [-A_1*E/l_1, 0, 0, A_1*E/l_1, 0, 0],\n",
    "              [0, -12*E*I_1/l_1**3, -6*E*I_1/l_1**2, 0, 12*E*I_1/l_1**3, -6*E*I_1/l_1**2],\n",
    "              [0, 6*E*I_1/l_1**2, 2*E*I_1/l_1, 0, -6*E*I_1/l_1**2, 4*E*I_1/l_1]])\n",
    "k_2 = k_1.subs([(l_1, l_2), (I_1, I_2), (A_1, A_2)])\n",
    "K_1 = T_1**-1 * k_1 * T_1\n",
    "K_2 = T_2**-1 * k_2 * T_2\n",
    "K_G = zeros(9, 9)\n",
    "K_G[0:6, 0:6] += K_1\n",
    "K_G[3:9, 3:9] += K_2\n",
    "\n",
    "print('>>> Transition Matrix:')\n",
    "eqs_disp(['T_1', T_1_, T_1], \n",
    "         ['T_2', T_2_, T_2])\n",
    "\n",
    "print('>>> Global Stiffness Matrix:')\n",
    "eqs_disp(['K_1', 'T_1^{-1}k_1T_1', MatMul(T_1**-1, k_1, T_1), K_1], \n",
    "         ['K_2', 'T_2^{-1}k_2T_2', MatMul(T_2**-1, k_2, T_2), K_2])\n",
    "eq_disp('[K_G]', K_G)\n",
    "print('>>> Global External Force Vector:')\n",
    "eqs_disp(['F_1', F_1], \n",
    "         ['F_2', F_2])\n",
    "eq_disp('[F_G]', F_G_, F_G)\n",
    "print('>>> Global Displacement Vector:')\n",
    "eqs_disp(['U_1', U_1], \n",
    "         ['U_2', U_2])\n",
    "eq_disp('[U_G]', U_G)\n",
    "print('>>> Global Reaction Force Vector:')\n",
    "eqs_disp(['R_1', R_1], \n",
    "         ['R_2', R_2])\n",
    "eq_disp('[R_G]', R_G)"
   ]
  },
  {
   "cell_type": "code",
   "execution_count": 15,
   "metadata": {
    "collapsed": false
   },
   "outputs": [
    {
     "name": "stdout",
     "output_type": "stream",
     "text": [
      ">>> Global Stiffness Matrix (Reaction Force Eliminated):\n"
     ]
    },
    {
     "data": {
      "text/html": [
       "\\begin{equation}\\begin{aligned}{[K_{GM}]}={\\left[\\begin{matrix}1 & 0 & 0 & 0 & 0 & 0 & 0 & 0 & 0\\\\0 & 1 & 0 & 0 & 0 & 0 & 0 & 0 & 0\\\\0 & 0 & 1 & 0 & 0 & 0 & 0 & 0 & 0\\\\0 & 0 & 0 & 1970799.03978052 & 0 & 3148148.14814815 & 0 & 0 & 0\\\\0 & 0 & 0 & 0 & 2167500.0 & -2550000.0 & 0 & 0 & 0\\\\0 & 0 & 0 & 3148148.14814815 & -2550000.0 & 430666666.666667 & 0 & 0 & 0\\\\0 & 0 & 0 & 0 & 0 & 0 & 1 & 0 & 0\\\\0 & 0 & 0 & 0 & 0 & 0 & 0 & 1 & 0\\\\0 & 0 & 0 & 0 & 0 & 0 & 0 & 0 & 1\\end{matrix}\\right]}\\end{aligned}\\end{equation}"
      ],
      "text/plain": [
       "<IPython.core.display.HTML object>"
      ]
     },
     "metadata": {},
     "output_type": "display_data"
    }
   ],
   "source": [
    "# Global Stiffness Matrix (Reaction Force Eliminated)\n",
    "K_G_val = K_G.subs([(I_1, I_1_val), (I_2, I_2_val),\n",
    "                    (E, E_val),\n",
    "                    (l_1, l_1_val), (l_2, l_2_val),\n",
    "                    (A_1, A_1_val), (A_2, A_2_val)])\n",
    "\n",
    "K_GM_val = Matrix(K_G_val)\n",
    "K_GM_val[0:3, 0:3] = eye(3)\n",
    "K_GM_val[3:9, 0:3] = zeros(6, 3)\n",
    "K_GM_val[0:3, 3:6] = zeros(3, 3)\n",
    "K_GM_val[6:9, 3:6] = zeros(3, 3)\n",
    "K_GM_val[0:6, 6:9] = zeros(6, 3)\n",
    "K_GM_val[6:9, 6:9] = eye(3)\n",
    "\n",
    "print('>>> Global Stiffness Matrix (Reaction Force Eliminated):')\n",
    "eq_disp('[K_{GM}]', K_GM_val)"
   ]
  },
  {
   "cell_type": "code",
   "execution_count": 16,
   "metadata": {
    "collapsed": false
   },
   "outputs": [
    {
     "name": "stdout",
     "output_type": "stream",
     "text": [
      ">>> Global External Force Vector:\n"
     ]
    },
    {
     "data": {
      "text/html": [
       "\\begin{equation}\\begin{aligned}{\\{F_G\\}}={\\left[\\begin{matrix}F_{11}\\\\-4000.0\\\\-80000.0\\\\0\\\\-4000.0\\\\80000.0\\\\F_{31}\\\\F_{32}\\\\F_{33}\\end{matrix}\\right]}\\end{aligned}\\end{equation}"
      ],
      "text/plain": [
       "<IPython.core.display.HTML object>"
      ]
     },
     "metadata": {},
     "output_type": "display_data"
    },
    {
     "data": {
      "text/html": [
       "\\begin{equation}\\begin{aligned}{\\{F_{GM}\\}}={\\left[\\begin{matrix}0\\\\0\\\\0\\\\0\\\\-4000.0\\\\80000.0\\\\0\\\\0\\\\0\\end{matrix}\\right]}\\end{aligned}\\end{equation}"
      ],
      "text/plain": [
       "<IPython.core.display.HTML object>"
      ]
     },
     "metadata": {},
     "output_type": "display_data"
    },
    {
     "name": "stdout",
     "output_type": "stream",
     "text": [
      ">>> Global Displacement Vector:\n"
     ]
    },
    {
     "data": {
      "text/html": [
       "\\begin{equation}\\begin{aligned}{\\{U_G\\}}={\\left[\\begin{matrix}0\\\\0\\\\0\\\\-0.000284580740662138\\\\-0.00163585251448492\\\\0.000178152813668214\\\\0\\\\0\\\\0\\end{matrix}\\right]}\\end{aligned}\\end{equation}"
      ],
      "text/plain": [
       "<IPython.core.display.HTML object>"
      ]
     },
     "metadata": {},
     "output_type": "display_data"
    },
    {
     "name": "stdout",
     "output_type": "stream",
     "text": [
      ">>> Global Reaction Force Vector:\n"
     ]
    },
    {
     "data": {
      "text/html": [
       "\\begin{equation}\\begin{aligned}{\\{R_G\\}}={\\left[\\begin{matrix}544.260666516338\\\\523.813406719555\\\\22343.0109060944\\\\0\\\\-4.54747350886464 \\cdot 10^{-13}\\\\-1.45519152283669 \\cdot 10^{-11}\\\\-544.260666516339\\\\3476.18659328045\\\\19294.7498840168\\end{matrix}\\right]}\\end{aligned}\\end{equation}"
      ],
      "text/plain": [
       "<IPython.core.display.HTML object>"
      ]
     },
     "metadata": {},
     "output_type": "display_data"
    }
   ],
   "source": [
    "# Solve\n",
    "F_G_val = F_G.subs([(w_1, w_1_val),\n",
    "                    (l_1, l_1_val)])\n",
    "\n",
    "F_GM_val = Matrix(F_G_val)\n",
    "F_GM_val[0:3, 0] = Matrix(3, 1, [0, 0, 0])\n",
    "F_GM_val[6:9, 0] = Matrix(3, 1, [0, 0, 0])\n",
    "\n",
    "U_G_val = K_GM_val ** -1 * F_GM_val\n",
    "R_G_val = K_G_val * U_G_val - F_GM_val\n",
    "\n",
    "print('>>> Global External Force Vector:')\n",
    "eq_disp('\\{F_G\\}', F_G_val.evalf())\n",
    "eq_disp('\\{F_{GM}\\}', F_GM_val.evalf())\n",
    "print('>>> Global Displacement Vector:')\n",
    "eq_disp('\\{U_G\\}', U_G_val)\n",
    "print('>>> Global Reaction Force Vector:')\n",
    "eq_disp('\\{R_G\\}', R_G_val)"
   ]
  },
  {
   "cell_type": "code",
   "execution_count": null,
   "metadata": {
    "collapsed": true
   },
   "outputs": [],
   "source": []
  }
 ],
 "metadata": {
  "kernelspec": {
   "display_name": "Python 3",
   "language": "python",
   "name": "python3"
  },
  "language_info": {
   "codemirror_mode": {
    "name": "ipython",
    "version": 3
   },
   "file_extension": ".py",
   "mimetype": "text/x-python",
   "name": "python",
   "nbconvert_exporter": "python",
   "pygments_lexer": "ipython3",
   "version": "3.4.3"
  }
 },
 "nbformat": 4,
 "nbformat_minor": 0
}
