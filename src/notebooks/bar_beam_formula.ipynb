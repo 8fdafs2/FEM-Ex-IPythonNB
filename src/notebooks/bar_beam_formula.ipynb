{
 "cells": [
  {
   "cell_type": "code",
   "execution_count": 13,
   "metadata": {
    "collapsed": false
   },
   "outputs": [
    {
     "name": "stdout",
     "output_type": "stream",
     "text": [
      "IPython console for SymPy 0.7.6 (Python 3.4.3-64-bit) (ground types: gmpy)\n"
     ]
    }
   ],
   "source": [
    "from sympy import *\n",
    "init_session(quiet=True, use_latex='mathjax', use_unicode=True)\n",
    "from IPython.display import HTML, display\n",
    "\n",
    "import os, sys\n",
    "lib_path = os.path.abspath(os.path.join('..', 'src'))\n",
    "sys.path.append(lib_path)\n",
    "\n",
    "from EqDisp import eq_disp, eqs_disp"
   ]
  },
  {
   "cell_type": "markdown",
   "metadata": {
    "slideshow": {
     "slide_type": "-"
    }
   },
   "source": [
    "<img src=\"image/4.12.png\" alt=\"Figure 4.12\" align=left>"
   ]
  },
  {
   "cell_type": "code",
   "execution_count": 14,
   "metadata": {
    "collapsed": false
   },
   "outputs": [],
   "source": [
    "# Global\n",
    "var('A E I l w theta')\n",
    "var('F_i1 F_j1 F_i2 F_j2 F_i3 F_j3')\n",
    "var('u_i1 u_j1 u_i2 u_j2 u_i3 u_j3');"
   ]
  },
  {
   "cell_type": "code",
   "execution_count": 15,
   "metadata": {
    "collapsed": false
   },
   "outputs": [
    {
     "name": "stdout",
     "output_type": "stream",
     "text": [
      ">>> Axial Stffness Matrix:\n"
     ]
    },
    {
     "data": {
      "text/html": [
       "\\begin{equation}\\begin{aligned}{K_{axial}^{(e)}u_{axial}^{(e)}}={F_{axial}^{(e)}}\\end{aligned}\\end{equation}"
      ],
      "text/plain": [
       "<IPython.core.display.HTML object>"
      ]
     },
     "metadata": {},
     "output_type": "display_data"
    },
    {
     "name": "stdout",
     "output_type": "stream",
     "text": [
      "~~~~~~~~~~~\n"
     ]
    },
    {
     "data": {
      "text/html": [
       "\\begin{equation}\\begin{aligned}{K_{axial}}={\\frac{A E}{l} \\left[\\begin{matrix}1 & -1\\\\-1 & 1\\end{matrix}\\right]}\\end{aligned}\\end{equation}"
      ],
      "text/plain": [
       "<IPython.core.display.HTML object>"
      ]
     },
     "metadata": {},
     "output_type": "display_data"
    },
    {
     "data": {
      "text/html": [
       "\\begin{equation}\\begin{aligned}{F_{axial}}={\\left[\\begin{matrix}F_{i1}\\\\F_{j1}\\end{matrix}\\right]}\\end{aligned}\\end{equation}"
      ],
      "text/plain": [
       "<IPython.core.display.HTML object>"
      ]
     },
     "metadata": {},
     "output_type": "display_data"
    },
    {
     "data": {
      "text/html": [
       "\\begin{equation}\\begin{aligned}{u_{axial}}={\\left[\\begin{matrix}u_{i1}\\\\u_{j1}\\end{matrix}\\right]}\\end{aligned}\\end{equation}"
      ],
      "text/plain": [
       "<IPython.core.display.HTML object>"
      ]
     },
     "metadata": {},
     "output_type": "display_data"
    }
   ],
   "source": [
    "# Axial Stiffness Matrix\n",
    "u_axial = Matrix([u_i1, u_j1])\n",
    "F_axial = Matrix([F_i1, F_j1])\n",
    "K_axial = MatMul(A * E / l, Matrix([[1, -1], [-1, 1]]))\n",
    "\n",
    "print('>>> Axial Stffness Matrix:')\n",
    "eq_disp(r'K_{axial}^{(e)}u_{axial}^{(e)}', 'F_{axial}^{(e)}')\n",
    "print('~~~~~~~~~~~')\n",
    "eq_disp('K_{axial}', K_axial)\n",
    "eq_disp('F_{axial}', F_axial)\n",
    "eq_disp('u_{axial}', u_axial)"
   ]
  },
  {
   "cell_type": "code",
   "execution_count": 16,
   "metadata": {
    "collapsed": false
   },
   "outputs": [
    {
     "name": "stdout",
     "output_type": "stream",
     "text": [
      ">>> XY Stffness Matrix:\n"
     ]
    },
    {
     "data": {
      "text/html": [
       "\\begin{equation}\\begin{aligned}{K_{xy}^{(e)}u_{xy}^{(e)}}={F_{xy}^{(e)}}\\end{aligned}\\end{equation}"
      ],
      "text/plain": [
       "<IPython.core.display.HTML object>"
      ]
     },
     "metadata": {},
     "output_type": "display_data"
    },
    {
     "name": "stdout",
     "output_type": "stream",
     "text": [
      "~~~~~~~~~~~\n"
     ]
    },
    {
     "data": {
      "text/html": [
       "\\begin{equation}\\begin{aligned}{K_{xy}}={\\frac{E I}{l^{3}} \\left[\\begin{matrix}12 & 6 l & -12 & 6 l\\\\6 l & 4 l^{2} & - 6 l & 2 l^{2}\\\\-12 & - 6 l & 12 & - 6 l\\\\6 l & 2 l^{2} & - 6 l & 4 l^{2}\\end{matrix}\\right]}\\end{aligned}\\end{equation}"
      ],
      "text/plain": [
       "<IPython.core.display.HTML object>"
      ]
     },
     "metadata": {},
     "output_type": "display_data"
    },
    {
     "data": {
      "text/html": [
       "\\begin{equation}\\begin{aligned}{F_{xy}}={\\left[\\begin{matrix}F_{i2}\\\\F_{i3}\\\\F_{j2}\\\\F_{j3}\\end{matrix}\\right]}={\\left[\\begin{matrix}\\frac{l w}{2}\\\\\\frac{l^{2} w}{12}\\\\\\frac{l w}{2}\\\\- \\frac{l^{2} w}{12}\\end{matrix}\\right]}\\end{aligned}\\end{equation}"
      ],
      "text/plain": [
       "<IPython.core.display.HTML object>"
      ]
     },
     "metadata": {},
     "output_type": "display_data"
    },
    {
     "data": {
      "text/html": [
       "\\begin{equation}\\begin{aligned}{u_{xy}}={\\left[\\begin{matrix}u_{i2}\\\\u_{i3}\\\\u_{j2}\\\\u_{j3}\\end{matrix}\\right]}\\end{aligned}\\end{equation}"
      ],
      "text/plain": [
       "<IPython.core.display.HTML object>"
      ]
     },
     "metadata": {},
     "output_type": "display_data"
    }
   ],
   "source": [
    "# XY Stiffness Matrix\n",
    "u_xy = Matrix([u_i2, u_i3, u_j2, u_j3])\n",
    "F_xy = Matrix([F_i2, F_i3, F_j2, F_j3])\n",
    "F_xy_ = F_xy.subs([(F_i2, l*w/2), \n",
    "                   (F_i3, l**2*w/12), \n",
    "                   (F_j2, l*w/2), \n",
    "                   (F_j3, -l**2*w/12)])\n",
    "K_xy = MatMul(E * I / l**3, Matrix([[12, 6*l, -12, 6*l], \n",
    "                                    [6*l, 4*l**2, -6*l, 2*l**2],\n",
    "                                    [-12, -6*l, 12, -6*l],\n",
    "                                    [6*l, 2*l**2, -6*l, 4*l**2]]))\n",
    "\n",
    "print('>>> XY Stffness Matrix:')\n",
    "eq_disp(r'K_{xy}^{(e)}u_{xy}^{(e)}', 'F_{xy}^{(e)}')\n",
    "print('~~~~~~~~~~~')\n",
    "eq_disp('K_{xy}', K_xy)\n",
    "eq_disp('F_{xy}', F_xy, F_xy_)\n",
    "eq_disp('u_{xy}', u_xy)"
   ]
  },
  {
   "cell_type": "code",
   "execution_count": 17,
   "metadata": {
    "collapsed": false
   },
   "outputs": [
    {
     "name": "stdout",
     "output_type": "stream",
     "text": [
      ">>> United Stffness Matrix:\n"
     ]
    },
    {
     "data": {
      "text/html": [
       "\\begin{equation}\\begin{aligned}{K_{united}}={\\left[\\begin{matrix}\\frac{A E}{l} & 0 & 0 & - \\frac{A E}{l} & 0 & 0\\\\0 & \\frac{12 E}{l^{3}} I & \\frac{6 E}{l^{2}} I & 0 & - \\frac{12 E}{l^{3}} I & \\frac{6 E}{l^{2}} I\\\\0 & \\frac{6 E}{l^{2}} I & \\frac{4 E}{l} I & 0 & - \\frac{6 E}{l^{2}} I & \\frac{2 E}{l} I\\\\- \\frac{A E}{l} & 0 & 0 & \\frac{A E}{l} & 0 & 0\\\\0 & - \\frac{12 E}{l^{3}} I & - \\frac{6 E}{l^{2}} I & 0 & \\frac{12 E}{l^{3}} I & - \\frac{6 E}{l^{2}} I\\\\0 & \\frac{6 E}{l^{2}} I & \\frac{2 E}{l} I & 0 & - \\frac{6 E}{l^{2}} I & \\frac{4 E}{l} I\\end{matrix}\\right]}\\end{aligned}\\end{equation}"
      ],
      "text/plain": [
       "<IPython.core.display.HTML object>"
      ]
     },
     "metadata": {},
     "output_type": "display_data"
    },
    {
     "data": {
      "text/html": [
       "\\begin{equation}\\begin{aligned}{F_{united}}={\\left[\\begin{matrix}F_{i1}\\\\F_{i2}\\\\F_{i3}\\\\F_{j1}\\\\F_{j2}\\\\F_{j3}\\end{matrix}\\right]}={\\left[\\begin{matrix}F_{i1}\\\\\\frac{l w}{2}\\\\\\frac{l^{2} w}{12}\\\\F_{j1}\\\\\\frac{l w}{2}\\\\- \\frac{l^{2} w}{12}\\end{matrix}\\right]}\\end{aligned}\\end{equation}"
      ],
      "text/plain": [
       "<IPython.core.display.HTML object>"
      ]
     },
     "metadata": {},
     "output_type": "display_data"
    },
    {
     "data": {
      "text/html": [
       "\\begin{equation}\\begin{aligned}{u_{united}}={\\left[\\begin{matrix}u_{i1}\\\\u_{i2}\\\\u_{i3}\\\\u_{j1}\\\\u_{j2}\\\\u_{j3}\\end{matrix}\\right]}\\end{aligned}\\end{equation}"
      ],
      "text/plain": [
       "<IPython.core.display.HTML object>"
      ]
     },
     "metadata": {},
     "output_type": "display_data"
    }
   ],
   "source": [
    "# United Stiffness Matrix\n",
    "u_united = Matrix([u_i1, u_i2, u_i3, u_j1, u_j2, u_j3])\n",
    "F_united = Matrix([F_i1, F_i2, F_i3, F_j1, F_j2, F_j3])\n",
    "F_united_ = F_united.subs([(F_i2, l*w/2), \n",
    "                           (F_i3, l**2*w/12), \n",
    "                           (F_j2, l*w/2), \n",
    "                           (F_j3, -l**2*w/12)])\n",
    "K_united = zeros(6, 6)\n",
    "K_united[0, 0] = K_axial[0, 0]\n",
    "K_united[3, 0] = K_axial[1, 0]\n",
    "K_united[0, 3] = K_axial[0, 1]\n",
    "K_united[3, 3] = K_axial[1, 1]\n",
    "K_united[1:3, 1:3] = K_xy[0:2, 0:2]\n",
    "K_united[4:6, 1:3] = K_xy[2:4, 0:2]\n",
    "K_united[1:3, 4:6] = K_xy[0:2, 2:4]\n",
    "K_united[4:6, 4:6] = K_xy[2:4, 2:4]\n",
    "\n",
    "print('>>> United Stffness Matrix:')\n",
    "eq_disp('K_{united}', K_united)\n",
    "eq_disp('F_{united}', F_united, F_united_)\n",
    "eq_disp('u_{united}', u_united)"
   ]
  },
  {
   "cell_type": "code",
   "execution_count": 18,
   "metadata": {
    "collapsed": false
   },
   "outputs": [
    {
     "name": "stdout",
     "output_type": "stream",
     "text": [
      ">>> Transition Stffness Matrix:\n"
     ]
    },
    {
     "data": {
      "text/html": [
       "\\begin{equation}\\begin{aligned}{T_{united}}={\\left[\\begin{matrix}\\cos{\\left (\\theta \\right )} & \\sin{\\left (\\theta \\right )} & 0 & 0 & 0 & 0\\\\- \\sin{\\left (\\theta \\right )} & \\cos{\\left (\\theta \\right )} & 0 & 0 & 0 & 0\\\\0 & 0 & 1 & 0 & 0 & 0\\\\0 & 0 & 0 & \\cos{\\left (\\theta \\right )} & \\sin{\\left (\\theta \\right )} & 0\\\\0 & 0 & 0 & - \\sin{\\left (\\theta \\right )} & \\cos{\\left (\\theta \\right )} & 0\\\\0 & 0 & 0 & 0 & 0 & 1\\end{matrix}\\right]}\\end{aligned}\\end{equation}"
      ],
      "text/plain": [
       "<IPython.core.display.HTML object>"
      ]
     },
     "metadata": {},
     "output_type": "display_data"
    },
    {
     "name": "stdout",
     "output_type": "stream",
     "text": [
      "~~~~~~~~~~~\n"
     ]
    },
    {
     "data": {
      "text/html": [
       "\\begin{equation}\\begin{aligned}{U}={TU^{(e)}}\\end{aligned}\\end{equation}"
      ],
      "text/plain": [
       "<IPython.core.display.HTML object>"
      ]
     },
     "metadata": {},
     "output_type": "display_data"
    },
    {
     "data": {
      "text/html": [
       "\\begin{equation}\\begin{aligned}{F}={TF^{(e)}}\\end{aligned}\\end{equation}"
      ],
      "text/plain": [
       "<IPython.core.display.HTML object>"
      ]
     },
     "metadata": {},
     "output_type": "display_data"
    },
    {
     "data": {
      "text/html": [
       "\\begin{equation}\\begin{aligned}{KU}={F}\\end{aligned}\\end{equation}"
      ],
      "text/plain": [
       "<IPython.core.display.HTML object>"
      ]
     },
     "metadata": {},
     "output_type": "display_data"
    },
    {
     "data": {
      "text/html": [
       "\\begin{equation}\\begin{aligned}{K^{(e)}U^{(e)}}={F^{(e)}}\\end{aligned}\\end{equation}"
      ],
      "text/plain": [
       "<IPython.core.display.HTML object>"
      ]
     },
     "metadata": {},
     "output_type": "display_data"
    },
    {
     "data": {
      "text/html": [
       "\\begin{equation}\\begin{aligned}{K^{(e)}T^{-1}U}={T^{-1}F}\\end{aligned}\\end{equation}"
      ],
      "text/plain": [
       "<IPython.core.display.HTML object>"
      ]
     },
     "metadata": {},
     "output_type": "display_data"
    },
    {
     "data": {
      "text/html": [
       "\\begin{equation}\\begin{aligned}{TK^{(e)}T^{-1}U}={F}\\end{aligned}\\end{equation}"
      ],
      "text/plain": [
       "<IPython.core.display.HTML object>"
      ]
     },
     "metadata": {},
     "output_type": "display_data"
    },
    {
     "data": {
      "text/html": [
       "\\begin{equation}\\begin{aligned}{TK^{(e)}T^{-1}}={K}\\end{aligned}\\end{equation}"
      ],
      "text/plain": [
       "<IPython.core.display.HTML object>"
      ]
     },
     "metadata": {},
     "output_type": "display_data"
    },
    {
     "data": {
      "text/html": [
       "\\begin{equation}\\begin{aligned}{K^{(e)}}={T^{-1}KT}\\end{aligned}\\end{equation}"
      ],
      "text/plain": [
       "<IPython.core.display.HTML object>"
      ]
     },
     "metadata": {},
     "output_type": "display_data"
    },
    {
     "name": "stdout",
     "output_type": "stream",
     "text": [
      "~~~~~~~~~~~\n"
     ]
    },
    {
     "data": {
      "text/html": [
       "\\begin{equation}\\begin{aligned}{T'U}={U^{(e)}}\\end{aligned}\\end{equation}"
      ],
      "text/plain": [
       "<IPython.core.display.HTML object>"
      ]
     },
     "metadata": {},
     "output_type": "display_data"
    },
    {
     "data": {
      "text/html": [
       "\\begin{equation}\\begin{aligned}{T'F}={F^{(e)}}\\end{aligned}\\end{equation}"
      ],
      "text/plain": [
       "<IPython.core.display.HTML object>"
      ]
     },
     "metadata": {},
     "output_type": "display_data"
    },
    {
     "data": {
      "text/html": [
       "\\begin{equation}\\begin{aligned}{T'}={T^{-1}}\\end{aligned}\\end{equation}"
      ],
      "text/plain": [
       "<IPython.core.display.HTML object>"
      ]
     },
     "metadata": {},
     "output_type": "display_data"
    },
    {
     "data": {
      "text/html": [
       "\\begin{equation}\\begin{aligned}{T'^{-1}K^{(e)}T'}={K}\\end{aligned}\\end{equation}"
      ],
      "text/plain": [
       "<IPython.core.display.HTML object>"
      ]
     },
     "metadata": {},
     "output_type": "display_data"
    },
    {
     "data": {
      "text/html": [
       "\\begin{equation}\\begin{aligned}{K^{(e)}}={T'KT'^{-1}}\\end{aligned}\\end{equation}"
      ],
      "text/plain": [
       "<IPython.core.display.HTML object>"
      ]
     },
     "metadata": {},
     "output_type": "display_data"
    }
   ],
   "source": [
    "# Transition Matrix\n",
    "T_united = zeros(6, 6)\n",
    "T_united[0:2, 0:2] = Matrix([[cos(theta), sin(theta)], \n",
    "                             [-sin(theta), cos(theta)]])\n",
    "T_united[3:5, 3:5] = Matrix([[cos(theta), sin(theta)], \n",
    "                             [-sin(theta), cos(theta)]])\n",
    "T_united[2, 2] = 1\n",
    "T_united[5, 5] = 1\n",
    "\n",
    "print('>>> Transition Stffness Matrix:')\n",
    "eq_disp('T_{united}', T_united)\n",
    "print('~~~~~~~~~~~')\n",
    "eq_disp('U', 'TU^{(e)}')\n",
    "eq_disp('F', 'TF^{(e)}')\n",
    "eq_disp('KU', 'F')\n",
    "eq_disp('K^{(e)}U^{(e)}', 'F^{(e)}')\n",
    "eq_disp('K^{(e)}T^{-1}U', 'T^{-1}F')\n",
    "eq_disp('TK^{(e)}T^{-1}U', 'F')\n",
    "eq_disp('TK^{(e)}T^{-1}', 'K')\n",
    "eq_disp('K^{(e)}', 'T^{-1}KT')\n",
    "print('~~~~~~~~~~~')\n",
    "eq_disp('T\\'U', 'U^{(e)}')\n",
    "eq_disp('T\\'F', 'F^{(e)}')\n",
    "eq_disp('T\\'', 'T^{-1}')\n",
    "eq_disp('T\\'^{-1}K^{(e)}T\\'', 'K')\n",
    "eq_disp('K^{(e)}', 'T\\'KT\\'^{-1}')"
   ]
  }
 ],
 "metadata": {
  "kernelspec": {
   "display_name": "Python 3",
   "language": "python",
   "name": "python3"
  },
  "language_info": {
   "codemirror_mode": {
    "name": "ipython",
    "version": 3
   },
   "file_extension": ".py",
   "mimetype": "text/x-python",
   "name": "python",
   "nbconvert_exporter": "python",
   "pygments_lexer": "ipython3",
   "version": "3.4.3"
  }
 },
 "nbformat": 4,
 "nbformat_minor": 0
}
