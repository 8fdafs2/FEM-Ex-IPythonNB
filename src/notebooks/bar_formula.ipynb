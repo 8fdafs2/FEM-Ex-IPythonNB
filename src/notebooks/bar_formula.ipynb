{
 "cells": [
  {
   "cell_type": "code",
   "execution_count": 12,
   "metadata": {
    "collapsed": false
   },
   "outputs": [
    {
     "name": "stdout",
     "output_type": "stream",
     "text": [
      "IPython console for SymPy 0.7.6 (Python 3.4.3-64-bit) (ground types: gmpy)\n"
     ]
    }
   ],
   "source": [
    "from sympy import *\n",
    "init_session(quiet=True, use_latex='mathjax', use_unicode=True)\n",
    "from IPython.display import HTML, display\n",
    "\n",
    "import os, sys\n",
    "lib_path = os.path.abspath(os.path.join('..', 'src'))\n",
    "sys.path.append(lib_path)\n",
    "\n",
    "from EqDisp import eq_disp, eqs_disp"
   ]
  },
  {
   "cell_type": "markdown",
   "metadata": {
    "slideshow": {
     "slide_type": "-"
    }
   },
   "source": [
    "<img src=\"image/4.7.png\" alt=\"Figure 4.7\" align=left>"
   ]
  },
  {
   "cell_type": "code",
   "execution_count": 13,
   "metadata": {
    "collapsed": false
   },
   "outputs": [],
   "source": [
    "# Global\n",
    "var('c_1 c_2 Y l y')\n",
    "var('u_i u_j Y_i Y_j F_i F_j')\n",
    "var('sigma epsilon V E A k');"
   ]
  },
  {
   "cell_type": "code",
   "execution_count": 14,
   "metadata": {
    "collapsed": false
   },
   "outputs": [
    {
     "name": "stdout",
     "output_type": "stream",
     "text": [
      ">>> Displacement Represented by Shape Function:\n"
     ]
    },
    {
     "data": {
      "text/html": [
       "\\begin{equation}\\begin{aligned}{u_e}={Y c_{2} + c_{1}}\\end{aligned}\\end{equation}"
      ],
      "text/plain": [
       "<IPython.core.display.HTML object>"
      ]
     },
     "metadata": {},
     "output_type": "display_data"
    },
    {
     "name": "stdout",
     "output_type": "stream",
     "text": [
      "~~~~~~~~~~~\n"
     ]
    },
    {
     "data": {
      "text/html": [
       "\\begin{equation}\\begin{aligned}{u_i}={Y_{i} c_{2} + c_{1}}\\end{aligned}\\end{equation}\\begin{equation}\\begin{aligned}{u_j}={Y_{j} c_{2} + c_{1}}\\end{aligned}\\end{equation}"
      ],
      "text/plain": [
       "<IPython.core.display.HTML object>"
      ]
     },
     "metadata": {},
     "output_type": "display_data"
    },
    {
     "name": "stdout",
     "output_type": "stream",
     "text": [
      "~~~~~~~~~~~\n"
     ]
    },
    {
     "data": {
      "text/html": [
       "\\begin{equation}\\begin{aligned}{c_1}={\\frac{Y_{i} u_{j} - Y_{j} u_{i}}{Y_{i} - Y_{j}}}\\end{aligned}\\end{equation}\\begin{equation}\\begin{aligned}{c_2}={\\frac{u_{i} - u_{j}}{Y_{i} - Y_{j}}}\\end{aligned}\\end{equation}"
      ],
      "text/plain": [
       "<IPython.core.display.HTML object>"
      ]
     },
     "metadata": {},
     "output_type": "display_data"
    },
    {
     "data": {
      "text/html": [
       "\\begin{equation}\\begin{aligned}{u_e}={\\frac{Y \\left(u_{i} - u_{j}\\right)}{Y_{i} - Y_{j}} + \\frac{Y_{i} u_{j} - Y_{j} u_{i}}{Y_{i} - Y_{j}}}\\end{aligned}\\end{equation}"
      ],
      "text/plain": [
       "<IPython.core.display.HTML object>"
      ]
     },
     "metadata": {},
     "output_type": "display_data"
    },
    {
     "name": "stdout",
     "output_type": "stream",
     "text": [
      "~~~~~~~~~~~\n"
     ]
    },
    {
     "data": {
      "text/html": [
       "\\begin{equation}\\begin{aligned}{u_e}={S_iu_i + S_ju_j}={\\left[\\begin{matrix}S_{i} & S_{j}\\end{matrix}\\right] \\left[\\begin{matrix}u_{i}\\\\u_{j}\\end{matrix}\\right]}&={\\left[\\begin{matrix}\\frac{Y - Y_{j}}{Y_{i} - Y_{j}} & \\frac{- Y + Y_{i}}{Y_{i} - Y_{j}}\\end{matrix}\\right] \\left[\\begin{matrix}u_{i}\\\\u_{j}\\end{matrix}\\right]}\\\\&={\\left[\\begin{matrix}- \\frac{1}{l} \\left(Y - Y_{j}\\right) & - \\frac{1}{l} \\left(- Y + Y_{i}\\right)\\end{matrix}\\right] \\left[\\begin{matrix}u_{i}\\\\u_{j}\\end{matrix}\\right]}\\\\&={\\left[\\begin{matrix}- \\frac{1}{l} \\left(- l + y\\right) & \\frac{y}{l}\\end{matrix}\\right] \\left[\\begin{matrix}u_{i}\\\\u_{j}\\end{matrix}\\right]}\\end{aligned}\\end{equation}"
      ],
      "text/plain": [
       "<IPython.core.display.HTML object>"
      ]
     },
     "metadata": {},
     "output_type": "display_data"
    },
    {
     "name": "stdout",
     "output_type": "stream",
     "text": [
      "~~~~~~~~~~~\n"
     ]
    },
    {
     "data": {
      "text/html": [
       "\\begin{equation}\\begin{aligned}{u_e}={S_iu_i + S_ju_j}={\\frac{1}{l} \\left(u_{i} \\left(l - y\\right) + u_{j} y\\right)}\\end{aligned}\\end{equation}"
      ],
      "text/plain": [
       "<IPython.core.display.HTML object>"
      ]
     },
     "metadata": {},
     "output_type": "display_data"
    }
   ],
   "source": [
    "# Displacement Represented by Shape Function\n",
    "print('>>> Displacement Represented by Shape Function:')\n",
    "eq_disp('u_e', c_1 + c_2 * Y)\n",
    "print('~~~~~~~~~~~')\n",
    "eqs_disp(['u_i', c_1 + c_2 * Y_i], ['u_j', c_1 + c_2 * Y_j], inline=False)\n",
    "\n",
    "Eq_1 = c_1 + c_2 * Y_i - u_i\n",
    "Eq_2 = c_1 + c_2 * Y_j - u_j\n",
    "\n",
    "sol = solve([Eq_1, Eq_2], [c_1, c_2])\n",
    "\n",
    "c_1, c_2 = sol[c_1], sol[c_2]\n",
    "\n",
    "print('~~~~~~~~~~~')\n",
    "eqs_disp(['c_1', c_1], \n",
    "         ['c_2', c_2], \n",
    "         inline=False)\n",
    "\n",
    "u_e = c_1 + c_2 * Y\n",
    "eq_disp('u_e', u_e)\n",
    "\n",
    "u_e = expand(u_e)\n",
    "\n",
    "S_i = simplify(u_e.coeff(u_i))\n",
    "S_j = simplify(u_e.coeff(u_j))\n",
    "\n",
    "S_i_ = S_i.subs(Y_j - Y_i, l)\n",
    "S_j_ = S_j.subs(Y_j - Y_i, l)\n",
    "\n",
    "S_i__ = S_i_.subs(Y_j - Y, l - y)\n",
    "S_j__ = S_j_.subs(Y - Y_i, y)\n",
    "\n",
    "u_e_vec = Matrix([u_i, u_j])\n",
    "\n",
    "print('~~~~~~~~~~~')\n",
    "eq_disp('u_e',\n",
    "        'S_iu_i + S_ju_j',\n",
    "        MatMul(Matrix(1, 2, ['S_i', 'S_j']), u_e_vec),\n",
    "        MatMul(Matrix(1, 2, [S_i, S_j]), u_e_vec), True,\n",
    "        MatMul(Matrix(1, 2, [S_i_, S_j_]), u_e_vec), True,\n",
    "        MatMul(Matrix(1, 2, [S_i__, S_j__]), u_e_vec))\n",
    "\n",
    "S_i = S_i__\n",
    "S_j = S_j__\n",
    "\n",
    "u_e = simplify(S_i * u_i + S_j * u_j)\n",
    "\n",
    "print('~~~~~~~~~~~')\n",
    "\n",
    "eq_disp('u_e',\n",
    "        'S_iu_i + S_ju_j',\n",
    "        u_e)"
   ]
  },
  {
   "cell_type": "code",
   "execution_count": 15,
   "metadata": {
    "collapsed": false
   },
   "outputs": [
    {
     "name": "stdout",
     "output_type": "stream",
     "text": [
      ">>> Strain Energy:\n"
     ]
    },
    {
     "data": {
      "text/html": [
       "\\begin{equation}\\begin{aligned}{\\epsilon}={\\frac{d}{d y} u_{e}}={\\frac{\\partial}{\\partial y}\\left(\\frac{1}{l} \\left(u_{i} \\left(l - y\\right) + u_{j} y\\right)\\right)}={\\frac{1}{l} \\left(- u_{i} + u_{j}\\right)}\\end{aligned}\\end{equation}"
      ],
      "text/plain": [
       "<IPython.core.display.HTML object>"
      ]
     },
     "metadata": {},
     "output_type": "display_data"
    },
    {
     "name": "stdout",
     "output_type": "stream",
     "text": [
      "~~~~~~~~~~~\n"
     ]
    },
    {
     "data": {
      "text/html": [
       "\\begin{equation}\\begin{aligned}{\\Lambda^{(e)}}={\\int \\frac{\\epsilon \\sigma}{2}\\, dV}={\\int \\frac{E \\epsilon^{2}}{2}\\, dV}={\\int \\frac{E}{2 l^{2}} \\left(- u_{i} + u_{j}\\right)^{2}\\, dV}={\\frac{A E}{2 l} \\left(- u_{i} + u_{j}\\right)^{2}}\\end{aligned}\\end{equation}"
      ],
      "text/plain": [
       "<IPython.core.display.HTML object>"
      ]
     },
     "metadata": {},
     "output_type": "display_data"
    }
   ],
   "source": [
    "# Strain Energy\n",
    "epsilon_ = Derivative('u_e', y)\n",
    "epsilon__ = Derivative(u_e, y)\n",
    "epsilon___ = epsilon__.doit()\n",
    "\n",
    "Lambda = Integral(sigma * epsilon / 2, [V,])\n",
    "Lambda_ = Lambda.subs(sigma, E * epsilon)\n",
    "Lambda__ = Lambda_.subs(epsilon, epsilon___)\n",
    "Lambda___ = E * epsilon___ ** 2 / 2 * A * l\n",
    "\n",
    "print('>>> Strain Energy:')\n",
    "eq_disp(r'\\epsilon',\n",
    "        epsilon_,\n",
    "        epsilon__,\n",
    "        epsilon___)\n",
    "print('~~~~~~~~~~~')\n",
    "eq_disp(r'\\Lambda^{(e)}',\n",
    "        Lambda,\n",
    "        Lambda_,\n",
    "        Lambda__,\n",
    "        Lambda___)"
   ]
  },
  {
   "cell_type": "code",
   "execution_count": 16,
   "metadata": {
    "collapsed": false
   },
   "outputs": [
    {
     "name": "stdout",
     "output_type": "stream",
     "text": [
      ">>> Stffness Matrix:\n"
     ]
    },
    {
     "data": {
      "text/html": [
       "\\begin{equation}\\begin{aligned}{\\Pi}={\\sum_{e=1}^{n} \\Lambda^{(e)} - \\sum_{k=1}^{m} F_ku_k}\\end{aligned}\\end{equation}"
      ],
      "text/plain": [
       "<IPython.core.display.HTML object>"
      ]
     },
     "metadata": {},
     "output_type": "display_data"
    },
    {
     "data": {
      "text/html": [
       "\\begin{equation}\\begin{aligned}{\\frac{\\partial \\Pi}{\\partial u_k}}={\\frac{\\partial}{\\partial u_k} \\sum_{e=1}^{n} \\Lambda^{(e)} - \\frac{\\partial}{\\partial u_k} \\sum_{i=k}^{m} F_ku_k}={0, \\,\\,\\,\\,\\,\\, k = 1,2,3,...,m}\\end{aligned}\\end{equation}"
      ],
      "text/plain": [
       "<IPython.core.display.HTML object>"
      ]
     },
     "metadata": {},
     "output_type": "display_data"
    },
    {
     "data": {
      "text/html": [
       "\\begin{equation}\\begin{aligned}{\\left[\\begin{matrix}\\frac{d}{d u_{i}} \\Lambda\\\\\\frac{d}{d u_{j}} \\Lambda\\end{matrix}\\right]}={\\left[\\begin{matrix}\\frac{A E}{l} \\left(u_{i} - u_{j}\\right)\\\\- \\frac{A E}{l} \\left(u_{i} - u_{j}\\right)\\end{matrix}\\right]}&={\\frac{A E}{l} \\left[\\begin{matrix}1 & -1\\\\-1 & 1\\end{matrix}\\right] \\left[\\begin{matrix}u_{i}\\\\u_{j}\\end{matrix}\\right]}\\\\&={\\left[\\begin{matrix}k & - k\\\\- k & k\\end{matrix}\\right] \\left[\\begin{matrix}u_{i}\\\\u_{j}\\end{matrix}\\right]}\\\\&={K^{(e)}U^{(e)}}\\\\&={\\left[\\begin{matrix}F_{i}\\\\F_{j}\\end{matrix}\\right]}={F^{(e)}}\\end{aligned}\\end{equation}"
      ],
      "text/plain": [
       "<IPython.core.display.HTML object>"
      ]
     },
     "metadata": {},
     "output_type": "display_data"
    }
   ],
   "source": [
    "# Stiffness Matrix\n",
    "print('>>> Stffness Matrix:')\n",
    "eq_disp(r'\\Pi',\n",
    "        r'\\sum_{e=1}^{n} \\Lambda^{(e)} - \\sum_{k=1}^{m} F_ku_k')\n",
    "\n",
    "eq_disp(r'\\frac{\\partial \\Pi}{\\partial u_k}',\n",
    "        r'\\frac{\\partial}{\\partial u_k} \\sum_{e=1}^{n} \\Lambda^{(e)} - \\frac{\\partial}{\\partial u_k} \\sum_{i=k}^{m} F_ku_k',\n",
    "        r'0, \\,\\,\\,\\,\\,\\, k = 1,2,3,...,m')\n",
    "\n",
    "eq_disp(Matrix([Derivative(symbols(r'\\Lambda'), u_i), Derivative(symbols(r'\\Lambda'), u_j)]),\n",
    "        Matrix([simplify(diff(Lambda___, u_i).doit()), simplify(diff(Lambda___, u_j).doit())]),\n",
    "        MatMul(MatMul(A * E / l, Matrix([[1, -1], [-1, 1]])), Matrix([u_i, u_j])), True,\n",
    "        MatMul(Matrix([[k, -k], [-k, k]]), Matrix([u_i, u_j])), True,\n",
    "        'K^{(e)}U^{(e)}', True,\n",
    "        Matrix([F_i, F_j]),\n",
    "        'F^{(e)}')"
   ]
  },
  {
   "cell_type": "code",
   "execution_count": null,
   "metadata": {
    "collapsed": true
   },
   "outputs": [],
   "source": []
  }
 ],
 "metadata": {
  "kernelspec": {
   "display_name": "Python 3",
   "language": "python",
   "name": "python3"
  },
  "language_info": {
   "codemirror_mode": {
    "name": "ipython",
    "version": 3
   },
   "file_extension": ".py",
   "mimetype": "text/x-python",
   "name": "python",
   "nbconvert_exporter": "python",
   "pygments_lexer": "ipython3",
   "version": "3.4.3"
  }
 },
 "nbformat": 4,
 "nbformat_minor": 0
}
