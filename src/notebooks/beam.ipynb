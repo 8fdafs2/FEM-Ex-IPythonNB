{
 "cells": [
  {
   "cell_type": "code",
   "execution_count": 16,
   "metadata": {
    "collapsed": false
   },
   "outputs": [
    {
     "name": "stdout",
     "output_type": "stream",
     "text": [
      "IPython console for SymPy 0.7.6 (Python 3.4.3-64-bit) (ground types: gmpy)\n"
     ]
    }
   ],
   "source": [
    "from sympy import *\n",
    "init_session(quiet=True, use_latex='mathjax', use_unicode=True)\n",
    "from IPython.display import HTML, display\n",
    "\n",
    "import os, sys\n",
    "lib_path = os.path.abspath(os.path.join('..', 'src'))\n",
    "sys.path.append(lib_path)\n",
    "\n",
    "from EqDisp import eq_disp, eqs_disp"
   ]
  },
  {
   "cell_type": "markdown",
   "metadata": {
    "slideshow": {
     "slide_type": "-"
    }
   },
   "source": [
    "<img src=\"image/4.4.png\" alt=\"Figure 4.4\" align=left>"
   ]
  },
  {
   "cell_type": "code",
   "execution_count": 17,
   "metadata": {
    "collapsed": false
   },
   "outputs": [],
   "source": [
    "# Global\n",
    "var('E')\n",
    "# Element\n",
    "var('A_1 A_2')\n",
    "var('I_1 I_2')\n",
    "var('l_1 l_2')\n",
    "var('w_1 w_2')\n",
    "# Node\n",
    "var('U_11 U_12 U_21 U_22 U_31 U_32')\n",
    "var('R_11 R_12 R_21 R_22 R_31 R_32');"
   ]
  },
  {
   "cell_type": "code",
   "execution_count": 18,
   "metadata": {
    "collapsed": true
   },
   "outputs": [],
   "source": [
    "# Predefined Value\n",
    "E_val = 200e9\n",
    "w_1_val = w_2_val = -25000\n",
    "I_1_val = I_2_val = 1.186e-4\n",
    "l_1_val, l_2_val = 5, 2.5"
   ]
  },
  {
   "cell_type": "code",
   "execution_count": 19,
   "metadata": {
    "collapsed": false,
    "scrolled": false
   },
   "outputs": [
    {
     "name": "stdout",
     "output_type": "stream",
     "text": [
      ">>> Global Stiffness Matrix:\n"
     ]
    },
    {
     "data": {
      "text/html": [
       "\\({K_1}={\\frac{E I_{1}}{l_{1}^{3}} \\left[\\begin{matrix}12 & 6 l_{1} & -12 & 6 l_{1}\\\\6 l_{1} & 4 l_{1}^{2} & - 6 l_{1} & 2 l_{1}^{2}\\\\-12 & - 6 l_{1} & 12 & - 6 l_{1}\\\\6 l_{1} & 2 l_{1}^{2} & - 6 l_{1} & 4 l_{1}^{2}\\end{matrix}\\right]}\\)$\\,\\,\\,\\,\\,$\\({K_2}={\\frac{E I_{2}}{l_{2}^{3}} \\left[\\begin{matrix}12 & 6 l_{2} & -12 & 6 l_{2}\\\\6 l_{2} & 4 l_{2}^{2} & - 6 l_{2} & 2 l_{2}^{2}\\\\-12 & - 6 l_{2} & 12 & - 6 l_{2}\\\\6 l_{2} & 2 l_{2}^{2} & - 6 l_{2} & 4 l_{2}^{2}\\end{matrix}\\right]}\\)"
      ],
      "text/plain": [
       "<IPython.core.display.HTML object>"
      ]
     },
     "metadata": {},
     "output_type": "display_data"
    },
    {
     "data": {
      "text/html": [
       "\\begin{equation}\\begin{aligned}{[K_G]}={\\left[\\begin{matrix}\\frac{12 E}{l_{1}^{3}} I_{1} & \\frac{6 E}{l_{1}^{2}} I_{1} & - \\frac{12 E}{l_{1}^{3}} I_{1} & \\frac{6 E}{l_{1}^{2}} I_{1} & 0 & 0\\\\\\frac{6 E}{l_{1}^{2}} I_{1} & \\frac{4 E}{l_{1}} I_{1} & - \\frac{6 E}{l_{1}^{2}} I_{1} & \\frac{2 E}{l_{1}} I_{1} & 0 & 0\\\\- \\frac{12 E}{l_{1}^{3}} I_{1} & - \\frac{6 E}{l_{1}^{2}} I_{1} & \\frac{12 E}{l_{1}^{3}} I_{1} + \\frac{12 E}{l_{2}^{3}} I_{2} & - \\frac{6 E}{l_{1}^{2}} I_{1} + \\frac{6 E}{l_{2}^{2}} I_{2} & - \\frac{12 E}{l_{2}^{3}} I_{2} & \\frac{6 E}{l_{2}^{2}} I_{2}\\\\\\frac{6 E}{l_{1}^{2}} I_{1} & \\frac{2 E}{l_{1}} I_{1} & - \\frac{6 E}{l_{1}^{2}} I_{1} + \\frac{6 E}{l_{2}^{2}} I_{2} & \\frac{4 E}{l_{1}} I_{1} + \\frac{4 E}{l_{2}} I_{2} & - \\frac{6 E}{l_{2}^{2}} I_{2} & \\frac{2 E}{l_{2}} I_{2}\\\\0 & 0 & - \\frac{12 E}{l_{2}^{3}} I_{2} & - \\frac{6 E}{l_{2}^{2}} I_{2} & \\frac{12 E}{l_{2}^{3}} I_{2} & - \\frac{6 E}{l_{2}^{2}} I_{2}\\\\0 & 0 & \\frac{6 E}{l_{2}^{2}} I_{2} & \\frac{2 E}{l_{2}} I_{2} & - \\frac{6 E}{l_{2}^{2}} I_{2} & \\frac{4 E}{l_{2}} I_{2}\\end{matrix}\\right]}\\end{aligned}\\end{equation}"
      ],
      "text/plain": [
       "<IPython.core.display.HTML object>"
      ]
     },
     "metadata": {},
     "output_type": "display_data"
    },
    {
     "name": "stdout",
     "output_type": "stream",
     "text": [
      ">>> Global External Force Vector:\n"
     ]
    },
    {
     "data": {
      "text/html": [
       "\\({F_1}={\\left[\\begin{matrix}\\frac{l_{1} w_{1}}{2}\\\\\\frac{l_{1}^{2} w_{1}}{12}\\\\\\frac{l_{1} w_{1}}{2}\\\\- \\frac{l_{1}^{2} w_{1}}{12}\\end{matrix}\\right]}\\)$\\,\\,\\,\\,\\,$\\({F_2}={\\left[\\begin{matrix}\\frac{l_{2} w_{2}}{2}\\\\\\frac{l_{2}^{2} w_{2}}{12}\\\\\\frac{l_{2} w_{2}}{2}\\\\- \\frac{l_{2}^{2} w_{2}}{12}\\end{matrix}\\right]}\\)"
      ],
      "text/plain": [
       "<IPython.core.display.HTML object>"
      ]
     },
     "metadata": {},
     "output_type": "display_data"
    },
    {
     "data": {
      "text/html": [
       "\\begin{equation}\\begin{aligned}{[F_G]}={\\left[\\begin{matrix}\\frac{l_{1} w_{1}}{2}\\\\\\frac{l_{1}^{2} w_{1}}{12}\\\\\\frac{l_{1} w_{1}}{2} + \\frac{l_{2} w_{2}}{2}\\\\- \\frac{l_{1}^{2} w_{1}}{12} + \\frac{l_{2}^{2} w_{2}}{12}\\\\\\frac{l_{2} w_{2}}{2}\\\\- \\frac{l_{2}^{2} w_{2}}{12}\\end{matrix}\\right]}\\end{aligned}\\end{equation}"
      ],
      "text/plain": [
       "<IPython.core.display.HTML object>"
      ]
     },
     "metadata": {},
     "output_type": "display_data"
    },
    {
     "name": "stdout",
     "output_type": "stream",
     "text": [
      ">>> Global Displacement Vector:\n"
     ]
    },
    {
     "data": {
      "text/html": [
       "\\({U_1}={\\left[\\begin{matrix}U_{11}\\\\U_{12}\\\\U_{21}\\\\U_{22}\\end{matrix}\\right]}\\)$\\,\\,\\,\\,\\,$\\({U_2}={\\left[\\begin{matrix}U_{21}\\\\U_{22}\\\\U_{31}\\\\U_{32}\\end{matrix}\\right]}\\)"
      ],
      "text/plain": [
       "<IPython.core.display.HTML object>"
      ]
     },
     "metadata": {},
     "output_type": "display_data"
    },
    {
     "data": {
      "text/html": [
       "\\begin{equation}\\begin{aligned}{[U_G]}={\\left[\\begin{matrix}U_{11}\\\\U_{12}\\\\U_{21}\\\\U_{22}\\\\U_{31}\\\\U_{32}\\end{matrix}\\right]}\\end{aligned}\\end{equation}"
      ],
      "text/plain": [
       "<IPython.core.display.HTML object>"
      ]
     },
     "metadata": {},
     "output_type": "display_data"
    },
    {
     "name": "stdout",
     "output_type": "stream",
     "text": [
      ">>> Global Reaction Force Vector:\n"
     ]
    },
    {
     "data": {
      "text/html": [
       "\\({R_1}={\\left[\\begin{matrix}R_{11}\\\\R_{12}\\\\R_{21}\\\\R_{22}\\end{matrix}\\right]}\\)$\\,\\,\\,\\,\\,$\\({R_2}={\\left[\\begin{matrix}R_{21}\\\\R_{22}\\\\R_{31}\\\\R_{32}\\end{matrix}\\right]}\\)"
      ],
      "text/plain": [
       "<IPython.core.display.HTML object>"
      ]
     },
     "metadata": {},
     "output_type": "display_data"
    },
    {
     "data": {
      "text/html": [
       "\\begin{equation}\\begin{aligned}{[R_G]}={\\left[\\begin{matrix}R_{11}\\\\R_{12}\\\\R_{21}\\\\R_{22}\\\\R_{31}\\\\R_{32}\\end{matrix}\\right]}\\end{aligned}\\end{equation}"
      ],
      "text/plain": [
       "<IPython.core.display.HTML object>"
      ]
     },
     "metadata": {},
     "output_type": "display_data"
    }
   ],
   "source": [
    "# Global Vector & Matrix\n",
    "K_1 = MatMul(E*I_1/l_1**3, Matrix([[12, 6*l_1, -12, 6*l_1], \n",
    "                                 [6*l_1, 4*l_1**2, -6*l_1, 2*l_1**2],\n",
    "                                 [-12, -6*l_1, 12, -6*l_1],\n",
    "                                 [6*l_1, 2*l_1**2, -6*l_1, 4*l_1**2]]))\n",
    "K_2 = K_1.subs([(l_1, l_2), (I_1, I_2)])\n",
    "K_G = zeros(6, 6)\n",
    "K_G[0:4, 0:4] += K_1\n",
    "K_G[2:6, 2:6] += K_2\n",
    "\n",
    "F_1 = Matrix(4, 1, [w_1*l_1/2, w_1*l_1**2/12, w_1*l_1/2, -w_1*l_1**2/12])\n",
    "F_2 = Matrix(4, 1, [w_2*l_2/2, w_2*l_2**2/12, w_2*l_2/2, -w_2*l_2**2/12])\n",
    "F_G = zeros(6, 1)\n",
    "F_G[0:4, 0] += F_1\n",
    "F_G[2:6, 0] += F_2\n",
    "\n",
    "U_1 = Matrix(4, 1, [U_11, U_12, U_21, U_22])\n",
    "U_2 = Matrix(4, 1, [U_21, U_22, U_31, U_32])\n",
    "U_G = Matrix(6, 1, [U_11, U_12, U_21, U_22, U_31, U_32])\n",
    "\n",
    "R_1 = Matrix(4, 1, [R_11, R_12, R_21, R_22])\n",
    "R_2 = Matrix(4, 1, [R_21, R_22, R_31, R_32])\n",
    "R_G = Matrix(6, 1, [R_11, R_12, R_21, R_22, R_31, R_32])\n",
    "\n",
    "print('>>> Global Stiffness Matrix:')\n",
    "eqs_disp(['K_1', K_1], ['K_2', K_2])\n",
    "eq_disp('[K_G]', K_G)\n",
    "print('>>> Global External Force Vector:')\n",
    "eqs_disp(['F_1', F_1], ['F_2', F_2])\n",
    "eq_disp('[F_G]', F_G)\n",
    "print('>>> Global Displacement Vector:')\n",
    "eqs_disp(['U_1', U_1], ['U_2', U_2])\n",
    "eq_disp('[U_G]', U_G)\n",
    "print('>>> Global Reaction Force Vector:')\n",
    "eqs_disp(['R_1', R_1], ['R_2', R_2])\n",
    "eq_disp('[R_G]', R_G)"
   ]
  },
  {
   "cell_type": "code",
   "execution_count": 20,
   "metadata": {
    "collapsed": false,
    "scrolled": true
   },
   "outputs": [
    {
     "name": "stdout",
     "output_type": "stream",
     "text": [
      ">>> Global Stiffness Matrix (Reaction Force Eliminated):\n"
     ]
    },
    {
     "data": {
      "text/html": [
       "\\begin{equation}\\begin{aligned}{[K_{GM}]}={\\left[\\begin{matrix}1 & 0 & 0 & 0 & 0 & 0\\\\0 & 1 & 0 & 0 & 0 & 0\\\\0 & 0 & 1 & 0 & 0 & 0\\\\0 & 0 & 0 & 56928000.0 & -22771200.0 & 18976000.0\\\\0 & 0 & 0 & -22771200.0 & 18216960.0 & -22771200.0\\\\0 & 0 & 0 & 18976000.0 & -22771200.0 & 37952000.0\\end{matrix}\\right]}\\end{aligned}\\end{equation}"
      ],
      "text/plain": [
       "<IPython.core.display.HTML object>"
      ]
     },
     "metadata": {},
     "output_type": "display_data"
    }
   ],
   "source": [
    "# Global Stiffness Matrix (Reaction Force Eliminated)\n",
    "K_G_val = K_G.subs([(I_1, I_1_val), (I_2, I_2_val),\n",
    "                    (E, E_val),\n",
    "                    (l_1, l_1_val), (l_2, l_2_val)])\n",
    "\n",
    "K_GM_val = Matrix(K_G_val)\n",
    "K_GM_val[0:3, 0:3] = eye(3)\n",
    "K_GM_val[0:3, 3:6] = zeros(3, 3)\n",
    "K_GM_val[3:6, 0:3] = zeros(3, 3)\n",
    "\n",
    "print('>>> Global Stiffness Matrix (Reaction Force Eliminated):')\n",
    "eq_disp('[K_{GM}]', K_GM_val)"
   ]
  },
  {
   "cell_type": "code",
   "execution_count": 21,
   "metadata": {
    "collapsed": false
   },
   "outputs": [
    {
     "name": "stdout",
     "output_type": "stream",
     "text": [
      ">>> Global External Force Vector:\n"
     ]
    },
    {
     "data": {
      "text/html": [
       "\\begin{equation}\\begin{aligned}{\\{F_G\\}}={\\left[\\begin{matrix}-62500.0\\\\-52083.3333333333\\\\-93750.0\\\\39062.5\\\\-31250.0\\\\13020.8333333333\\end{matrix}\\right]}\\end{aligned}\\end{equation}"
      ],
      "text/plain": [
       "<IPython.core.display.HTML object>"
      ]
     },
     "metadata": {},
     "output_type": "display_data"
    },
    {
     "data": {
      "text/html": [
       "\\begin{equation}\\begin{aligned}{\\{F_{GM}\\}}={\\left[\\begin{matrix}0\\\\0\\\\0\\\\39062.5\\\\-31250.0\\\\13020.8333333333\\end{matrix}\\right]}\\end{aligned}\\end{equation}"
      ],
      "text/plain": [
       "<IPython.core.display.HTML object>"
      ]
     },
     "metadata": {},
     "output_type": "display_data"
    },
    {
     "name": "stdout",
     "output_type": "stream",
     "text": [
      ">>> Global Displacement Vector:\n"
     ]
    },
    {
     "data": {
      "text/html": [
       "\\begin{equation}\\begin{aligned}{\\{U_G\\}}={\\left[\\begin{matrix}0\\\\0\\\\0\\\\-0.00137234752670039\\\\-0.00857717204187746\\\\-0.00411704258010118\\end{matrix}\\right]}\\end{aligned}\\end{equation}"
      ],
      "text/plain": [
       "<IPython.core.display.HTML object>"
      ]
     },
     "metadata": {},
     "output_type": "display_data"
    },
    {
     "name": "stdout",
     "output_type": "stream",
     "text": [
      ">>> Global Reaction Force Vector:\n"
     ]
    },
    {
     "data": {
      "text/html": [
       "\\begin{equation}\\begin{aligned}{\\{R_G\\}}={\\left[\\begin{matrix}54687.5\\\\39062.5\\\\132812.5\\\\1.45519152283669 \\cdot 10^{-11}\\\\-2.91038304567337 \\cdot 10^{-11}\\\\3.8198777474463 \\cdot 10^{-11}\\end{matrix}\\right]}\\end{aligned}\\end{equation}"
      ],
      "text/plain": [
       "<IPython.core.display.HTML object>"
      ]
     },
     "metadata": {},
     "output_type": "display_data"
    }
   ],
   "source": [
    "# Solve\n",
    "F_G_val = F_G.subs([(w_1, w_1_val), (w_2, w_2_val), (l_1, l_1_val), (l_2, l_2_val)])\n",
    "\n",
    "F_GM_val = Matrix(F_G_val)\n",
    "F_GM_val[0:3, 0] = Matrix(3, 1, [0, 0, 0])\n",
    "\n",
    "U_G_val = K_GM_val ** -1 * F_GM_val\n",
    "R_G_val = K_G_val * U_G_val - F_G_val\n",
    "\n",
    "print('>>> Global External Force Vector:')\n",
    "eq_disp('\\{F_G\\}', F_G_val.evalf())\n",
    "eq_disp('\\{F_{GM}\\}', F_GM_val.evalf())\n",
    "print('>>> Global Displacement Vector:')\n",
    "eq_disp('\\{U_G\\}', U_G_val)\n",
    "print('>>> Global Reaction Force Vector:')\n",
    "eq_disp('\\{R_G\\}', R_G_val)"
   ]
  }
 ],
 "metadata": {
  "kernelspec": {
   "display_name": "Python 3",
   "language": "python",
   "name": "python3"
  },
  "language_info": {
   "codemirror_mode": {
    "name": "ipython",
    "version": 3
   },
   "file_extension": ".py",
   "mimetype": "text/x-python",
   "name": "python",
   "nbconvert_exporter": "python",
   "pygments_lexer": "ipython3",
   "version": "3.4.3"
  }
 },
 "nbformat": 4,
 "nbformat_minor": 0
}
