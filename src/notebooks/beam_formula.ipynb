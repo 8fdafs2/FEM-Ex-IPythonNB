{
 "cells": [
  {
   "cell_type": "code",
   "execution_count": 15,
   "metadata": {
    "collapsed": false
   },
   "outputs": [
    {
     "name": "stdout",
     "output_type": "stream",
     "text": [
      "IPython console for SymPy 0.7.6 (Python 3.4.3-64-bit) (ground types: gmpy)\n"
     ]
    }
   ],
   "source": [
    "from sympy import *\n",
    "init_session(quiet=True, use_latex='mathjax', use_unicode=True)\n",
    "from IPython.display import HTML, display\n",
    "\n",
    "import os, sys\n",
    "lib_path = os.path.abspath(os.path.join('..', 'src'))\n",
    "sys.path.append(lib_path)\n",
    "\n",
    "from EqDisp import eq_disp, eqs_disp"
   ]
  },
  {
   "cell_type": "markdown",
   "metadata": {
    "slideshow": {
     "slide_type": "-"
    }
   },
   "source": [
    "<img src=\"image/4.8.png\" alt=\"Figure 4.8\" align=left>\n",
    "<img src=\"image/4.9.png\" alt=\"Figure 4.9\" align=left>"
   ]
  },
  {
   "cell_type": "code",
   "execution_count": 16,
   "metadata": {
    "collapsed": false
   },
   "outputs": [],
   "source": [
    "# Global\n",
    "var('c_1 c_2 c_3 c_4 l x')\n",
    "var('U_i1 U_i2 U_j1 U_j2')\n",
    "var('w R_1 M_1 R_2 M_2')\n",
    "var('sigma epsilon V E A I D U');"
   ]
  },
  {
   "cell_type": "code",
   "execution_count": 17,
   "metadata": {
    "collapsed": false,
    "scrolled": true
   },
   "outputs": [
    {
     "name": "stdout",
     "output_type": "stream",
     "text": [
      ">>> Displacement Represented by Shape Function:\n"
     ]
    },
    {
     "data": {
      "text/html": [
       "\\begin{equation}\\begin{aligned}{v_e}={c_{1} + c_{2} x + c_{3} x^{2} + c_{4} x^{3}}\\end{aligned}\\end{equation}"
      ],
      "text/plain": [
       "<IPython.core.display.HTML object>"
      ]
     },
     "metadata": {},
     "output_type": "display_data"
    },
    {
     "name": "stdout",
     "output_type": "stream",
     "text": [
      "~~~~~~~~~~~\n"
     ]
    },
    {
     "data": {
      "text/html": [
       "\\begin{equation}\\begin{aligned}{U_{i1}}={c_{1}}\\end{aligned}\\end{equation}\\begin{equation}\\begin{aligned}{U_{i2}}={c_{2}}\\end{aligned}\\end{equation}\\begin{equation}\\begin{aligned}{U_{j1}}={c_{1} + c_{2} l + c_{3} l^{2} + c_{4} l^{3}}\\end{aligned}\\end{equation}\\begin{equation}\\begin{aligned}{U_{j2}}={c_{2} + 2 c_{3} l + 3 c_{4} l^{2}}\\end{aligned}\\end{equation}"
      ],
      "text/plain": [
       "<IPython.core.display.HTML object>"
      ]
     },
     "metadata": {},
     "output_type": "display_data"
    },
    {
     "name": "stdout",
     "output_type": "stream",
     "text": [
      "~~~~~~~~~~~\n"
     ]
    },
    {
     "data": {
      "text/html": [
       "\\begin{equation}\\begin{aligned}{c_1}={U_{i1}}\\end{aligned}\\end{equation}\\begin{equation}\\begin{aligned}{c_2}={U_{i2}}\\end{aligned}\\end{equation}\\begin{equation}\\begin{aligned}{c_3}={\\frac{1}{l^{2}} \\left(- 3 U_{i1} + 3 U_{j1} - l \\left(2 U_{i2} + U_{j2}\\right)\\right)}\\end{aligned}\\end{equation}\\begin{equation}\\begin{aligned}{c_4}={\\frac{1}{l^{3}} \\left(2 U_{i1} - 2 U_{j1} + l \\left(U_{i2} + U_{j2}\\right)\\right)}\\end{aligned}\\end{equation}"
      ],
      "text/plain": [
       "<IPython.core.display.HTML object>"
      ]
     },
     "metadata": {},
     "output_type": "display_data"
    },
    {
     "data": {
      "text/html": [
       "\\begin{equation}\\begin{aligned}{v_e}={U_{i1} + U_{i2} x + \\frac{x^{2}}{l^{2}} \\left(- 3 U_{i1} + 3 U_{j1} - l \\left(2 U_{i2} + U_{j2}\\right)\\right) + \\frac{x^{3}}{l^{3}} \\left(2 U_{i1} - 2 U_{j1} + l \\left(U_{i2} + U_{j2}\\right)\\right)}\\end{aligned}\\end{equation}"
      ],
      "text/plain": [
       "<IPython.core.display.HTML object>"
      ]
     },
     "metadata": {},
     "output_type": "display_data"
    },
    {
     "name": "stdout",
     "output_type": "stream",
     "text": [
      "~~~~~~~~~~~\n"
     ]
    },
    {
     "data": {
      "text/html": [
       "\\begin{equation}\\begin{aligned}{v_e}&={S_{i1}U_{i1} + S_{i2}U_{i2} + S_{j1}U_{j1} + S_{j2}U_{j2}}\\\\&={\\left[\\begin{matrix}S_{{i1}} & S_{{i2}} & S_{{j1}} & S_{{j2}}\\end{matrix}\\right] \\left[\\begin{matrix}U_{i1}\\\\U_{i2}\\\\U_{j1}\\\\U_{j2}\\end{matrix}\\right]}\\\\&={\\left[\\begin{matrix}\\frac{1}{l^{3}} \\left(l^{3} - 3 l x^{2} + 2 x^{3}\\right) & x - \\frac{2 x^{2}}{l} + \\frac{x^{3}}{l^{2}} & \\frac{x^{2}}{l^{3}} \\left(3 l - 2 x\\right) & \\frac{x^{2}}{l^{2}} \\left(- l + x\\right)\\end{matrix}\\right] \\left[\\begin{matrix}U_{i1}\\\\U_{i2}\\\\U_{j1}\\\\U_{j2}\\end{matrix}\\right]}\\end{aligned}\\end{equation}"
      ],
      "text/plain": [
       "<IPython.core.display.HTML object>"
      ]
     },
     "metadata": {},
     "output_type": "display_data"
    }
   ],
   "source": [
    "# Displacement Represented by Shape Function\n",
    "print('>>> Displacement Represented by Shape Function:')\n",
    "eq_disp('v_e', c_1 + c_2 * x + c_3 * x ** 2 + c_4 * x ** 3)\n",
    "print('~~~~~~~~~~~')\n",
    "eqs_disp(['U_{i1}', c_1], \n",
    "         ['U_{i2}', c_2],\n",
    "         ['U_{j1}', c_1 + c_2 * l + c_3 * l ** 2 + c_4 * l ** 3],\n",
    "         ['U_{j2}', c_2 + 2 * c_3 * l + 3 * c_4 * l ** 2],\n",
    "         inline=False)\n",
    "\n",
    "Eq_1 = c_1 - U_i1\n",
    "Eq_2 = c_2 - U_i2\n",
    "Eq_3 = c_1 + c_2 * l + c_3 * l ** 2 + c_4 * l ** 3 - U_j1\n",
    "Eq_4 = c_2 + 2 * c_3 * l + 3 * c_4 * l ** 2 - U_j2\n",
    "\n",
    "sol = solve([Eq_1, Eq_2, Eq_3, Eq_4], [c_1, c_2, c_3, c_4])\n",
    "\n",
    "c_1, c_2, c_3, c_4 = sol[c_1], sol[c_2], sol[c_3], sol[c_4]\n",
    "\n",
    "print('~~~~~~~~~~~')\n",
    "eqs_disp(['c_1', c_1], \n",
    "         ['c_2', c_2], \n",
    "         ['c_3', c_3],\n",
    "         ['c_4', c_4],\n",
    "         inline=False)\n",
    "\n",
    "v_e = c_1 + c_2 * x + c_3 * x ** 2 + c_4 * x ** 3\n",
    "eq_disp('v_e', v_e)\n",
    "\n",
    "v_e = expand(v_e)\n",
    "\n",
    "S_i1 = simplify(v_e.coeff(U_i1))\n",
    "S_i2 = simplify(v_e.coeff(U_i2))\n",
    "S_j1 = simplify(v_e.coeff(U_j1))\n",
    "S_j2 = simplify(v_e.coeff(U_j2))\n",
    "\n",
    "S_e_vec = Matrix(1, 4, [S_i1, S_i2, S_j1, S_j2])\n",
    "v_e_vec = Matrix([U_i1, U_i2, U_j1, U_j2])\n",
    "\n",
    "print('~~~~~~~~~~~')\n",
    "eq_disp('v_e',\n",
    "        'S_{i1}U_{i1} + S_{i2}U_{i2} + S_{j1}U_{j1} + S_{j2}U_{j2}', True,\n",
    "        MatMul(Matrix(1, 4, [symbols('S_{i1}'), symbols('S_{i2}'), symbols('S_{j1}'), symbols('S_{j2}')]), v_e_vec), True,\n",
    "        MatMul(S_e_vec, v_e_vec))\n"
   ]
  },
  {
   "cell_type": "code",
   "execution_count": 18,
   "metadata": {
    "collapsed": false
   },
   "outputs": [
    {
     "name": "stdout",
     "output_type": "stream",
     "text": [
      ">>> Strain Energy:\n"
     ]
    },
    {
     "data": {
      "text/html": [
       "\\begin{equation}\\begin{aligned}{\\epsilon}={- y \\frac{d^{2}}{d x^{2}}  v_{e}}&={- y \\frac{\\partial^{2}}{\\partial x^{2}} \\left(U_{i1} - \\frac{3 U_{i1}}{l^{2}} x^{2} + \\frac{2 U_{i1}}{l^{3}} x^{3} + U_{i2} x - \\frac{2 U_{i2}}{l} x^{2} + \\frac{U_{i2} x^{3}}{l^{2}} + \\frac{3 U_{j1}}{l^{2}} x^{2} - \\frac{2 U_{j1}}{l^{3}} x^{3} - \\frac{U_{j2} x^{2}}{l} + \\frac{U_{j2} x^{3}}{l^{2}}\\right)}\\\\&={- \\frac{2 y}{l} \\left(- \\frac{3 U_{i1}}{l} + \\frac{6 U_{i1}}{l^{2}} x - 2 U_{i2} + \\frac{3 U_{i2}}{l} x + \\frac{3 U_{j1}}{l} - \\frac{6 U_{j1}}{l^{2}} x - U_{j2} + \\frac{3 U_{j2}}{l} x\\right)}\\\\&={- y \\left[\\begin{matrix}- \\frac{1}{l^{3}} \\left(6 l - 12 x\\right) & - \\frac{1}{l^{2}} \\left(4 l - 6 x\\right) & - \\frac{1}{l^{3}} \\left(- 6 l + 12 x\\right) & - \\frac{1}{l^{2}} \\left(2 l - 6 x\\right)\\end{matrix}\\right] \\left[\\begin{matrix}U_{i1}\\\\U_{i2}\\\\U_{j1}\\\\U_{j2}\\end{matrix}\\right]}\\\\&={- y \\left[\\begin{matrix}D_{{i1}} & D_{{i2}} & D_{{j1}} & D_{{j2}}\\end{matrix}\\right] \\left[\\begin{matrix}U_{i1}\\\\U_{i2}\\\\U_{j1}\\\\U_{j2}\\end{matrix}\\right]}\\\\&={-y\\{D\\}\\{U\\}}\\end{aligned}\\end{equation}"
      ],
      "text/plain": [
       "<IPython.core.display.HTML object>"
      ]
     },
     "metadata": {},
     "output_type": "display_data"
    },
    {
     "name": "stdout",
     "output_type": "stream",
     "text": [
      "~~~~~~~~~~~\n"
     ]
    },
    {
     "data": {
      "text/html": [
       "\\begin{equation}\\begin{aligned}{\\Lambda^{(e)}}={\\int \\frac{\\epsilon \\sigma}{2}\\, dV}={\\int \\frac{E \\epsilon^{2}}{2}\\, dV}&={\\int \\frac{E y^{2}}{2} \\left(\\frac{d^{2}}{d x^{2}}  v_{e}\\right)^{2}\\, dV}\\\\&={\\frac{E}{2} \\left(\\int y^{2}\\, dA\\right) \\int_{0}^{l} \\left(\\frac{d^{2}}{d x^{2}}  v_{e}\\right)^{2}\\, dx}\\\\&={\\frac{E I}{2} \\int_{0}^{l} \\left(\\frac{d^{2}}{d x^{2}}  v_{e}\\right)^{2}\\, dx}\\\\&={\\frac{EI}{2}\\int_0^{l}(\\{D\\}\\{U\\})(\\{D\\}\\{U\\})dx}\\\\&={\\frac{EI}{2}\\int_0^{l}\\{U\\}^T\\{D\\}^T\\{D\\}\\{U\\}dx}\\end{aligned}\\end{equation}"
      ],
      "text/plain": [
       "<IPython.core.display.HTML object>"
      ]
     },
     "metadata": {},
     "output_type": "display_data"
    }
   ],
   "source": [
    "# Strain Energy\n",
    "epsilon_ = -y * Derivative('v_e', x, x)\n",
    "epsilon__ = -y * Derivative(v_e, x, x)\n",
    "epsilon___ = epsilon__.doit()\n",
    "epsilon____ = expand(epsilon___)\n",
    "\n",
    "D_i1 = simplify(epsilon____.coeff(U_i1)) / -y\n",
    "D_i2 = simplify(epsilon____.coeff(U_i2)) / -y\n",
    "D_j1 = simplify(epsilon____.coeff(U_j1)) / -y\n",
    "D_j2 = simplify(epsilon____.coeff(U_j2)) / -y\n",
    "\n",
    "D_e_vec = Matrix(1, 4, [D_i1, D_i2, D_j1, D_j2])\n",
    "\n",
    "Lambda = Integral(sigma * epsilon / 2, [V,])\n",
    "Lambda_ = Lambda.subs(sigma, E * epsilon)\n",
    "Lambda__ = Lambda_.subs(epsilon, epsilon_)\n",
    "Lambda___ = E / 2 * Integral((epsilon_ / y) ** 2, [x, 0, l]) * Integral(y ** 2, [A,])\n",
    "Lambda____ = Lambda___.subs(Integral(y ** 2, [A,]), I)\n",
    "\n",
    "print('>>> Strain Energy:')\n",
    "eq_disp(r'\\epsilon',\n",
    "        epsilon_,\n",
    "        epsilon__, True,\n",
    "        epsilon___, True,\n",
    "        MatMul(-y, D_e_vec, v_e_vec), True,\n",
    "        MatMul(-y, Matrix(1, 4, [symbols('D_{i1}'), symbols('D_{i2}'), symbols('D_{j1}'), symbols('D_{j2}')]), v_e_vec), True,\n",
    "        '-y\\{D\\}\\{U\\}'\n",
    "        )\n",
    "print('~~~~~~~~~~~')\n",
    "eq_disp(r'\\Lambda^{(e)}',\n",
    "        Lambda,\n",
    "        Lambda_, \n",
    "        Lambda__, True,\n",
    "        Lambda___, True,\n",
    "        Lambda____, True,\n",
    "        r'\\frac{EI}{2}\\int_0^{l}(\\{D\\}\\{U\\})(\\{D\\}\\{U\\})dx', True,\n",
    "        r'\\frac{EI}{2}\\int_0^{l}\\{U\\}^T\\{D\\}^T\\{D\\}\\{U\\}dx')"
   ]
  },
  {
   "cell_type": "code",
   "execution_count": 19,
   "metadata": {
    "collapsed": false,
    "scrolled": true
   },
   "outputs": [
    {
     "name": "stdout",
     "output_type": "stream",
     "text": [
      "Stffness Matrix:\n"
     ]
    },
    {
     "data": {
      "text/html": [
       "\\begin{equation}\\begin{aligned}{\\Pi}={\\sum_{e=1}^{n} \\Lambda^{(e)} - \\sum_{k=1}^{m} F_kU_k}\\end{aligned}\\end{equation}"
      ],
      "text/plain": [
       "<IPython.core.display.HTML object>"
      ]
     },
     "metadata": {},
     "output_type": "display_data"
    },
    {
     "data": {
      "text/html": [
       "\\begin{equation}\\begin{aligned}{\\frac{\\partial \\Pi}{\\partial U_k}}={\\frac{\\partial}{\\partial U_k} \\sum_{e=1}^{n} \\Lambda^{(e)} - \\frac{\\partial}{\\partial U_k} \\sum_{i=k}^{m} F_kU_k}={0, \\,\\,\\,\\,\\,\\, k = 1,2,3,...,m}\\end{aligned}\\end{equation}"
      ],
      "text/plain": [
       "<IPython.core.display.HTML object>"
      ]
     },
     "metadata": {},
     "output_type": "display_data"
    },
    {
     "data": {
      "text/html": [
       "\\begin{equation}\\begin{aligned}{\\frac{\\partial\\Lambda^{(e)}}{\\partial U^{(e)}}}&={EI\\int_0^{l}\\{D\\}^T\\{D\\}dxU^{(e)}}\\\\&={E I \\int_{0}^{l} \\left[\\begin{matrix}\\frac{36}{l^{6}} \\left(l - 2 x\\right)^{2} & \\frac{12}{l^{5}} \\left(l - 2 x\\right) \\left(2 l - 3 x\\right) & \\frac{36}{l^{6}} \\left(- l + 2 x\\right) \\left(l - 2 x\\right) & \\frac{12}{l^{5}} \\left(l - 3 x\\right) \\left(l - 2 x\\right)\\\\\\frac{12}{l^{5}} \\left(l - 2 x\\right) \\left(2 l - 3 x\\right) & \\frac{4}{l^{4}} \\left(2 l - 3 x\\right)^{2} & \\frac{12}{l^{5}} \\left(- l + 2 x\\right) \\left(2 l - 3 x\\right) & \\frac{4}{l^{4}} \\left(l - 3 x\\right) \\left(2 l - 3 x\\right)\\\\\\frac{36}{l^{6}} \\left(- l + 2 x\\right) \\left(l - 2 x\\right) & \\frac{12}{l^{5}} \\left(- l + 2 x\\right) \\left(2 l - 3 x\\right) & \\frac{36}{l^{6}} \\left(- l + 2 x\\right)^{2} & \\frac{12}{l^{5}} \\left(- l + 2 x\\right) \\left(l - 3 x\\right)\\\\\\frac{12}{l^{5}} \\left(l - 3 x\\right) \\left(l - 2 x\\right) & \\frac{4}{l^{4}} \\left(l - 3 x\\right) \\left(2 l - 3 x\\right) & \\frac{12}{l^{5}} \\left(- l + 2 x\\right) \\left(l - 3 x\\right) & \\frac{4}{l^{4}} \\left(l - 3 x\\right)^{2}\\end{matrix}\\right]\\, dx \\left[\\begin{matrix}U_{i1}\\\\U_{i2}\\\\U_{j1}\\\\U_{j2}\\end{matrix}\\right]}\\\\&={\\frac{E I}{l^{3}} \\left[\\begin{matrix}12 & 6 l & -12 & 6 l\\\\6 l & 4 l^{2} & - 6 l & 2 l^{2}\\\\-12 & - 6 l & 12 & - 6 l\\\\6 l & 2 l^{2} & - 6 l & 4 l^{2}\\end{matrix}\\right] \\left[\\begin{matrix}U_{i1}\\\\U_{i2}\\\\U_{j1}\\\\U_{j2}\\end{matrix}\\right]}={K^{(e)}U^{(e)}}\\end{aligned}\\end{equation}"
      ],
      "text/plain": [
       "<IPython.core.display.HTML object>"
      ]
     },
     "metadata": {},
     "output_type": "display_data"
    }
   ],
   "source": [
    "# Stiffness Matrix\n",
    "d_Lambda_d_U = MatMul(E * I, Integral(D_e_vec.transpose() * D_e_vec, [x, 0, l]), v_e_vec)\n",
    "d_Lambda_d_U_ = MatMul(E * I/(l**3), (l**3) * integrate(D_e_vec.transpose() * D_e_vec, [x, 0, l]), v_e_vec)\n",
    "\n",
    "print('Stffness Matrix:')\n",
    "eq_disp(r'\\Pi',\n",
    "        r'\\sum_{e=1}^{n} \\Lambda^{(e)} - \\sum_{k=1}^{m} F_kU_k')\n",
    "\n",
    "eq_disp(r'\\frac{\\partial \\Pi}{\\partial U_k}',\n",
    "        r'\\frac{\\partial}{\\partial U_k} \\sum_{e=1}^{n} \\Lambda^{(e)} - \\frac{\\partial}{\\partial U_k} \\sum_{i=k}^{m} F_kU_k',\n",
    "        r'0, \\,\\,\\,\\,\\,\\, k = 1,2,3,...,m')\n",
    "\n",
    "eq_disp(r'\\frac{\\partial\\Lambda^{(e)}}{\\partial U^{(e)}}',\n",
    "        r'EI\\int_0^{l}\\{D\\}^T\\{D\\}dxU^{(e)}', True,\n",
    "        d_Lambda_d_U, True,\n",
    "        d_Lambda_d_U_,\n",
    "        r'K^{(e)}U^{(e)}')"
   ]
  },
  {
   "cell_type": "code",
   "execution_count": 22,
   "metadata": {
    "collapsed": false,
    "scrolled": true
   },
   "outputs": [
    {
     "name": "stdout",
     "output_type": "stream",
     "text": [
      ">>> External Force Vector:\n"
     ]
    },
    {
     "data": {
      "text/html": [
       "\\begin{equation}\\begin{aligned}{EI\\frac{d^4 v}{dx^4}}={\\frac{dV(x)}{dx}}={-w}\\end{aligned}\\end{equation}"
      ],
      "text/plain": [
       "<IPython.core.display.HTML object>"
      ]
     },
     "metadata": {},
     "output_type": "display_data"
    },
    {
     "name": "stdout",
     "output_type": "stream",
     "text": [
      "~~~~~~~~~~~\n"
     ]
    },
    {
     "data": {
      "text/html": [
       "\\begin{equation}\\begin{aligned}{V(0)}={c_1}={R_1}\\end{aligned}\\end{equation}"
      ],
      "text/plain": [
       "<IPython.core.display.HTML object>"
      ]
     },
     "metadata": {},
     "output_type": "display_data"
    },
    {
     "data": {
      "text/html": [
       "\\begin{equation}\\begin{aligned}{EI\\frac{d^3 v}{dx^3}}={V(x)}={wx+c_1}={wx+R_1}\\end{aligned}\\end{equation}"
      ],
      "text/plain": [
       "<IPython.core.display.HTML object>"
      ]
     },
     "metadata": {},
     "output_type": "display_data"
    },
    {
     "name": "stdout",
     "output_type": "stream",
     "text": [
      "~~~~~~~~~~~\n"
     ]
    },
    {
     "data": {
      "text/html": [
       "\\begin{equation}\\begin{aligned}{M(0)}={c_2}={M_1}\\end{aligned}\\end{equation}"
      ],
      "text/plain": [
       "<IPython.core.display.HTML object>"
      ]
     },
     "metadata": {},
     "output_type": "display_data"
    },
    {
     "data": {
      "text/html": [
       "\\begin{equation}\\begin{aligned}{EI\\frac{d^2 v}{dx^2}}={M(x)}={wx^2/2+c_1x+c_2}={wx^2/2+R_1x+M_1}\\end{aligned}\\end{equation}"
      ],
      "text/plain": [
       "<IPython.core.display.HTML object>"
      ]
     },
     "metadata": {},
     "output_type": "display_data"
    },
    {
     "name": "stdout",
     "output_type": "stream",
     "text": [
      "~~~~~~~~~~~\n"
     ]
    },
    {
     "data": {
      "text/html": [
       "\\begin{equation}\\begin{aligned}{\\theta(0)}={c_3}={0}\\end{aligned}\\end{equation}"
      ],
      "text/plain": [
       "<IPython.core.display.HTML object>"
      ]
     },
     "metadata": {},
     "output_type": "display_data"
    },
    {
     "data": {
      "text/html": [
       "\\begin{equation}\\begin{aligned}{EI\\frac{d v}{dx}}={EI\\theta(x)}={wx^3/6+c_1x^2/2+c_2x+c_3}={wx^3/6+R_1x^2/2+M_1x}\\end{aligned}\\end{equation}"
      ],
      "text/plain": [
       "<IPython.core.display.HTML object>"
      ]
     },
     "metadata": {},
     "output_type": "display_data"
    },
    {
     "name": "stdout",
     "output_type": "stream",
     "text": [
      "~~~~~~~~~~~\n"
     ]
    },
    {
     "data": {
      "text/html": [
       "\\begin{equation}\\begin{aligned}{v(0)}={c_4}={0}\\end{aligned}\\end{equation}"
      ],
      "text/plain": [
       "<IPython.core.display.HTML object>"
      ]
     },
     "metadata": {},
     "output_type": "display_data"
    },
    {
     "data": {
      "text/html": [
       "\\begin{equation}\\begin{aligned}{EIv}={EIv(x)}={wx^4/24+c_1x^3/6+c_2x^2/2+c_3x+c_4}={wx^4/24+R_1x^3/6+M_1x^2/2}\\end{aligned}\\end{equation}"
      ],
      "text/plain": [
       "<IPython.core.display.HTML object>"
      ]
     },
     "metadata": {},
     "output_type": "display_data"
    },
    {
     "name": "stdout",
     "output_type": "stream",
     "text": [
      "~~~~~~~~~~~\n"
     ]
    },
    {
     "data": {
      "text/html": [
       "\\begin{equation}\\begin{aligned}{\\theta(l)}={0}\\end{aligned}\\end{equation}"
      ],
      "text/plain": [
       "<IPython.core.display.HTML object>"
      ]
     },
     "metadata": {},
     "output_type": "display_data"
    },
    {
     "data": {
      "text/html": [
       "\\begin{equation}\\begin{aligned}{EI\\theta(l)}={wl^3/6+R_1l^2/2+M_1l}={0}\\end{aligned}\\end{equation}"
      ],
      "text/plain": [
       "<IPython.core.display.HTML object>"
      ]
     },
     "metadata": {},
     "output_type": "display_data"
    },
    {
     "data": {
      "text/html": [
       "\\begin{equation}\\begin{aligned}{v(l)}={0}\\end{aligned}\\end{equation}"
      ],
      "text/plain": [
       "<IPython.core.display.HTML object>"
      ]
     },
     "metadata": {},
     "output_type": "display_data"
    },
    {
     "data": {
      "text/html": [
       "\\begin{equation}\\begin{aligned}{EIv(l)}={wl^4/24+R_1l^3/6+M_1l^2/2}={0}\\end{aligned}\\end{equation}"
      ],
      "text/plain": [
       "<IPython.core.display.HTML object>"
      ]
     },
     "metadata": {},
     "output_type": "display_data"
    },
    {
     "name": "stdout",
     "output_type": "stream",
     "text": [
      "~~~~~~~~~~~\n"
     ]
    },
    {
     "data": {
      "text/html": [
       "\\begin{equation}\\begin{aligned}{\\left[\\begin{matrix}- R_{1}\\\\- M_{1}\\\\- R_{2}\\\\- M_{2}\\end{matrix}\\right]}={\\left[\\begin{matrix}\\frac{l w}{2}\\\\\\frac{l^{2} w}{12}\\\\\\frac{l w}{2}\\\\- \\frac{l^{2} w}{12}\\end{matrix}\\right]}={\\left[\\begin{matrix}F_{i1}\\\\F_{i2}\\\\F_{j1}\\\\F_{j2}\\end{matrix}\\right]}={\\{F\\}^{(e)}}\\end{aligned}\\end{equation}"
      ],
      "text/plain": [
       "<IPython.core.display.HTML object>"
      ]
     },
     "metadata": {},
     "output_type": "display_data"
    }
   ],
   "source": [
    "# External Force Vector\n",
    "Eq_1 = w * l**3 / 6 + R_1 * l**2 / 2 - M_1 * l\n",
    "Eq_2 = w * l**4 / 24 + R_1 * l**3 / 6 - M_1 * l**2 / 2\n",
    "sol = solve([Eq_1, Eq_2], [R_1, M_1])\n",
    "R_1_val, M_1_val = sol[R_1], sol[M_1]\n",
    "R_2_val, M_2_val = R_1_val, -M_1_val\n",
    "F_e_vec = Matrix(4, 1, [-R_1_val, -M_1_val, -R_2_val, -M_2_val])\n",
    "\n",
    "print('>>> External Force Vector:')\n",
    "eq_disp(r'EI\\frac{d^4 v}{dx^4}',\n",
    "        r'\\frac{dV(x)}{dx}',\n",
    "        r'-w')\n",
    "print('~~~~~~~~~~~')\n",
    "eq_disp('V(0)', 'c_1', 'R_1')\n",
    "eq_disp(r'EI\\frac{d^3 v}{dx^3}',\n",
    "        r'V(x)',\n",
    "        r'wx+c_1',\n",
    "        r'wx+R_1')\n",
    "print('~~~~~~~~~~~')\n",
    "eq_disp('M(0)', 'c_2', 'M_1')\n",
    "eq_disp(r'EI\\frac{d^2 v}{dx^2}',\n",
    "        r'M(x)',\n",
    "        r'wx^2/2+c_1x+c_2',\n",
    "        r'wx^2/2+R_1x+M_1')\n",
    "print('~~~~~~~~~~~')\n",
    "eq_disp(r'\\theta(0)', 'c_3', '0')\n",
    "eq_disp(r'EI\\frac{d v}{dx}',\n",
    "        r'EI\\theta(x)',\n",
    "        r'wx^3/6+c_1x^2/2+c_2x+c_3',\n",
    "        r'wx^3/6+R_1x^2/2+M_1x')\n",
    "print('~~~~~~~~~~~')\n",
    "eq_disp('v(0)', 'c_4', '0')\n",
    "eq_disp(r'EIv',\n",
    "        r'EIv(x)',\n",
    "        r'wx^4/24+c_1x^3/6+c_2x^2/2+c_3x+c_4',\n",
    "        r'wx^4/24+R_1x^3/6+M_1x^2/2')\n",
    "print('~~~~~~~~~~~')\n",
    "eq_disp(r'\\theta(l)', '0')\n",
    "eq_disp(r'EI\\theta(l)',\n",
    "        r'wl^3/6+R_1l^2/2+M_1l',\n",
    "        0)\n",
    "eq_disp('v(l)', '0')\n",
    "eq_disp(r'EIv(l)',\n",
    "        r'wl^4/24+R_1l^3/6+M_1l^2/2',\n",
    "        0)\n",
    "print('~~~~~~~~~~~')\n",
    "eq_disp(Matrix(4, 1, ['-R_1', '-M_1', '-R_2', '-M_2']),\n",
    "        F_e_vec,\n",
    "        Matrix(4, 1, ['F_i1', 'F_i2', 'F_j1', 'F_j2']),\n",
    "        '\\{F\\}^{(e)}')"
   ]
  },
  {
   "cell_type": "code",
   "execution_count": 21,
   "metadata": {
    "collapsed": false
   },
   "outputs": [
    {
     "name": "stdout",
     "output_type": "stream",
     "text": [
      ">>> Equilibrium Equation:\n"
     ]
    },
    {
     "data": {
      "text/html": [
       "\\begin{equation}\\begin{aligned}{K^{(e)}U^{(e)}}={F^{(e)}}\\end{aligned}\\end{equation}"
      ],
      "text/plain": [
       "<IPython.core.display.HTML object>"
      ]
     },
     "metadata": {},
     "output_type": "display_data"
    },
    {
     "data": {
      "text/html": [
       "\\begin{equation}\\begin{aligned}{\\frac{E I}{l^{3}} \\left[\\begin{matrix}12 & 6 l & -12 & 6 l\\\\6 l & 4 l^{2} & - 6 l & 2 l^{2}\\\\-12 & - 6 l & 12 & - 6 l\\\\6 l & 2 l^{2} & - 6 l & 4 l^{2}\\end{matrix}\\right] \\left[\\begin{matrix}U_{i1}\\\\U_{i2}\\\\U_{j1}\\\\U_{j2}\\end{matrix}\\right]}={\\left[\\begin{matrix}\\frac{l w}{2}\\\\\\frac{l^{2} w}{12}\\\\\\frac{l w}{2}\\\\- \\frac{l^{2} w}{12}\\end{matrix}\\right]}\\end{aligned}\\end{equation}"
      ],
      "text/plain": [
       "<IPython.core.display.HTML object>"
      ]
     },
     "metadata": {},
     "output_type": "display_data"
    }
   ],
   "source": [
    "# Equilibrium Equation\n",
    "print('>>> Equilibrium Equation:')\n",
    "eq_disp(r'K^{(e)}U^{(e)}', 'F^{(e)}')\n",
    "eq_disp(d_Lambda_d_U_, F_e_vec)"
   ]
  }
 ],
 "metadata": {
  "kernelspec": {
   "display_name": "Python 3",
   "language": "python",
   "name": "python3"
  },
  "language_info": {
   "codemirror_mode": {
    "name": "ipython",
    "version": 3
   },
   "file_extension": ".py",
   "mimetype": "text/x-python",
   "name": "python",
   "nbconvert_exporter": "python",
   "pygments_lexer": "ipython3",
   "version": "3.4.3"
  }
 },
 "nbformat": 4,
 "nbformat_minor": 0
}
