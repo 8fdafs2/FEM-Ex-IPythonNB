{
 "cells": [
  {
   "cell_type": "code",
   "execution_count": 99,
   "metadata": {
    "collapsed": false
   },
   "outputs": [
    {
     "name": "stdout",
     "output_type": "stream",
     "text": [
      "IPython console for SymPy 0.7.6 (Python 3.4.3-64-bit) (ground types: gmpy)\n"
     ]
    }
   ],
   "source": [
    "from sympy import *\n",
    "init_session(quiet=True, use_latex='mathjax', use_unicode=True)\n",
    "from IPython.display import HTML, display\n",
    "\n",
    "import os, sys\n",
    "lib_path = os.path.abspath(os.path.join('..', 'src'))\n",
    "sys.path.append(lib_path)\n",
    "\n",
    "from EqDisp import eq_disp, eqs_disp"
   ]
  },
  {
   "cell_type": "markdown",
   "metadata": {},
   "source": [
    "<H4>Integral Calculation:\n",
    "\n",
    "$${I = \\int_{2}^{6} (x^2+5x+3)dx}$$"
   ]
  },
  {
   "cell_type": "code",
   "execution_count": 100,
   "metadata": {
    "collapsed": false
   },
   "outputs": [],
   "source": [
    "var('x f xi ell')\n",
    "_lambda_ = symbols('lambda');"
   ]
  },
  {
   "cell_type": "markdown",
   "metadata": {},
   "source": [
    "Analytical Solution:"
   ]
  },
  {
   "cell_type": "code",
   "execution_count": 101,
   "metadata": {
    "collapsed": false
   },
   "outputs": [
    {
     "data": {
      "text/html": [
       "\\begin{equation}\\begin{aligned}{I}={\\int_{2}^{6} x^{2} + 5 x + 3\\, dx}={\\frac{484}{3}}={161.333333333333}\\end{aligned}\\end{equation}"
      ],
      "text/plain": [
       "<IPython.core.display.HTML object>"
      ]
     },
     "metadata": {},
     "output_type": "display_data"
    }
   ],
   "source": [
    "f = x**2+5*x+3\n",
    "I = Integral(f, [x, 2, 6])\n",
    "eq_disp('I', I, I.doit(), I.doit().evalf())"
   ]
  },
  {
   "cell_type": "markdown",
   "metadata": {},
   "source": [
    "$${x=\\frac{6+2}{2}+\\frac{6-2}{2}\\lambda=4+2\\lambda}$$\n",
    "$${dx = 2d\\lambda}$$"
   ]
  },
  {
   "cell_type": "code",
   "execution_count": 102,
   "metadata": {
    "collapsed": false
   },
   "outputs": [
    {
     "data": {
      "text/html": [
       "\\begin{equation}\\begin{aligned}{I}={\\int_{-1}^{1} 20 \\lambda + 2 \\left(2 \\lambda + 4\\right)^{2} + 46\\, d\\lambda}={\\frac{484}{3}}={161.333333333333}\\end{aligned}\\end{equation}"
      ],
      "text/plain": [
       "<IPython.core.display.HTML object>"
      ]
     },
     "metadata": {},
     "output_type": "display_data"
    }
   ],
   "source": [
    "f_ = f.subs(x, 4+2*_lambda_) * 2\n",
    "I_ = Integral(f_, [_lambda_, -1, 1])\n",
    "eq_disp('I', I_, I_.doit(), I_.doit().evalf())"
   ]
  },
  {
   "cell_type": "code",
   "execution_count": 103,
   "metadata": {
    "collapsed": false
   },
   "outputs": [
    {
     "name": "stdout",
     "output_type": "stream",
     "text": [
      "1-Point:\n"
     ]
    },
    {
     "data": {
      "text/html": [
       "\\begin{equation}\\begin{aligned}{I}={156.0}\\end{aligned}\\end{equation}"
      ],
      "text/plain": [
       "<IPython.core.display.HTML object>"
      ]
     },
     "metadata": {},
     "output_type": "display_data"
    },
    {
     "name": "stdout",
     "output_type": "stream",
     "text": [
      "2-Point:\n"
     ]
    },
    {
     "data": {
      "text/html": [
       "\\begin{equation}\\begin{aligned}{I}={161.333333333333}\\end{aligned}\\end{equation}"
      ],
      "text/plain": [
       "<IPython.core.display.HTML object>"
      ]
     },
     "metadata": {},
     "output_type": "display_data"
    },
    {
     "name": "stdout",
     "output_type": "stream",
     "text": [
      "3-Point:\n"
     ]
    },
    {
     "data": {
      "text/html": [
       "\\begin{equation}\\begin{aligned}{I}={161.333333333333}\\end{aligned}\\end{equation}"
      ],
      "text/plain": [
       "<IPython.core.display.HTML object>"
      ]
     },
     "metadata": {},
     "output_type": "display_data"
    }
   ],
   "source": [
    "I__ = 2 * f_.subs(_lambda_, 0)\n",
    "I___ = 1 * f_.subs(_lambda_, -sqrt(3)/3) + 1 * f_.subs(_lambda_, sqrt(3)/3)\n",
    "I____ = 8/9 * f_.subs(_lambda_, 0) + 5/9 * f_.subs(_lambda_, -sqrt(15)/5) + 5/9 * f_.subs(_lambda_, sqrt(15)/5)\n",
    "\n",
    "print('1-Point:')\n",
    "eq_disp('I', I__.evalf())\n",
    "print('2-Point:')\n",
    "eq_disp('I', I___.evalf())\n",
    "print('3-Point:')\n",
    "eq_disp('I', I____.evalf())"
   ]
  },
  {
   "cell_type": "markdown",
   "metadata": {},
   "source": [
    "<H4>Integral Calculation:\n",
    "\n",
    "$${\n",
    "I = \n",
    "\\int_{X_i}^{X_j} S_j^2 dX = \n",
    "\\int_{X_i}^{X_j} {\\left(\\frac {X-X_i}{\\ell}\\right)}^2 dX = \n",
    "\\int_{0}^{\\ell} {\\left(\\frac {x}{\\ell}\\right)}^2 dx = \n",
    "\\frac {\\ell}{2} \\int_{-1}^{1} {\\left[\\frac {1}{2}(1+\\xi)\\right]}^2 d\\xi\n",
    "}$$"
   ]
  },
  {
   "cell_type": "markdown",
   "metadata": {},
   "source": [
    "Analytical Solution:"
   ]
  },
  {
   "cell_type": "code",
   "execution_count": 104,
   "metadata": {
    "collapsed": false
   },
   "outputs": [
    {
     "data": {
      "text/html": [
       "\\begin{equation}\\begin{aligned}{I}={\\int_{-1}^{1} \\frac{\\ell}{2} \\left(\\frac{\\xi}{2} + \\frac{1}{2}\\right)^{2}\\, d\\xi}={\\frac{\\ell}{3}}={0.333333333333333 \\ell}\\end{aligned}\\end{equation}"
      ],
      "text/plain": [
       "<IPython.core.display.HTML object>"
      ]
     },
     "metadata": {},
     "output_type": "display_data"
    }
   ],
   "source": [
    "f = ell / 2 * ((1 + xi) / 2)**2\n",
    "I = Integral(f, [xi, -1, 1])\n",
    "eq_disp('I', I, I.doit(), I.doit().evalf())"
   ]
  },
  {
   "cell_type": "code",
   "execution_count": 105,
   "metadata": {
    "collapsed": false
   },
   "outputs": [
    {
     "data": {
      "text/html": [
       "\\begin{equation}\\begin{aligned}{I}={\\int_{-1}^{1} \\frac{\\ell}{2} \\left(\\frac{\\lambda}{2} + \\frac{1}{2}\\right)^{2}\\, d\\lambda}={\\frac{\\ell}{3}}={0.333333333333333 \\ell}\\end{aligned}\\end{equation}"
      ],
      "text/plain": [
       "<IPython.core.display.HTML object>"
      ]
     },
     "metadata": {},
     "output_type": "display_data"
    }
   ],
   "source": [
    "f_ = f.subs(xi, _lambda_)\n",
    "I_ = Integral(f_, [_lambda_, -1, 1])\n",
    "eq_disp('I', I_, I_.doit(), I_.doit().evalf())"
   ]
  },
  {
   "cell_type": "code",
   "execution_count": 106,
   "metadata": {
    "collapsed": false
   },
   "outputs": [
    {
     "name": "stdout",
     "output_type": "stream",
     "text": [
      "1-Point:\n"
     ]
    },
    {
     "data": {
      "text/html": [
       "\\begin{equation}\\begin{aligned}{I}={0.25 \\ell}\\end{aligned}\\end{equation}"
      ],
      "text/plain": [
       "<IPython.core.display.HTML object>"
      ]
     },
     "metadata": {},
     "output_type": "display_data"
    },
    {
     "name": "stdout",
     "output_type": "stream",
     "text": [
      "2-Point:\n"
     ]
    },
    {
     "data": {
      "text/html": [
       "\\begin{equation}\\begin{aligned}{I}={0.333333333333333 \\ell}\\end{aligned}\\end{equation}"
      ],
      "text/plain": [
       "<IPython.core.display.HTML object>"
      ]
     },
     "metadata": {},
     "output_type": "display_data"
    },
    {
     "name": "stdout",
     "output_type": "stream",
     "text": [
      "3-Point:\n"
     ]
    },
    {
     "data": {
      "text/html": [
       "\\begin{equation}\\begin{aligned}{I}={0.333333333333333 \\ell}\\end{aligned}\\end{equation}"
      ],
      "text/plain": [
       "<IPython.core.display.HTML object>"
      ]
     },
     "metadata": {},
     "output_type": "display_data"
    }
   ],
   "source": [
    "I__ = 2 * f_.subs(_lambda_, 0)\n",
    "I___ = 1 * f_.subs(_lambda_, -sqrt(3)/3) + 1 * f_.subs(_lambda_, sqrt(3)/3)\n",
    "I____ = 8/9 * f_.subs(_lambda_, 0) + 5/9 * f_.subs(_lambda_, -sqrt(15)/5) + 5/9 * f_.subs(_lambda_, sqrt(15)/5)\n",
    "\n",
    "print('1-Point:')\n",
    "eq_disp('I', I__.evalf())\n",
    "print('2-Point:')\n",
    "eq_disp('I', I___.evalf())\n",
    "print('3-Point:')\n",
    "eq_disp('I', I____.evalf())"
   ]
  },
  {
   "cell_type": "code",
   "execution_count": null,
   "metadata": {
    "collapsed": true
   },
   "outputs": [],
   "source": []
  }
 ],
 "metadata": {
  "kernelspec": {
   "display_name": "Python 3",
   "language": "python",
   "name": "python3"
  },
  "language_info": {
   "codemirror_mode": {
    "name": "ipython",
    "version": 3
   },
   "file_extension": ".py",
   "mimetype": "text/x-python",
   "name": "python",
   "nbconvert_exporter": "python",
   "pygments_lexer": "ipython3",
   "version": "3.4.3"
  }
 },
 "nbformat": 4,
 "nbformat_minor": 0
}
