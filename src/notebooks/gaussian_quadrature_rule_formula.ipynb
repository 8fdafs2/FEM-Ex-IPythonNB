{
 "cells": [
  {
   "cell_type": "code",
   "execution_count": 1,
   "metadata": {
    "collapsed": false
   },
   "outputs": [
    {
     "name": "stdout",
     "output_type": "stream",
     "text": [
      "IPython console for SymPy 0.7.6 (Python 3.4.3-64-bit) (ground types: gmpy)\n"
     ]
    }
   ],
   "source": [
    "from sympy import *\n",
    "init_session(quiet=True, use_latex='mathjax', use_unicode=True)\n",
    "from IPython.display import HTML, display\n",
    "\n",
    "import os, sys\n",
    "lib_path = os.path.abspath(os.path.join('..', 'src'))\n",
    "sys.path.append(lib_path)\n",
    "\n",
    "from EqDisp import eq_disp, eqs_disp"
   ]
  },
  {
   "cell_type": "markdown",
   "metadata": {},
   "source": [
    "<H4>The Wikipedia: <a href=\"https://en.wikipedia.org/wiki/Gaussian_quadrature\" title=\"Gaussian Quadrature\">click</a>"
   ]
  },
  {
   "cell_type": "markdown",
   "metadata": {},
   "source": [
    "In numerical analysis, a quadrature rule is an approximation of the definite integral of a function, usually stated as a weighted sum of function values at specified points within the domain of integration. (See numerical integration for more on quadrature rules.) An n-point <B>Gaussian quadrature rule</B>, named after Carl Friedrich Gauss, is a quadrature rule constructed to yield an exact result for polynomials of degree 2n − 1 or less by a suitable choice of the points xi and weights wi for i = 1, ..., n. The domain of integration for such a rule is conventionally taken as [−1, 1], so the rule is stated as\n",
    "\n",
    "$${\\int _{{-1}}^{1}f(x)\\,dx=\\sum _{{i=1}}^{n}w_{i}f(x_{i}).}$$\n",
    "\n",
    "Gaussian quadrature as above will only produce accurate results if the function ${f(x)}$ is well approximated by a polynomial function within the range [−1, 1]. The method is not, for example, suitable for functions with singularities. However, if the integrated function can be written as ${f(x)=\\omega (x)g(x)}$, where ${g(x)}$ is approximately polynomial and ${\\omega (x)}$ is known, then alternative weights ${w_{i}'}$ and points ${x_{i}'}$ that depend on the weighting function ${\\omega (x)}$ may give better results, where\n",
    "\n",
    "$${\\int _{{-1}}^{1}f(x)\\,dx=\\int _{{-1}}^{1}\\omega (x)g(x)\\,dx\\approx \\sum _{{i=1}}^{n}w_{i}'g(x_{i}').}$$\n",
    "\n",
    "Common weighting functions include ${\\omega (x)=1/{\\sqrt {1-x^{2}}}}$ (Chebyshev–Gauss) and ${\\omega (x)=e^{{-x^{2}}}}$ (Gauss–Hermite).\n",
    "\n",
    "It can be shown (see Press, et al., or Stoer and Bulirsch) that the evaluation points xi are just the roots of a polynomial belonging to a class of orthogonal polynomials."
   ]
  },
  {
   "cell_type": "markdown",
   "metadata": {},
   "source": [
    "<H4>The Book:"
   ]
  },
  {
   "cell_type": "markdown",
   "metadata": {},
   "source": [
    "$${I=\\int _{{a}}^{b}f(x)\\,dx=\\sum _{{i=1}}^{n}w_{i}f(x_{i}).}$$\n",
    "\n",
    "$${x=c_0+c_1\\lambda}$$\n",
    "\n",
    "$${a=c_0+c_1(-1)}$$\n",
    "$${a=c_0+c_1(1)}$$\n",
    "\n",
    "$${c_0=\\frac {b+a}{2}}$$\n",
    "$${c_1=\\frac {b-a}{2}}$$\n",
    "\n",
    "$${x=\\frac {b+a}{2} + \\frac {b-a}{2}\\lambda}$$\n",
    "\n",
    "$${dx=\\frac {b-a}{2}d\\lambda}$$\n",
    "\n",
    "$${I=\\int _{{-1}}^{1}f(\\lambda)\\,d\\lambda=\\sum _{{i=1}}^{n}w_{i}f(\\lambda_{i}).}$$"
   ]
  },
  {
   "cell_type": "code",
   "execution_count": 2,
   "metadata": {
    "collapsed": false
   },
   "outputs": [],
   "source": [
    "var('w_1 w_2 w_3 w_4 lambda_1 lambda_2 lambda_3 lambda_4')\n",
    "_lambda_ = symbols('lambda');"
   ]
  },
  {
   "cell_type": "code",
   "execution_count": 3,
   "metadata": {
    "collapsed": true
   },
   "outputs": [],
   "source": [
    "Eq_1_r = Integral(_lambda_**0, [_lambda_, -1, 1]); Eq_1_r_ = Eq_1_r.doit()\n",
    "Eq_2_r = Integral(_lambda_**1, [_lambda_, -1, 1]); Eq_2_r_ = Eq_2_r.doit()\n",
    "Eq_3_r = Integral(_lambda_**2, [_lambda_, -1, 1]); Eq_3_r_ = Eq_3_r.doit()\n",
    "Eq_4_r = Integral(_lambda_**3, [_lambda_, -1, 1]); Eq_4_r_ = Eq_4_r.doit()\n",
    "Eq_5_r = Integral(_lambda_**4, [_lambda_, -1, 1]); Eq_5_r_ = Eq_5_r.doit()\n",
    "Eq_6_r = Integral(_lambda_**5, [_lambda_, -1, 1]); Eq_6_r_ = Eq_6_r.doit()\n",
    "Eq_7_r = Integral(_lambda_**6, [_lambda_, -1, 1]); Eq_7_r_ = Eq_7_r.doit()\n",
    "Eq_8_r = Integral(_lambda_**7, [_lambda_, -1, 1]); Eq_8_r_ = Eq_8_r.doit()"
   ]
  },
  {
   "cell_type": "markdown",
   "metadata": {},
   "source": [
    "<H5>1-Point Rule:"
   ]
  },
  {
   "cell_type": "code",
   "execution_count": 7,
   "metadata": {
    "collapsed": false
   },
   "outputs": [
    {
     "data": {
      "text/html": [
       "\\begin{equation}\\begin{aligned}{w_{1}}={\\int_{-1}^{1} 1\\, d\\lambda}={2}\\end{aligned}\\end{equation}\\begin{equation}\\begin{aligned}{\\lambda_{1} w_{1}}={\\int_{-1}^{1} \\lambda\\, d\\lambda}={0}\\end{aligned}\\end{equation}"
      ],
      "text/plain": [
       "<IPython.core.display.HTML object>"
      ]
     },
     "metadata": {},
     "output_type": "display_data"
    },
    {
     "data": {
      "text/html": [
       "\\({w_{1}}={2}\\)$\\,\\,\\,\\,\\,$\\({\\lambda_{1}}={0}\\)"
      ],
      "text/plain": [
       "<IPython.core.display.HTML object>"
      ]
     },
     "metadata": {},
     "output_type": "display_data"
    }
   ],
   "source": [
    "Eq_1_l = w_1 * lambda_1**0\n",
    "Eq_2_l = w_1 * lambda_1**1\n",
    "\n",
    "eqs_disp([Eq_1_l, Eq_1_r, Eq_1_r_],\n",
    "         [Eq_2_l, Eq_2_r, Eq_2_r_], inline=False)\n",
    "\n",
    "sol = solve([Eq_1_l - Eq_1_r_, \n",
    "             Eq_2_l - Eq_2_r_])\n",
    "\n",
    "w_1_val, lambda_1_val = sol[0][w_1], sol[0][lambda_1]\n",
    "\n",
    "eqs_disp([w_1, w_1_val], \n",
    "         [lambda_1, lambda_1_val])"
   ]
  },
  {
   "cell_type": "markdown",
   "metadata": {},
   "source": [
    "<H5>2-Point Rule:"
   ]
  },
  {
   "cell_type": "code",
   "execution_count": 4,
   "metadata": {
    "collapsed": false
   },
   "outputs": [
    {
     "data": {
      "text/html": [
       "\\begin{equation}\\begin{aligned}{w_{1} + w_{2}}={\\int_{-1}^{1} 1\\, d\\lambda}={2}\\end{aligned}\\end{equation}\\begin{equation}\\begin{aligned}{\\lambda_{1} w_{1} + \\lambda_{2} w_{2}}={\\int_{-1}^{1} \\lambda\\, d\\lambda}={0}\\end{aligned}\\end{equation}\\begin{equation}\\begin{aligned}{\\lambda_{1}^{2} w_{1} + \\lambda_{2}^{2} w_{2}}={\\int_{-1}^{1} \\lambda^{2}\\, d\\lambda}={\\frac{2}{3}}\\end{aligned}\\end{equation}\\begin{equation}\\begin{aligned}{\\lambda_{1}^{3} w_{1} + \\lambda_{2}^{3} w_{2}}={\\int_{-1}^{1} \\lambda^{3}\\, d\\lambda}={0}\\end{aligned}\\end{equation}"
      ],
      "text/plain": [
       "<IPython.core.display.HTML object>"
      ]
     },
     "metadata": {},
     "output_type": "display_data"
    },
    {
     "data": {
      "text/html": [
       "\\({w_{1}}={1}\\)$\\,\\,\\,\\,\\,$\\({w_{2}}={1}\\)$\\,\\,\\,\\,\\,$\\({\\lambda_{1}}={- \\frac{\\sqrt{3}}{3}}\\)$\\,\\,\\,\\,\\,$\\({\\lambda_{2}}={\\frac{\\sqrt{3}}{3}}\\)"
      ],
      "text/plain": [
       "<IPython.core.display.HTML object>"
      ]
     },
     "metadata": {},
     "output_type": "display_data"
    }
   ],
   "source": [
    "Eq_1_l = w_1 * lambda_1**0 + w_2 * lambda_2**0\n",
    "Eq_2_l = w_1 * lambda_1**1 + w_2 * lambda_2**1\n",
    "Eq_3_l = w_1 * lambda_1**2 + w_2 * lambda_2**2\n",
    "Eq_4_l = w_1 * lambda_1**3 + w_2 * lambda_2**3\n",
    "\n",
    "eqs_disp([Eq_1_l, Eq_1_r, Eq_1_r_],\n",
    "         [Eq_2_l, Eq_2_r, Eq_2_r_],\n",
    "         [Eq_3_l, Eq_3_r, Eq_3_r_],\n",
    "         [Eq_4_l, Eq_4_r, Eq_4_r_], inline=False)\n",
    "\n",
    "sol = solve([Eq_1_l - Eq_1_r_, \n",
    "             Eq_2_l - Eq_2_r_, \n",
    "             Eq_3_l - Eq_3_r_, \n",
    "             Eq_4_l - Eq_4_r_])\n",
    "\n",
    "w_1_val, w_2_val, lambda_1_val, lambda_2_val = sol[0][w_1], sol[0][w_2], sol[0][lambda_1], sol[0][lambda_2]\n",
    "\n",
    "eqs_disp([w_1, w_1_val], \n",
    "         [w_2, w_2_val], \n",
    "         [lambda_1, lambda_1_val], \n",
    "         [lambda_2, lambda_2_val])"
   ]
  },
  {
   "cell_type": "markdown",
   "metadata": {},
   "source": [
    "<H5>3-Point Rule:"
   ]
  },
  {
   "cell_type": "code",
   "execution_count": 5,
   "metadata": {
    "collapsed": false
   },
   "outputs": [
    {
     "data": {
      "text/html": [
       "\\begin{equation}\\begin{aligned}{w_{1} + w_{2} + w_{3}}={\\int_{-1}^{1} 1\\, d\\lambda}={2}\\end{aligned}\\end{equation}\\begin{equation}\\begin{aligned}{\\lambda_{1} w_{1} + \\lambda_{2} w_{2} + \\lambda_{3} w_{3}}={\\int_{-1}^{1} \\lambda\\, d\\lambda}={0}\\end{aligned}\\end{equation}\\begin{equation}\\begin{aligned}{\\lambda_{1}^{2} w_{1} + \\lambda_{2}^{2} w_{2} + \\lambda_{3}^{2} w_{3}}={\\int_{-1}^{1} \\lambda^{2}\\, d\\lambda}={\\frac{2}{3}}\\end{aligned}\\end{equation}\\begin{equation}\\begin{aligned}{\\lambda_{1}^{3} w_{1} + \\lambda_{2}^{3} w_{2} + \\lambda_{3}^{3} w_{3}}={\\int_{-1}^{1} \\lambda^{3}\\, d\\lambda}={0}\\end{aligned}\\end{equation}\\begin{equation}\\begin{aligned}{\\lambda_{1}^{4} w_{1} + \\lambda_{2}^{4} w_{2} + \\lambda_{3}^{4} w_{3}}={\\int_{-1}^{1} \\lambda^{4}\\, d\\lambda}={\\frac{2}{5}}\\end{aligned}\\end{equation}\\begin{equation}\\begin{aligned}{\\lambda_{1}^{5} w_{1} + \\lambda_{2}^{5} w_{2} + \\lambda_{3}^{5} w_{3}}={\\int_{-1}^{1} \\lambda^{5}\\, d\\lambda}={0}\\end{aligned}\\end{equation}"
      ],
      "text/plain": [
       "<IPython.core.display.HTML object>"
      ]
     },
     "metadata": {},
     "output_type": "display_data"
    },
    {
     "data": {
      "text/html": [
       "\\({w_{1}}={\\frac{8}{9}}\\)$\\,\\,\\,\\,\\,$\\({w_{2}}={\\frac{5}{9}}\\)$\\,\\,\\,\\,\\,$\\({w_{3}}={\\frac{5}{9}}\\)$\\,\\,\\,\\,\\,$\\({\\lambda_{1}}={0}\\)$\\,\\,\\,\\,\\,$\\({\\lambda_{2}}={- \\frac{\\sqrt{15}}{5}}\\)$\\,\\,\\,\\,\\,$\\({\\lambda_{3}}={\\frac{\\sqrt{15}}{5}}\\)"
      ],
      "text/plain": [
       "<IPython.core.display.HTML object>"
      ]
     },
     "metadata": {},
     "output_type": "display_data"
    }
   ],
   "source": [
    "Eq_1_l = w_1 * lambda_1**0 + w_2 * lambda_2**0 + w_3 * lambda_3**0\n",
    "Eq_2_l = w_1 * lambda_1**1 + w_2 * lambda_2**1 + w_3 * lambda_3**1\n",
    "Eq_3_l = w_1 * lambda_1**2 + w_2 * lambda_2**2 + w_3 * lambda_3**2\n",
    "Eq_4_l = w_1 * lambda_1**3 + w_2 * lambda_2**3 + w_3 * lambda_3**3\n",
    "Eq_5_l = w_1 * lambda_1**4 + w_2 * lambda_2**4 + w_3 * lambda_3**4\n",
    "Eq_6_l = w_1 * lambda_1**5 + w_2 * lambda_2**5 + w_3 * lambda_3**5\n",
    "\n",
    "eqs_disp([Eq_1_l, Eq_1_r, Eq_1_r_],\n",
    "         [Eq_2_l, Eq_2_r, Eq_2_r_],\n",
    "         [Eq_3_l, Eq_3_r, Eq_3_r_],\n",
    "         [Eq_4_l, Eq_4_r, Eq_4_r_], \n",
    "         [Eq_5_l, Eq_5_r, Eq_5_r_], \n",
    "         [Eq_6_l, Eq_6_r, Eq_6_r_], inline=False)\n",
    "\n",
    "sol = solve([Eq_1_l - Eq_1_r_, \n",
    "             Eq_2_l - Eq_2_r_, \n",
    "             Eq_3_l - Eq_3_r_, \n",
    "             Eq_4_l - Eq_4_r_,\n",
    "             Eq_5_l - Eq_5_r_,\n",
    "             Eq_6_l - Eq_6_r_])\n",
    "\n",
    "w_1_val, w_2_val, w_3_val, lambda_1_val, lambda_2_val, lambda_3_val = sol[0][w_1], sol[0][w_2], sol[0][w_3], sol[0][lambda_1], sol[0][lambda_2], sol[0][lambda_3]\n",
    "\n",
    "eqs_disp([w_1, w_1_val], \n",
    "         [w_2, w_2_val], \n",
    "         [w_3, w_3_val],\n",
    "         [lambda_1, lambda_1_val], \n",
    "         [lambda_2, lambda_2_val],\n",
    "         [lambda_3, lambda_3_val])"
   ]
  },
  {
   "cell_type": "markdown",
   "metadata": {},
   "source": [
    "<H5>4-Point Rule:"
   ]
  },
  {
   "cell_type": "code",
   "execution_count": 6,
   "metadata": {
    "collapsed": false
   },
   "outputs": [
    {
     "data": {
      "text/html": [
       "\\begin{equation}\\begin{aligned}{w_{1} + w_{2} + w_{3} + w_{4}}={\\int_{-1}^{1} 1\\, d\\lambda}={2}\\end{aligned}\\end{equation}\\begin{equation}\\begin{aligned}{\\lambda_{1} w_{1} + \\lambda_{2} w_{2} + \\lambda_{3} w_{3} + \\lambda_{4} w_{4}}={\\int_{-1}^{1} \\lambda\\, d\\lambda}={0}\\end{aligned}\\end{equation}\\begin{equation}\\begin{aligned}{\\lambda_{1}^{2} w_{1} + \\lambda_{2}^{2} w_{2} + \\lambda_{3}^{2} w_{3} + \\lambda_{4}^{2} w_{4}}={\\int_{-1}^{1} \\lambda^{2}\\, d\\lambda}={\\frac{2}{3}}\\end{aligned}\\end{equation}\\begin{equation}\\begin{aligned}{\\lambda_{1}^{3} w_{1} + \\lambda_{2}^{3} w_{2} + \\lambda_{3}^{3} w_{3} + \\lambda_{4}^{3} w_{4}}={\\int_{-1}^{1} \\lambda^{3}\\, d\\lambda}={0}\\end{aligned}\\end{equation}\\begin{equation}\\begin{aligned}{\\lambda_{1}^{4} w_{1} + \\lambda_{2}^{4} w_{2} + \\lambda_{3}^{4} w_{3} + \\lambda_{4}^{4} w_{4}}={\\int_{-1}^{1} \\lambda^{4}\\, d\\lambda}={\\frac{2}{5}}\\end{aligned}\\end{equation}\\begin{equation}\\begin{aligned}{\\lambda_{1}^{5} w_{1} + \\lambda_{2}^{5} w_{2} + \\lambda_{3}^{5} w_{3} + \\lambda_{4}^{5} w_{4}}={\\int_{-1}^{1} \\lambda^{5}\\, d\\lambda}={0}\\end{aligned}\\end{equation}\\begin{equation}\\begin{aligned}{\\lambda_{1}^{6} w_{1} + \\lambda_{2}^{6} w_{2} + \\lambda_{3}^{6} w_{3} + \\lambda_{4}^{6} w_{4}}={\\int_{-1}^{1} \\lambda^{6}\\, d\\lambda}={\\frac{2}{7}}\\end{aligned}\\end{equation}\\begin{equation}\\begin{aligned}{\\lambda_{1}^{7} w_{1} + \\lambda_{2}^{7} w_{2} + \\lambda_{3}^{7} w_{3} + \\lambda_{4}^{7} w_{4}}={\\int_{-1}^{1} \\lambda^{7}\\, d\\lambda}={0}\\end{aligned}\\end{equation}"
      ],
      "text/plain": [
       "<IPython.core.display.HTML object>"
      ]
     },
     "metadata": {},
     "output_type": "display_data"
    },
    {
     "ename": "KeyboardInterrupt",
     "evalue": "",
     "output_type": "error",
     "traceback": [
      "\u001b[1;31m---------------------------------------------------------------------------\u001b[0m",
      "\u001b[1;31mKeyboardInterrupt\u001b[0m                         Traceback (most recent call last)",
      "\u001b[1;32m<ipython-input-6-2dc2acbfed3e>\u001b[0m in \u001b[0;36m<module>\u001b[1;34m()\u001b[0m\n\u001b[0;32m     24\u001b[0m              \u001b[0mEq_6_l\u001b[0m \u001b[1;33m-\u001b[0m \u001b[0mEq_6_r_\u001b[0m\u001b[1;33m,\u001b[0m\u001b[1;33m\u001b[0m\u001b[0m\n\u001b[0;32m     25\u001b[0m              \u001b[0mEq_7_l\u001b[0m \u001b[1;33m-\u001b[0m \u001b[0mEq_7_r_\u001b[0m\u001b[1;33m,\u001b[0m\u001b[1;33m\u001b[0m\u001b[0m\n\u001b[1;32m---> 26\u001b[1;33m              Eq_8_l - Eq_8_r_])\n\u001b[0m\u001b[0;32m     27\u001b[0m \u001b[1;33m\u001b[0m\u001b[0m\n\u001b[0;32m     28\u001b[0m \u001b[0mw_1_val\u001b[0m\u001b[1;33m,\u001b[0m \u001b[0mw_2_val\u001b[0m\u001b[1;33m,\u001b[0m \u001b[0mw_3_val\u001b[0m\u001b[1;33m,\u001b[0m \u001b[0mw_4_val\u001b[0m\u001b[1;33m,\u001b[0m \u001b[0mlambda_1_val\u001b[0m\u001b[1;33m,\u001b[0m \u001b[0mlambda_2_val\u001b[0m\u001b[1;33m,\u001b[0m \u001b[0mlambda_3_val\u001b[0m\u001b[1;33m,\u001b[0m \u001b[0mlambda_4_val\u001b[0m \u001b[1;33m=\u001b[0m \u001b[0msol\u001b[0m\u001b[1;33m[\u001b[0m\u001b[1;36m0\u001b[0m\u001b[1;33m]\u001b[0m\u001b[1;33m[\u001b[0m\u001b[0mw_1\u001b[0m\u001b[1;33m]\u001b[0m\u001b[1;33m,\u001b[0m \u001b[0msol\u001b[0m\u001b[1;33m[\u001b[0m\u001b[1;36m0\u001b[0m\u001b[1;33m]\u001b[0m\u001b[1;33m[\u001b[0m\u001b[0mw_2\u001b[0m\u001b[1;33m]\u001b[0m\u001b[1;33m,\u001b[0m \u001b[0msol\u001b[0m\u001b[1;33m[\u001b[0m\u001b[1;36m0\u001b[0m\u001b[1;33m]\u001b[0m\u001b[1;33m[\u001b[0m\u001b[0mw_3\u001b[0m\u001b[1;33m]\u001b[0m\u001b[1;33m,\u001b[0m \u001b[0msol\u001b[0m\u001b[1;33m[\u001b[0m\u001b[1;36m0\u001b[0m\u001b[1;33m]\u001b[0m\u001b[1;33m[\u001b[0m\u001b[0mw_4\u001b[0m\u001b[1;33m]\u001b[0m\u001b[1;33m,\u001b[0m \u001b[0msol\u001b[0m\u001b[1;33m[\u001b[0m\u001b[1;36m0\u001b[0m\u001b[1;33m]\u001b[0m\u001b[1;33m[\u001b[0m\u001b[0mlambda_1\u001b[0m\u001b[1;33m]\u001b[0m\u001b[1;33m,\u001b[0m \u001b[0msol\u001b[0m\u001b[1;33m[\u001b[0m\u001b[1;36m0\u001b[0m\u001b[1;33m]\u001b[0m\u001b[1;33m[\u001b[0m\u001b[0mlambda_2\u001b[0m\u001b[1;33m]\u001b[0m\u001b[1;33m,\u001b[0m \u001b[0msol\u001b[0m\u001b[1;33m[\u001b[0m\u001b[1;36m0\u001b[0m\u001b[1;33m]\u001b[0m\u001b[1;33m[\u001b[0m\u001b[0mlambda_3\u001b[0m\u001b[1;33m]\u001b[0m\u001b[1;33m,\u001b[0m \u001b[0msol\u001b[0m\u001b[1;33m[\u001b[0m\u001b[1;36m0\u001b[0m\u001b[1;33m]\u001b[0m\u001b[1;33m[\u001b[0m\u001b[0mlambda_4\u001b[0m\u001b[1;33m]\u001b[0m\u001b[1;33m\u001b[0m\u001b[0m\n",
      "\u001b[1;32mC:\\Python34\\lib\\site-packages\\sympy\\solvers\\solvers.py\u001b[0m in \u001b[0;36msolve\u001b[1;34m(f, *symbols, **flags)\u001b[0m\n\u001b[0;32m    909\u001b[0m         \u001b[0msolution\u001b[0m \u001b[1;33m=\u001b[0m \u001b[0m_solve\u001b[0m\u001b[1;33m(\u001b[0m\u001b[0mf\u001b[0m\u001b[1;33m[\u001b[0m\u001b[1;36m0\u001b[0m\u001b[1;33m]\u001b[0m\u001b[1;33m,\u001b[0m \u001b[1;33m*\u001b[0m\u001b[0msymbols\u001b[0m\u001b[1;33m,\u001b[0m \u001b[1;33m**\u001b[0m\u001b[0mflags\u001b[0m\u001b[1;33m)\u001b[0m\u001b[1;33m\u001b[0m\u001b[0m\n\u001b[0;32m    910\u001b[0m     \u001b[1;32melse\u001b[0m\u001b[1;33m:\u001b[0m\u001b[1;33m\u001b[0m\u001b[0m\n\u001b[1;32m--> 911\u001b[1;33m         \u001b[0msolution\u001b[0m \u001b[1;33m=\u001b[0m \u001b[0m_solve_system\u001b[0m\u001b[1;33m(\u001b[0m\u001b[0mf\u001b[0m\u001b[1;33m,\u001b[0m \u001b[0msymbols\u001b[0m\u001b[1;33m,\u001b[0m \u001b[1;33m**\u001b[0m\u001b[0mflags\u001b[0m\u001b[1;33m)\u001b[0m\u001b[1;33m\u001b[0m\u001b[0m\n\u001b[0m\u001b[0;32m    912\u001b[0m \u001b[1;33m\u001b[0m\u001b[0m\n\u001b[0;32m    913\u001b[0m     \u001b[1;31m#\u001b[0m\u001b[1;33m\u001b[0m\u001b[1;33m\u001b[0m\u001b[0m\n",
      "\u001b[1;32mC:\\Python34\\lib\\site-packages\\sympy\\solvers\\solvers.py\u001b[0m in \u001b[0;36m_solve_system\u001b[1;34m(exprs, symbols, **flags)\u001b[0m\n\u001b[0;32m   1523\u001b[0m             \u001b[1;32melse\u001b[0m\u001b[1;33m:\u001b[0m\u001b[1;33m\u001b[0m\u001b[0m\n\u001b[0;32m   1524\u001b[0m                 \u001b[1;32mtry\u001b[0m\u001b[1;33m:\u001b[0m\u001b[1;33m\u001b[0m\u001b[0m\n\u001b[1;32m-> 1525\u001b[1;33m                     \u001b[0mresult\u001b[0m \u001b[1;33m=\u001b[0m \u001b[0msolve_poly_system\u001b[0m\u001b[1;33m(\u001b[0m\u001b[0mpolys\u001b[0m\u001b[1;33m,\u001b[0m \u001b[1;33m*\u001b[0m\u001b[0msymbols\u001b[0m\u001b[1;33m)\u001b[0m\u001b[1;33m\u001b[0m\u001b[0m\n\u001b[0m\u001b[0;32m   1526\u001b[0m                     \u001b[0msolved_syms\u001b[0m \u001b[1;33m=\u001b[0m \u001b[0msymbols\u001b[0m\u001b[1;33m\u001b[0m\u001b[0m\n\u001b[0;32m   1527\u001b[0m                 \u001b[1;32mexcept\u001b[0m \u001b[0mNotImplementedError\u001b[0m\u001b[1;33m:\u001b[0m\u001b[1;33m\u001b[0m\u001b[0m\n",
      "\u001b[1;32mC:\\Python34\\lib\\site-packages\\sympy\\solvers\\polysys.py\u001b[0m in \u001b[0;36msolve_poly_system\u001b[1;34m(seq, *gens, **args)\u001b[0m\n\u001b[0;32m     47\u001b[0m                 \u001b[1;32mpass\u001b[0m\u001b[1;33m\u001b[0m\u001b[0m\n\u001b[0;32m     48\u001b[0m \u001b[1;33m\u001b[0m\u001b[0m\n\u001b[1;32m---> 49\u001b[1;33m     \u001b[1;32mreturn\u001b[0m \u001b[0msolve_generic\u001b[0m\u001b[1;33m(\u001b[0m\u001b[0mpolys\u001b[0m\u001b[1;33m,\u001b[0m \u001b[0mopt\u001b[0m\u001b[1;33m)\u001b[0m\u001b[1;33m\u001b[0m\u001b[0m\n\u001b[0m\u001b[0;32m     50\u001b[0m \u001b[1;33m\u001b[0m\u001b[0m\n\u001b[0;32m     51\u001b[0m \u001b[1;33m\u001b[0m\u001b[0m\n",
      "\u001b[1;32mC:\\Python34\\lib\\site-packages\\sympy\\solvers\\polysys.py\u001b[0m in \u001b[0;36msolve_generic\u001b[1;34m(polys, opt)\u001b[0m\n\u001b[0;32m    226\u001b[0m \u001b[1;33m\u001b[0m\u001b[0m\n\u001b[0;32m    227\u001b[0m     \u001b[1;32mtry\u001b[0m\u001b[1;33m:\u001b[0m\u001b[1;33m\u001b[0m\u001b[0m\n\u001b[1;32m--> 228\u001b[1;33m         \u001b[0mresult\u001b[0m \u001b[1;33m=\u001b[0m \u001b[0m_solve_reduced_system\u001b[0m\u001b[1;33m(\u001b[0m\u001b[0mpolys\u001b[0m\u001b[1;33m,\u001b[0m \u001b[0mopt\u001b[0m\u001b[1;33m.\u001b[0m\u001b[0mgens\u001b[0m\u001b[1;33m,\u001b[0m \u001b[0mentry\u001b[0m\u001b[1;33m=\u001b[0m\u001b[1;32mTrue\u001b[0m\u001b[1;33m)\u001b[0m\u001b[1;33m\u001b[0m\u001b[0m\n\u001b[0m\u001b[0;32m    229\u001b[0m     \u001b[1;32mexcept\u001b[0m \u001b[0mCoercionFailed\u001b[0m\u001b[1;33m:\u001b[0m\u001b[1;33m\u001b[0m\u001b[0m\n\u001b[0;32m    230\u001b[0m         \u001b[1;32mraise\u001b[0m \u001b[0mNotImplementedError\u001b[0m\u001b[1;33m\u001b[0m\u001b[0m\n",
      "\u001b[1;32mC:\\Python34\\lib\\site-packages\\sympy\\solvers\\polysys.py\u001b[0m in \u001b[0;36m_solve_reduced_system\u001b[1;34m(system, gens, entry)\u001b[0m\n\u001b[0;32m    182\u001b[0m             \u001b[1;32mreturn\u001b[0m \u001b[1;33m[\u001b[0m \u001b[1;33m(\u001b[0m\u001b[0mzero\u001b[0m\u001b[1;33m,\u001b[0m\u001b[1;33m)\u001b[0m \u001b[1;32mfor\u001b[0m \u001b[0mzero\u001b[0m \u001b[1;32min\u001b[0m \u001b[0mzeros\u001b[0m \u001b[1;33m]\u001b[0m\u001b[1;33m\u001b[0m\u001b[0m\n\u001b[0;32m    183\u001b[0m \u001b[1;33m\u001b[0m\u001b[0m\n\u001b[1;32m--> 184\u001b[1;33m         \u001b[0mbasis\u001b[0m \u001b[1;33m=\u001b[0m \u001b[0mgroebner\u001b[0m\u001b[1;33m(\u001b[0m\u001b[0msystem\u001b[0m\u001b[1;33m,\u001b[0m \u001b[0mgens\u001b[0m\u001b[1;33m,\u001b[0m \u001b[0mpolys\u001b[0m\u001b[1;33m=\u001b[0m\u001b[1;32mTrue\u001b[0m\u001b[1;33m)\u001b[0m\u001b[1;33m\u001b[0m\u001b[0m\n\u001b[0m\u001b[0;32m    185\u001b[0m \u001b[1;33m\u001b[0m\u001b[0m\n\u001b[0;32m    186\u001b[0m         \u001b[1;32mif\u001b[0m \u001b[0mlen\u001b[0m\u001b[1;33m(\u001b[0m\u001b[0mbasis\u001b[0m\u001b[1;33m)\u001b[0m \u001b[1;33m==\u001b[0m \u001b[1;36m1\u001b[0m \u001b[1;32mand\u001b[0m \u001b[0mbasis\u001b[0m\u001b[1;33m[\u001b[0m\u001b[1;36m0\u001b[0m\u001b[1;33m]\u001b[0m\u001b[1;33m.\u001b[0m\u001b[0mis_ground\u001b[0m\u001b[1;33m:\u001b[0m\u001b[1;33m\u001b[0m\u001b[0m\n",
      "\u001b[1;32mC:\\Python34\\lib\\site-packages\\sympy\\polys\\polytools.py\u001b[0m in \u001b[0;36mgroebner\u001b[1;34m(F, *gens, **args)\u001b[0m\n\u001b[0;32m   6380\u001b[0m \u001b[1;33m\u001b[0m\u001b[0m\n\u001b[0;32m   6381\u001b[0m     \"\"\"\n\u001b[1;32m-> 6382\u001b[1;33m     \u001b[1;32mreturn\u001b[0m \u001b[0mGroebnerBasis\u001b[0m\u001b[1;33m(\u001b[0m\u001b[0mF\u001b[0m\u001b[1;33m,\u001b[0m \u001b[1;33m*\u001b[0m\u001b[0mgens\u001b[0m\u001b[1;33m,\u001b[0m \u001b[1;33m**\u001b[0m\u001b[0margs\u001b[0m\u001b[1;33m)\u001b[0m\u001b[1;33m\u001b[0m\u001b[0m\n\u001b[0m\u001b[0;32m   6383\u001b[0m \u001b[1;33m\u001b[0m\u001b[0m\n\u001b[0;32m   6384\u001b[0m \u001b[1;33m\u001b[0m\u001b[0m\n",
      "\u001b[1;32mC:\\Python34\\lib\\site-packages\\sympy\\polys\\polytools.py\u001b[0m in \u001b[0;36m__new__\u001b[1;34m(cls, F, *gens, **args)\u001b[0m\n\u001b[0;32m   6420\u001b[0m             \u001b[0mpolys\u001b[0m\u001b[1;33m[\u001b[0m\u001b[0mi\u001b[0m\u001b[1;33m]\u001b[0m \u001b[1;33m=\u001b[0m \u001b[0mring\u001b[0m\u001b[1;33m.\u001b[0m\u001b[0mfrom_dict\u001b[0m\u001b[1;33m(\u001b[0m\u001b[0mpoly\u001b[0m\u001b[1;33m.\u001b[0m\u001b[0mrep\u001b[0m\u001b[1;33m.\u001b[0m\u001b[0mto_dict\u001b[0m\u001b[1;33m(\u001b[0m\u001b[1;33m)\u001b[0m\u001b[1;33m)\u001b[0m\u001b[1;33m\u001b[0m\u001b[0m\n\u001b[0;32m   6421\u001b[0m \u001b[1;33m\u001b[0m\u001b[0m\n\u001b[1;32m-> 6422\u001b[1;33m         \u001b[0mG\u001b[0m \u001b[1;33m=\u001b[0m \u001b[0m_groebner\u001b[0m\u001b[1;33m(\u001b[0m\u001b[0mpolys\u001b[0m\u001b[1;33m,\u001b[0m \u001b[0mring\u001b[0m\u001b[1;33m,\u001b[0m \u001b[0mmethod\u001b[0m\u001b[1;33m=\u001b[0m\u001b[0mopt\u001b[0m\u001b[1;33m.\u001b[0m\u001b[0mmethod\u001b[0m\u001b[1;33m)\u001b[0m\u001b[1;33m\u001b[0m\u001b[0m\n\u001b[0m\u001b[0;32m   6423\u001b[0m         \u001b[0mG\u001b[0m \u001b[1;33m=\u001b[0m \u001b[1;33m[\u001b[0m\u001b[0mPoly\u001b[0m\u001b[1;33m.\u001b[0m\u001b[0m_from_dict\u001b[0m\u001b[1;33m(\u001b[0m\u001b[0mg\u001b[0m\u001b[1;33m,\u001b[0m \u001b[0mopt\u001b[0m\u001b[1;33m)\u001b[0m \u001b[1;32mfor\u001b[0m \u001b[0mg\u001b[0m \u001b[1;32min\u001b[0m \u001b[0mG\u001b[0m\u001b[1;33m]\u001b[0m\u001b[1;33m\u001b[0m\u001b[0m\n\u001b[0;32m   6424\u001b[0m \u001b[1;33m\u001b[0m\u001b[0m\n",
      "\u001b[1;32mC:\\Python34\\lib\\site-packages\\sympy\\polys\\groebnertools.py\u001b[0m in \u001b[0;36mgroebner\u001b[1;34m(seq, ring, method)\u001b[0m\n\u001b[0;32m     43\u001b[0m             \u001b[0mseq\u001b[0m \u001b[1;33m=\u001b[0m \u001b[1;33m[\u001b[0m \u001b[0ms\u001b[0m\u001b[1;33m.\u001b[0m\u001b[0mset_ring\u001b[0m\u001b[1;33m(\u001b[0m\u001b[0mring\u001b[0m\u001b[1;33m)\u001b[0m \u001b[1;32mfor\u001b[0m \u001b[0ms\u001b[0m \u001b[1;32min\u001b[0m \u001b[0mseq\u001b[0m \u001b[1;33m]\u001b[0m\u001b[1;33m\u001b[0m\u001b[0m\n\u001b[0;32m     44\u001b[0m \u001b[1;33m\u001b[0m\u001b[0m\n\u001b[1;32m---> 45\u001b[1;33m     \u001b[0mG\u001b[0m \u001b[1;33m=\u001b[0m \u001b[0m_groebner\u001b[0m\u001b[1;33m(\u001b[0m\u001b[0mseq\u001b[0m\u001b[1;33m,\u001b[0m \u001b[0mring\u001b[0m\u001b[1;33m)\u001b[0m\u001b[1;33m\u001b[0m\u001b[0m\n\u001b[0m\u001b[0;32m     46\u001b[0m \u001b[1;33m\u001b[0m\u001b[0m\n\u001b[0;32m     47\u001b[0m     \u001b[1;32mif\u001b[0m \u001b[0morig\u001b[0m \u001b[1;32mis\u001b[0m \u001b[1;32mnot\u001b[0m \u001b[1;32mNone\u001b[0m\u001b[1;33m:\u001b[0m\u001b[1;33m\u001b[0m\u001b[0m\n",
      "\u001b[1;32mC:\\Python34\\lib\\site-packages\\sympy\\polys\\groebnertools.py\u001b[0m in \u001b[0;36m_buchberger\u001b[1;34m(f, ring)\u001b[0m\n\u001b[0;32m    236\u001b[0m         \u001b[1;31m# ordering divisors is on average more efficient [Cox] page 111\u001b[0m\u001b[1;33m\u001b[0m\u001b[1;33m\u001b[0m\u001b[0m\n\u001b[0;32m    237\u001b[0m         \u001b[0mG1\u001b[0m \u001b[1;33m=\u001b[0m \u001b[0msorted\u001b[0m\u001b[1;33m(\u001b[0m\u001b[0mG\u001b[0m\u001b[1;33m,\u001b[0m \u001b[0mkey\u001b[0m\u001b[1;33m=\u001b[0m\u001b[1;32mlambda\u001b[0m \u001b[0mg\u001b[0m\u001b[1;33m:\u001b[0m \u001b[0morder\u001b[0m\u001b[1;33m(\u001b[0m\u001b[0mf\u001b[0m\u001b[1;33m[\u001b[0m\u001b[0mg\u001b[0m\u001b[1;33m]\u001b[0m\u001b[1;33m.\u001b[0m\u001b[0mLM\u001b[0m\u001b[1;33m)\u001b[0m\u001b[1;33m)\u001b[0m\u001b[1;33m\u001b[0m\u001b[0m\n\u001b[1;32m--> 238\u001b[1;33m         \u001b[0mht\u001b[0m \u001b[1;33m=\u001b[0m \u001b[0mnormal\u001b[0m\u001b[1;33m(\u001b[0m\u001b[0mh\u001b[0m\u001b[1;33m,\u001b[0m \u001b[0mG1\u001b[0m\u001b[1;33m)\u001b[0m\u001b[1;33m\u001b[0m\u001b[0m\n\u001b[0m\u001b[0;32m    239\u001b[0m \u001b[1;33m\u001b[0m\u001b[0m\n\u001b[0;32m    240\u001b[0m         \u001b[1;32mif\u001b[0m \u001b[0mht\u001b[0m\u001b[1;33m:\u001b[0m\u001b[1;33m\u001b[0m\u001b[0m\n",
      "\u001b[1;32mC:\\Python34\\lib\\site-packages\\sympy\\polys\\groebnertools.py\u001b[0m in \u001b[0;36mnormal\u001b[1;34m(g, J)\u001b[0m\n\u001b[0;32m    102\u001b[0m \u001b[1;33m\u001b[0m\u001b[0m\n\u001b[0;32m    103\u001b[0m     \u001b[1;32mdef\u001b[0m \u001b[0mnormal\u001b[0m\u001b[1;33m(\u001b[0m\u001b[0mg\u001b[0m\u001b[1;33m,\u001b[0m \u001b[0mJ\u001b[0m\u001b[1;33m)\u001b[0m\u001b[1;33m:\u001b[0m\u001b[1;33m\u001b[0m\u001b[0m\n\u001b[1;32m--> 104\u001b[1;33m         \u001b[0mh\u001b[0m \u001b[1;33m=\u001b[0m \u001b[0mg\u001b[0m\u001b[1;33m.\u001b[0m\u001b[0mrem\u001b[0m\u001b[1;33m(\u001b[0m\u001b[1;33m[\u001b[0m \u001b[0mf\u001b[0m\u001b[1;33m[\u001b[0m\u001b[0mj\u001b[0m\u001b[1;33m]\u001b[0m \u001b[1;32mfor\u001b[0m \u001b[0mj\u001b[0m \u001b[1;32min\u001b[0m \u001b[0mJ\u001b[0m \u001b[1;33m]\u001b[0m\u001b[1;33m)\u001b[0m\u001b[1;33m\u001b[0m\u001b[0m\n\u001b[0m\u001b[0;32m    105\u001b[0m \u001b[1;33m\u001b[0m\u001b[0m\n\u001b[0;32m    106\u001b[0m         \u001b[1;32mif\u001b[0m \u001b[1;32mnot\u001b[0m \u001b[0mh\u001b[0m\u001b[1;33m:\u001b[0m\u001b[1;33m\u001b[0m\u001b[0m\n",
      "\u001b[1;32mC:\\Python34\\lib\\site-packages\\sympy\\polys\\rings.py\u001b[0m in \u001b[0;36mrem\u001b[1;34m(f, G)\u001b[0m\n\u001b[0;32m   1412\u001b[0m         \u001b[1;32mwhile\u001b[0m \u001b[0mf\u001b[0m\u001b[1;33m:\u001b[0m\u001b[1;33m\u001b[0m\u001b[0m\n\u001b[0;32m   1413\u001b[0m             \u001b[1;32mfor\u001b[0m \u001b[0mg\u001b[0m \u001b[1;32min\u001b[0m \u001b[0mG\u001b[0m\u001b[1;33m:\u001b[0m\u001b[1;33m\u001b[0m\u001b[0m\n\u001b[1;32m-> 1414\u001b[1;33m                 \u001b[0mtq\u001b[0m \u001b[1;33m=\u001b[0m \u001b[0mterm_div\u001b[0m\u001b[1;33m(\u001b[0m\u001b[0mltf\u001b[0m\u001b[1;33m,\u001b[0m \u001b[0mg\u001b[0m\u001b[1;33m.\u001b[0m\u001b[0mLT\u001b[0m\u001b[1;33m)\u001b[0m\u001b[1;33m\u001b[0m\u001b[0m\n\u001b[0m\u001b[0;32m   1415\u001b[0m                 \u001b[1;32mif\u001b[0m \u001b[0mtq\u001b[0m \u001b[1;32mis\u001b[0m \u001b[1;32mnot\u001b[0m \u001b[1;32mNone\u001b[0m\u001b[1;33m:\u001b[0m\u001b[1;33m\u001b[0m\u001b[0m\n\u001b[0;32m   1416\u001b[0m                     \u001b[0mm\u001b[0m\u001b[1;33m,\u001b[0m \u001b[0mc\u001b[0m \u001b[1;33m=\u001b[0m \u001b[0mtq\u001b[0m\u001b[1;33m\u001b[0m\u001b[0m\n",
      "\u001b[1;32mC:\\Python34\\lib\\site-packages\\sympy\\polys\\rings.py\u001b[0m in \u001b[0;36mLT\u001b[1;34m(self)\u001b[0m\n\u001b[0;32m   1674\u001b[0m     \u001b[1;33m@\u001b[0m\u001b[0mproperty\u001b[0m\u001b[1;33m\u001b[0m\u001b[0m\n\u001b[0;32m   1675\u001b[0m     \u001b[1;32mdef\u001b[0m \u001b[0mLT\u001b[0m\u001b[1;33m(\u001b[0m\u001b[0mself\u001b[0m\u001b[1;33m)\u001b[0m\u001b[1;33m:\u001b[0m\u001b[1;33m\u001b[0m\u001b[0m\n\u001b[1;32m-> 1676\u001b[1;33m         \u001b[0mexpv\u001b[0m \u001b[1;33m=\u001b[0m \u001b[0mself\u001b[0m\u001b[1;33m.\u001b[0m\u001b[0mleading_expv\u001b[0m\u001b[1;33m(\u001b[0m\u001b[1;33m)\u001b[0m\u001b[1;33m\u001b[0m\u001b[0m\n\u001b[0m\u001b[0;32m   1677\u001b[0m         \u001b[1;32mif\u001b[0m \u001b[0mexpv\u001b[0m \u001b[1;32mis\u001b[0m \u001b[1;32mNone\u001b[0m\u001b[1;33m:\u001b[0m\u001b[1;33m\u001b[0m\u001b[0m\n\u001b[0;32m   1678\u001b[0m             \u001b[1;32mreturn\u001b[0m \u001b[1;33m(\u001b[0m\u001b[0mself\u001b[0m\u001b[1;33m.\u001b[0m\u001b[0mring\u001b[0m\u001b[1;33m.\u001b[0m\u001b[0mzero_monom\u001b[0m\u001b[1;33m,\u001b[0m \u001b[0mself\u001b[0m\u001b[1;33m.\u001b[0m\u001b[0mring\u001b[0m\u001b[1;33m.\u001b[0m\u001b[0mdomain\u001b[0m\u001b[1;33m.\u001b[0m\u001b[0mzero\u001b[0m\u001b[1;33m)\u001b[0m\u001b[1;33m\u001b[0m\u001b[0m\n",
      "\u001b[1;32mC:\\Python34\\lib\\site-packages\\sympy\\polys\\rings.py\u001b[0m in \u001b[0;36mleading_expv\u001b[1;34m(self)\u001b[0m\n\u001b[0;32m   1594\u001b[0m         \"\"\"\n\u001b[0;32m   1595\u001b[0m         \u001b[1;32mif\u001b[0m \u001b[0mself\u001b[0m\u001b[1;33m:\u001b[0m\u001b[1;33m\u001b[0m\u001b[0m\n\u001b[1;32m-> 1596\u001b[1;33m             \u001b[1;32mreturn\u001b[0m \u001b[0mself\u001b[0m\u001b[1;33m.\u001b[0m\u001b[0mring\u001b[0m\u001b[1;33m.\u001b[0m\u001b[0mleading_expv\u001b[0m\u001b[1;33m(\u001b[0m\u001b[0mself\u001b[0m\u001b[1;33m)\u001b[0m\u001b[1;33m\u001b[0m\u001b[0m\n\u001b[0m\u001b[0;32m   1597\u001b[0m         \u001b[1;32melse\u001b[0m\u001b[1;33m:\u001b[0m\u001b[1;33m\u001b[0m\u001b[0m\n\u001b[0;32m   1598\u001b[0m             \u001b[1;32mreturn\u001b[0m \u001b[1;32mNone\u001b[0m\u001b[1;33m\u001b[0m\u001b[0m\n",
      "\u001b[1;31mKeyboardInterrupt\u001b[0m: "
     ]
    }
   ],
   "source": [
    "Eq_1_l = w_1 * lambda_1**0 + w_2 * lambda_2**0 + w_3 * lambda_3**0 + w_4 * lambda_4**0\n",
    "Eq_2_l = w_1 * lambda_1**1 + w_2 * lambda_2**1 + w_3 * lambda_3**1 + w_4 * lambda_4**1\n",
    "Eq_3_l = w_1 * lambda_1**2 + w_2 * lambda_2**2 + w_3 * lambda_3**2 + w_4 * lambda_4**2\n",
    "Eq_4_l = w_1 * lambda_1**3 + w_2 * lambda_2**3 + w_3 * lambda_3**3 + w_4 * lambda_4**3\n",
    "Eq_5_l = w_1 * lambda_1**4 + w_2 * lambda_2**4 + w_3 * lambda_3**4 + w_4 * lambda_4**4\n",
    "Eq_6_l = w_1 * lambda_1**5 + w_2 * lambda_2**5 + w_3 * lambda_3**5 + w_4 * lambda_4**5\n",
    "Eq_7_l = w_1 * lambda_1**6 + w_2 * lambda_2**6 + w_3 * lambda_3**6 + w_4 * lambda_4**6\n",
    "Eq_8_l = w_1 * lambda_1**7 + w_2 * lambda_2**7 + w_3 * lambda_3**7 + w_4 * lambda_4**7\n",
    "\n",
    "eqs_disp([Eq_1_l, Eq_1_r, Eq_1_r_],\n",
    "         [Eq_2_l, Eq_2_r, Eq_2_r_],\n",
    "         [Eq_3_l, Eq_3_r, Eq_3_r_],\n",
    "         [Eq_4_l, Eq_4_r, Eq_4_r_], \n",
    "         [Eq_5_l, Eq_5_r, Eq_5_r_], \n",
    "         [Eq_6_l, Eq_6_r, Eq_6_r_], \n",
    "         [Eq_7_l, Eq_7_r, Eq_7_r_], \n",
    "         [Eq_8_l, Eq_8_r, Eq_8_r_], inline=False)\n",
    "\n",
    "sol = solve([Eq_1_l - Eq_1_r_, \n",
    "             Eq_2_l - Eq_2_r_, \n",
    "             Eq_3_l - Eq_3_r_, \n",
    "             Eq_4_l - Eq_4_r_,\n",
    "             Eq_5_l - Eq_5_r_,\n",
    "             Eq_6_l - Eq_6_r_,\n",
    "             Eq_7_l - Eq_7_r_,\n",
    "             Eq_8_l - Eq_8_r_])\n",
    "\n",
    "w_1_val, w_2_val, w_3_val, w_4_val, lambda_1_val, lambda_2_val, lambda_3_val, lambda_4_val = sol[0][w_1], sol[0][w_2], sol[0][w_3], sol[0][w_4], sol[0][lambda_1], sol[0][lambda_2], sol[0][lambda_3], sol[0][lambda_4]\n",
    "\n",
    "eqs_disp([w_1, w_1_val], \n",
    "         [w_2, w_2_val], \n",
    "         [w_3, w_3_val],\n",
    "         [w_4, w_4_val],\n",
    "         [lambda_1, lambda_1_val], \n",
    "         [lambda_2, lambda_2_val],\n",
    "         [lambda_3, lambda_3_val],\n",
    "         [lambda_4, lambda_4_val])"
   ]
  },
  {
   "cell_type": "code",
   "execution_count": null,
   "metadata": {
    "collapsed": true
   },
   "outputs": [],
   "source": []
  }
 ],
 "metadata": {
  "kernelspec": {
   "display_name": "Python 3",
   "language": "python",
   "name": "python3"
  },
  "language_info": {
   "codemirror_mode": {
    "name": "ipython",
    "version": 3
   },
   "file_extension": ".py",
   "mimetype": "text/x-python",
   "name": "python",
   "nbconvert_exporter": "python",
   "pygments_lexer": "ipython3",
   "version": "3.4.3"
  }
 },
 "nbformat": 4,
 "nbformat_minor": 0
}
