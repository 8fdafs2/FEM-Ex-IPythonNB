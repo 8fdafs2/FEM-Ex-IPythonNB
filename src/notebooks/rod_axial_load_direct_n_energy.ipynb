{
 "cells": [
  {
   "cell_type": "code",
   "execution_count": 6,
   "metadata": {
    "collapsed": false
   },
   "outputs": [
    {
     "name": "stdout",
     "output_type": "stream",
     "text": [
      "IPython console for SymPy 0.7.6 (Python 3.4.3-64-bit) (ground types: gmpy)\n"
     ]
    }
   ],
   "source": [
    "from sympy import *\n",
    "init_session(quiet=True, use_latex='mathjax', use_unicode=True)\n",
    "from IPython.display import HTML, display\n",
    "\n",
    "import os, sys\n",
    "lib_path = os.path.abspath(os.path.join('..', 'src'))\n",
    "sys.path.append(lib_path)\n",
    "\n",
    "from EqDisp import eq_disp, eqs_disp"
   ]
  },
  {
   "cell_type": "markdown",
   "metadata": {
    "slideshow": {
     "slide_type": "-"
    }
   },
   "source": [
    "<img src=\"image/1.1.png\" alt=\"Figure 1.1\" align=left>\n",
    "<img src=\"image/1.2.png\" alt=\"Figure 1.2\" align=left>\n",
    "<img src=\"image/1.4.png\" alt=\"Figure 1.4\" align=left>\n",
    "<img src=\"image/1.5.png\" alt=\"Figure 1.5\" align=left>"
   ]
  },
  {
   "cell_type": "code",
   "execution_count": 7,
   "metadata": {
    "collapsed": false
   },
   "outputs": [],
   "source": [
    "# Global\n",
    "var('w_1 w_2 L P t E')\n",
    "# Element\n",
    "var('l_1 l_2 l_3 l_4')\n",
    "var('k_1 k_2 k_3 k_4')\n",
    "var('epsilon_1 epsilon_2 epsilon_3 epsilon_4')\n",
    "# Node\n",
    "var('A_1 A_2 A_3 A_4 A_5') \n",
    "var('u_1 u_2 u_3 u_4 u_5')\n",
    "var('f_1 f_2 f_3 f_4 f_5')\n",
    "var('R_1 R_2 R_3 R_4 R_5')\n",
    "var('P_1 P_2 P_3 P_4 P_5');"
   ]
  },
  {
   "cell_type": "code",
   "execution_count": 8,
   "metadata": {
    "collapsed": true
   },
   "outputs": [],
   "source": [
    "# Predefined Value\n",
    "E_val = 10.4e6\n",
    "w_1_val = 2\n",
    "w_2_val = 1\n",
    "t_val = 0.125\n",
    "L_val = 10\n",
    "P_val = 1e3"
   ]
  },
  {
   "cell_type": "code",
   "execution_count": 9,
   "metadata": {
    "collapsed": false
   },
   "outputs": [
    {
     "name": "stdout",
     "output_type": "stream",
     "text": [
      ">>> Element Stiffness Matrix by Direct Method:\n"
     ]
    },
    {
     "data": {
      "text/html": [
       "\\begin{equation}\\begin{aligned}{\\left[\\begin{matrix}f_{1}\\\\f_{2}\\end{matrix}\\right]}={\\left[\\begin{matrix}k_{1} & - k_{1}\\\\- k_{1} & k_{1}\\end{matrix}\\right] \\left[\\begin{matrix}u_{1}\\\\u_{2}\\end{matrix}\\right]}\\end{aligned}\\end{equation}\\begin{equation}\\begin{aligned}{\\left[\\begin{matrix}f_{2}\\\\f_{3}\\end{matrix}\\right]}={\\left[\\begin{matrix}k_{2} & - k_{2}\\\\- k_{2} & k_{2}\\end{matrix}\\right] \\left[\\begin{matrix}u_{2}\\\\u_{3}\\end{matrix}\\right]}\\end{aligned}\\end{equation}\\begin{equation}\\begin{aligned}{\\left[\\begin{matrix}f_{3}\\\\f_{4}\\end{matrix}\\right]}={\\left[\\begin{matrix}k_{3} & - k_{3}\\\\- k_{3} & k_{3}\\end{matrix}\\right] \\left[\\begin{matrix}u_{3}\\\\u_{4}\\end{matrix}\\right]}\\end{aligned}\\end{equation}\\begin{equation}\\begin{aligned}{\\left[\\begin{matrix}f_{4}\\\\f_{5}\\end{matrix}\\right]}={\\left[\\begin{matrix}k_{4} & - k_{4}\\\\- k_{4} & k_{4}\\end{matrix}\\right] \\left[\\begin{matrix}u_{4}\\\\u_{5}\\end{matrix}\\right]}\\end{aligned}\\end{equation}"
      ],
      "text/plain": [
       "<IPython.core.display.HTML object>"
      ]
     },
     "metadata": {},
     "output_type": "display_data"
    },
    {
     "name": "stdout",
     "output_type": "stream",
     "text": [
      ">>> Element Stiffness Matrix by Energy Method:\n"
     ]
    },
    {
     "data": {
      "text/html": [
       "\\begin{equation}\\begin{aligned}{\\left[\\begin{matrix}\\frac{\\partial}{\\partial u_{1}} \\Lambda_{1}{\\left (u_{1},u_{2} \\right )}\\\\\\frac{\\partial}{\\partial u_{2}} \\Lambda_{1}{\\left (u_{1},u_{2} \\right )}\\end{matrix}\\right]}={\\left[\\begin{matrix}k_{1} & - k_{1}\\\\- k_{1} & k_{1}\\end{matrix}\\right] \\left[\\begin{matrix}u_{1}\\\\u_{2}\\end{matrix}\\right]}\\end{aligned}\\end{equation}\\begin{equation}\\begin{aligned}{\\left[\\begin{matrix}\\frac{\\partial}{\\partial u_{2}} \\Lambda_{2}{\\left (u_{2},u_{3} \\right )}\\\\\\frac{\\partial}{\\partial u_{3}} \\Lambda_{2}{\\left (u_{2},u_{3} \\right )}\\end{matrix}\\right]}={\\left[\\begin{matrix}k_{2} & - k_{2}\\\\- k_{2} & k_{2}\\end{matrix}\\right] \\left[\\begin{matrix}u_{2}\\\\u_{3}\\end{matrix}\\right]}\\end{aligned}\\end{equation}\\begin{equation}\\begin{aligned}{\\left[\\begin{matrix}\\frac{\\partial}{\\partial u_{3}} \\Lambda_{3}{\\left (u_{3},u_{4} \\right )}\\\\\\frac{\\partial}{\\partial u_{4}} \\Lambda_{3}{\\left (u_{3},u_{4} \\right )}\\end{matrix}\\right]}={\\left[\\begin{matrix}k_{3} & - k_{3}\\\\- k_{3} & k_{3}\\end{matrix}\\right] \\left[\\begin{matrix}u_{3}\\\\u_{4}\\end{matrix}\\right]}\\end{aligned}\\end{equation}\\begin{equation}\\begin{aligned}{\\left[\\begin{matrix}\\frac{\\partial}{\\partial u_{4}} \\Lambda_{4}{\\left (u_{4},u_{5} \\right )}\\\\\\frac{\\partial}{\\partial u_{5}} \\Lambda_{4}{\\left (u_{4},u_{5} \\right )}\\end{matrix}\\right]}={\\left[\\begin{matrix}k_{4} & - k_{4}\\\\- k_{4} & k_{4}\\end{matrix}\\right] \\left[\\begin{matrix}u_{4}\\\\u_{5}\\end{matrix}\\right]}\\end{aligned}\\end{equation}"
      ],
      "text/plain": [
       "<IPython.core.display.HTML object>"
      ]
     },
     "metadata": {},
     "output_type": "display_data"
    },
    {
     "name": "stdout",
     "output_type": "stream",
     "text": [
      ">>> Equilibrium Equation:\n"
     ]
    },
    {
     "data": {
      "text/html": [
       "\\begin{equation}\\begin{aligned}{\\{R\\}}={[K]\\{u\\} - \\{F\\}}\\end{aligned}\\end{equation}"
      ],
      "text/plain": [
       "<IPython.core.display.HTML object>"
      ]
     },
     "metadata": {},
     "output_type": "display_data"
    },
    {
     "data": {
      "text/html": [
       "\\begin{equation}\\begin{aligned}{\\left[\\begin{matrix}R_{1}\\\\0\\\\0\\\\0\\\\0\\end{matrix}\\right]}={\\left[\\begin{matrix}k_{1} & - k_{1} & 0 & 0 & 0\\\\- k_{1} & k_{1} + k_{2} & - k_{2} & 0 & 0\\\\0 & - k_{2} & k_{2} + k_{3} & - k_{3} & 0\\\\0 & 0 & - k_{3} & k_{3} + k_{4} & - k_{4}\\\\0 & 0 & 0 & - k_{4} & k_{4}\\end{matrix}\\right] \\left[\\begin{matrix}u_{1}\\\\u_{2}\\\\u_{3}\\\\u_{4}\\\\u_{5}\\end{matrix}\\right]}={\\left[\\begin{matrix}0\\\\0\\\\0\\\\0\\\\- P_{5}\\end{matrix}\\right]}\\end{aligned}\\end{equation}"
      ],
      "text/plain": [
       "<IPython.core.display.HTML object>"
      ]
     },
     "metadata": {},
     "output_type": "display_data"
    },
    {
     "name": "stdout",
     "output_type": "stream",
     "text": [
      ">>> Equilibrium Equation (Reaction Force eliminated):\n"
     ]
    },
    {
     "data": {
      "text/html": [
       "\\begin{equation}\\begin{aligned}{[K_m]\\{u\\}}={\\{F\\}}\\end{aligned}\\end{equation}"
      ],
      "text/plain": [
       "<IPython.core.display.HTML object>"
      ]
     },
     "metadata": {},
     "output_type": "display_data"
    },
    {
     "data": {
      "text/html": [
       "\\begin{equation}\\begin{aligned}{\\left[\\begin{matrix}1 & 0 & 0 & 0 & 0\\\\0 & k_{1} + k_{2} & - k_{2} & 0 & 0\\\\0 & - k_{2} & k_{2} + k_{3} & - k_{3} & 0\\\\0 & 0 & - k_{3} & k_{3} + k_{4} & - k_{4}\\\\0 & 0 & 0 & - k_{4} & k_{4}\\end{matrix}\\right] \\left[\\begin{matrix}u_{1}\\\\u_{2}\\\\u_{3}\\\\u_{4}\\\\u_{5}\\end{matrix}\\right]}={\\left[\\begin{matrix}0\\\\0\\\\0\\\\0\\\\P_{5}\\end{matrix}\\right]}\\end{aligned}\\end{equation}"
      ],
      "text/plain": [
       "<IPython.core.display.HTML object>"
      ]
     },
     "metadata": {},
     "output_type": "display_data"
    }
   ],
   "source": [
    "K_1 = Matrix([[k_1, -k_1], [-k_1, k_1]]); \n",
    "K_2 = Matrix([[k_2, -k_2], [-k_2, k_2]]); \n",
    "K_3 = Matrix([[k_3, -k_3], [-k_3, k_3]]); \n",
    "K_4 = Matrix([[k_4, -k_4], [-k_4, k_4]]); \n",
    "\n",
    "# Direct Method\n",
    "\n",
    "print('>>> Element Stiffness Matrix by Direct Method:')\n",
    "eqs_disp( [ Matrix([f_1, f_2]), MatMul(K_1, Matrix([u_1, u_2])) ],\n",
    "          [ Matrix([f_2, f_3]), MatMul(K_2, Matrix([u_2, u_3])) ],\n",
    "          [ Matrix([f_3, f_4]), MatMul(K_3, Matrix([u_3, u_4])) ],\n",
    "          [ Matrix([f_4, f_5]), MatMul(K_4, Matrix([u_4, u_5])) ],\n",
    "         inline = False)\n",
    "\n",
    "# Energy Method\n",
    "\n",
    "Lambda_1 = Function('Lambda_1')(u_1, u_2)\n",
    "Lambda_2 = Function('Lambda_2')(u_2, u_3)\n",
    "Lambda_3 = Function('Lambda_3')(u_3, u_4)\n",
    "Lambda_4 = Function('Lambda_4')(u_4, u_5)\n",
    "\n",
    "print('>>> Element Stiffness Matrix by Energy Method:')\n",
    "eqs_disp( [ Matrix([Derivative(Lambda_1, u_1), Derivative(Lambda_1, u_2)]), MatMul(K_1, Matrix([u_1, u_2])) ],\n",
    "          [ Matrix([Derivative(Lambda_2, u_2), Derivative(Lambda_2, u_3)]), MatMul(K_2, Matrix([u_2, u_3])) ],\n",
    "          [ Matrix([Derivative(Lambda_3, u_3), Derivative(Lambda_3, u_4)]), MatMul(K_3, Matrix([u_3, u_4])) ],\n",
    "          [ Matrix([Derivative(Lambda_4, u_4), Derivative(Lambda_4, u_5)]), MatMul(K_4, Matrix([u_4, u_5])) ],\n",
    "          inline = False)\n",
    "\n",
    "K = zeros(5,5)\n",
    "K[0:2, 0:2] += K_1\n",
    "K[1:3, 1:3] += K_2\n",
    "K[2:4, 2:4] += K_3\n",
    "K[3:5, 3:5] += K_4\n",
    "\n",
    "u = Matrix([u_1, u_2, u_3, u_4, u_5])\n",
    "\n",
    "R_1, R_2, R_3, R_4, R_5 = R_1, 0, 0, 0, 0\n",
    "R = Matrix([R_1, R_2, R_3, R_4, R_5])\n",
    "\n",
    "P_1, P_2, P_3, P_4, P_5 = 0, 0, 0, 0, P_5\n",
    "F = Matrix([P_1, P_2, P_3, P_4, P_5])\n",
    "\n",
    "K_m = Matrix(K)\n",
    "K_m[0, 0] = eye(1)\n",
    "K_m[1:5, 0] = zeros(4, 1)\n",
    "K_m[0, 1:5] = zeros(1, 4)\n",
    "\n",
    "print('>>> Equilibrium Equation:')\n",
    "eq_disp('\\{R\\}', '[K]\\{u\\} - \\{F\\}')\n",
    "eq_disp(R, MatMul(K, u), -F)\n",
    "\n",
    "print('>>> Equilibrium Equation (Reaction Force eliminated):')\n",
    "eq_disp('[K_m]\\{u\\}', '\\{F\\}')\n",
    "eq_disp(MatMul(K_m, u), F)"
   ]
  },
  {
   "cell_type": "code",
   "execution_count": 10,
   "metadata": {
    "collapsed": false
   },
   "outputs": [
    {
     "name": "stdout",
     "output_type": "stream",
     "text": [
      ">>> Element Stiffness:\n"
     ]
    },
    {
     "data": {
      "text/html": [
       "\\({k_1}={\\frac{E \\left(A_{1} + A_{2}\\right)}{2 l_{1}}}\\)$\\,\\,\\,\\,\\,$\\({k_2}={\\frac{E \\left(A_{2} + A_{3}\\right)}{2 l_{2}}}\\)$\\,\\,\\,\\,\\,$\\({k_3}={\\frac{E \\left(A_{3} + A_{4}\\right)}{2 l_{3}}}\\)$\\,\\,\\,\\,\\,$\\({k_4}={\\frac{E \\left(A_{4} + A_{5}\\right)}{2 l_{4}}}\\)"
      ],
      "text/plain": [
       "<IPython.core.display.HTML object>"
      ]
     },
     "metadata": {},
     "output_type": "display_data"
    },
    {
     "data": {
      "text/html": [
       "\\({k_1}={975000.0}\\)$\\,\\,\\,\\,\\,$\\({k_2}={845000.0}\\)$\\,\\,\\,\\,\\,$\\({k_3}={715000.0}\\)$\\,\\,\\,\\,\\,$\\({k_4}={585000.0}\\)"
      ],
      "text/plain": [
       "<IPython.core.display.HTML object>"
      ]
     },
     "metadata": {},
     "output_type": "display_data"
    }
   ],
   "source": [
    "k_1 = (A_2 + A_1) * E / (2 * l_1)\n",
    "k_2 = (A_3 + A_2) * E / (2 * l_2)\n",
    "k_3 = (A_4 + A_3) * E / (2 * l_3)\n",
    "k_4 = (A_5 + A_4) * E / (2 * l_4)\n",
    "\n",
    "l_1_val = l_2_val = l_3_val = l_4_val = L_val / 4\n",
    "\n",
    "A_1_val = t_val * w_1_val\n",
    "A_2_val = t_val * (w_1_val - (w_1_val - w_2_val) / 4 )\n",
    "A_3_val = t_val * (w_1_val - (w_1_val - w_2_val) / 4 * 2 )\n",
    "A_4_val = t_val * (w_1_val - (w_1_val - w_2_val) / 4 * 3 )\n",
    "A_5_val = t_val * w_2_val\n",
    "\n",
    "k_1_val = k_1.subs([(E, E_val), (A_1, A_1_val), (A_2, A_2_val), (l_1, l_1_val)])\n",
    "k_2_val = k_2.subs([(E, E_val), (A_2, A_2_val), (A_3, A_3_val), (l_2, l_2_val)])\n",
    "k_3_val = k_3.subs([(E, E_val), (A_3, A_3_val), (A_4, A_4_val), (l_3, l_3_val)])\n",
    "k_4_val = k_4.subs([(E, E_val), (A_4, A_4_val), (A_5, A_5_val), (l_4, l_4_val)])\n",
    "\n",
    "print('>>> Element Stiffness:')\n",
    "eqs_disp(('k_1', k_1), ('k_2', k_2), ('k_3', k_3), ('k_4', k_4))\n",
    "eqs_disp(('k_1', k_1_val), ('k_2', k_2_val), ('k_3', k_3_val), ('k_4', k_4_val))"
   ]
  },
  {
   "cell_type": "code",
   "execution_count": 11,
   "metadata": {
    "collapsed": false,
    "scrolled": true
   },
   "outputs": [
    {
     "name": "stdout",
     "output_type": "stream",
     "text": [
      ">>> Displacement Vector:\n"
     ]
    },
    {
     "data": {
      "text/html": [
       "\\begin{equation}\\begin{aligned}{\\{u\\}}&={[K_m]^{-1}\\{F\\}}\\\\&={\\left(\\left[\\begin{matrix}1 & 0 & 0 & 0 & 0\\\\0 & 1820000.0 & -845000.0 & 0 & 0\\\\0 & -845000.0 & 1560000.0 & -715000.0 & 0\\\\0 & 0 & -715000.0 & 1300000.0 & -585000.0\\\\0 & 0 & 0 & -585000.0 & 585000.0\\end{matrix}\\right]\\right)^{-1} \\left[\\begin{matrix}0\\\\0\\\\0\\\\0\\\\1000.0\\end{matrix}\\right]}\\\\&={\\left[\\begin{matrix}0\\\\0.00102564102564103\\\\0.00220907297830375\\\\0.00360767437690515\\\\0.00531707608630685\\end{matrix}\\right]}\\end{aligned}\\end{equation}"
      ],
      "text/plain": [
       "<IPython.core.display.HTML object>"
      ]
     },
     "metadata": {},
     "output_type": "display_data"
    },
    {
     "name": "stdout",
     "output_type": "stream",
     "text": [
      ">>> Reaction Force Vector:\n"
     ]
    },
    {
     "data": {
      "text/html": [
       "\\begin{equation}\\begin{aligned}{\\{R\\}}&={[K]\\{u\\} - \\{F\\}}\\\\&={\\left[\\begin{matrix}0\\\\0\\\\0\\\\0\\\\-1000.0\\end{matrix}\\right] + \\left[\\begin{matrix}975000.0 & -975000.0 & 0 & 0 & 0\\\\-975000.0 & 1820000.0 & -845000.0 & 0 & 0\\\\0 & -845000.0 & 1560000.0 & -715000.0 & 0\\\\0 & 0 & -715000.0 & 1300000.0 & -585000.0\\\\0 & 0 & 0 & -585000.0 & 585000.0\\end{matrix}\\right] \\left[\\begin{matrix}0\\\\0.00102564102564103\\\\0.00220907297830375\\\\0.00360767437690515\\\\0.00531707608630685\\end{matrix}\\right]}\\\\&={\\left[\\begin{matrix}-1000.0\\\\2.27373675443232 \\cdot 10^{-13}\\\\-4.54747350886464 \\cdot 10^{-13}\\\\4.54747350886464 \\cdot 10^{-13}\\\\0\\end{matrix}\\right]}\\end{aligned}\\end{equation}"
      ],
      "text/plain": [
       "<IPython.core.display.HTML object>"
      ]
     },
     "metadata": {},
     "output_type": "display_data"
    }
   ],
   "source": [
    "K_m_val = K_m.subs([('k_1', k_1_val), ('k_2', k_2_val), ('k_3', k_3_val), ('k_4', k_4_val)])\n",
    "\n",
    "F_val = F.subs(P_5, P_val)\n",
    "\n",
    "u_val = K_m_val**-1 * F_val\n",
    "\n",
    "K_val = K.subs([('k_1', k_1_val), ('k_2', k_2_val), ('k_3', k_3_val), ('k_4', k_4_val)])\n",
    "\n",
    "R_val = K_val * u_val - F_val\n",
    "\n",
    "print('>>> Displacement Vector:')\n",
    "eq_disp('\\{u\\}', \n",
    "        '[K_m]^{-1}\\{F\\}', True, \n",
    "        MatPow(K_m_val, -1) * F_val, True,\n",
    "        u_val)\n",
    "\n",
    "print('>>> Reaction Force Vector:')\n",
    "eq_disp('\\{R\\}', \n",
    "        '[K]\\{u\\} - \\{F\\}', True,\n",
    "        MatMul(K_val, u_val) - F_val, True,\n",
    "        R_val)"
   ]
  },
  {
   "cell_type": "code",
   "execution_count": 12,
   "metadata": {
    "collapsed": false
   },
   "outputs": [
    {
     "name": "stdout",
     "output_type": "stream",
     "text": [
      ">>> Strain Vector:\n"
     ]
    },
    {
     "data": {
      "text/html": [
       "\\begin{equation}\\begin{aligned}{\\{\\epsilon\\}}={\\left[\\begin{matrix}\\frac{1}{l_{1}} \\left(- u_{1} + u_{2}\\right)\\\\\\frac{1}{l_{2}} \\left(- u_{2} + u_{3}\\right)\\\\\\frac{1}{l_{3}} \\left(- u_{3} + u_{4}\\right)\\\\\\frac{1}{l_{4}} \\left(- u_{4} + u_{5}\\right)\\end{matrix}\\right]}={\\left[\\begin{matrix}0.00041025641025641\\\\0.000473372781065089\\\\0.000559440559440559\\\\0.000683760683760684\\end{matrix}\\right]}\\end{aligned}\\end{equation}"
      ],
      "text/plain": [
       "<IPython.core.display.HTML object>"
      ]
     },
     "metadata": {},
     "output_type": "display_data"
    },
    {
     "name": "stdout",
     "output_type": "stream",
     "text": [
      ">>> Stress Vector:\n"
     ]
    },
    {
     "data": {
      "text/html": [
       "\\begin{equation}\\begin{aligned}{\\{\\sigma\\}}={\\left[\\begin{matrix}E \\epsilon_{1}\\\\E \\epsilon_{2}\\\\E \\epsilon_{3}\\\\E \\epsilon_{4}\\end{matrix}\\right]}={\\left[\\begin{matrix}4266.66666666667\\\\4923.07692307692\\\\5818.18181818182\\\\7111.11111111111\\end{matrix}\\right]}\\end{aligned}\\end{equation}"
      ],
      "text/plain": [
       "<IPython.core.display.HTML object>"
      ]
     },
     "metadata": {},
     "output_type": "display_data"
    }
   ],
   "source": [
    "sigma_1 = E * epsilon_1\n",
    "sigma_2 = E * epsilon_2\n",
    "sigma_3 = E * epsilon_3\n",
    "sigma_4 = E * epsilon_4\n",
    "\n",
    "u_1_val, u_2_val, u_3_val, u_4_val, u_5_val = u_val\n",
    "\n",
    "epsilon_1 = (u_2 - u_1)/l_1\n",
    "epsilon_2 = (u_3 - u_2)/l_2\n",
    "epsilon_3 = (u_4 - u_3)/l_3\n",
    "epsilon_4 = (u_5 - u_4)/l_4\n",
    "\n",
    "epsilon_1_val = epsilon_1.subs([(u_1, u_1_val), (u_2, u_2_val), (l_1, l_1_val)])\n",
    "epsilon_2_val = epsilon_2.subs([(u_2, u_2_val), (u_3, u_3_val), (l_2, l_2_val)])\n",
    "epsilon_3_val = epsilon_3.subs([(u_3, u_3_val), (u_4, u_4_val), (l_3, l_3_val)])\n",
    "epsilon_4_val = epsilon_4.subs([(u_4, u_4_val), (u_5, u_5_val), (l_4, l_4_val)])\n",
    "\n",
    "epsilon = Matrix([epsilon_1, epsilon_2, epsilon_3, epsilon_4])\n",
    "epsilon_val = Matrix([epsilon_1_val, epsilon_2_val, epsilon_3_val, epsilon_4_val])\n",
    "\n",
    "sigma_1_val = sigma_1.subs([(E, E_val), ('epsilon_1', epsilon_1_val)])\n",
    "sigma_2_val = sigma_2.subs([(E, E_val), ('epsilon_2', epsilon_2_val)])\n",
    "sigma_3_val = sigma_3.subs([(E, E_val), ('epsilon_3', epsilon_3_val)])\n",
    "sigma_4_val = sigma_4.subs([(E, E_val), ('epsilon_4', epsilon_4_val)])\n",
    "\n",
    "sigma = Matrix([sigma_1, sigma_2, sigma_3, sigma_4])\n",
    "sigma_val = Matrix([sigma_1_val, sigma_2_val, sigma_3_val, sigma_4_val])\n",
    "\n",
    "print('>>> Strain Vector:')\n",
    "eq_disp('\\{\\epsilon\\}', epsilon, epsilon_val)\n",
    "\n",
    "print('>>> Stress Vector:')\n",
    "eq_disp('\\{\\sigma\\}', sigma, sigma_val)"
   ]
  },
  {
   "cell_type": "code",
   "execution_count": null,
   "metadata": {
    "collapsed": true
   },
   "outputs": [],
   "source": []
  }
 ],
 "metadata": {
  "kernelspec": {
   "display_name": "Python 3",
   "language": "python",
   "name": "python3"
  },
  "language_info": {
   "codemirror_mode": {
    "name": "ipython",
    "version": 3
   },
   "file_extension": ".py",
   "mimetype": "text/x-python",
   "name": "python",
   "nbconvert_exporter": "python",
   "pygments_lexer": "ipython3",
   "version": "3.4.3"
  }
 },
 "nbformat": 4,
 "nbformat_minor": 0
}
