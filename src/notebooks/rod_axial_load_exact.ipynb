{
 "cells": [
  {
   "cell_type": "code",
   "execution_count": 1,
   "metadata": {
    "collapsed": false
   },
   "outputs": [
    {
     "name": "stdout",
     "output_type": "stream",
     "text": [
      "IPython console for SymPy 0.7.6 (Python 3.4.3-64-bit) (ground types: gmpy)\n"
     ]
    }
   ],
   "source": [
    "from sympy import *\n",
    "init_session(quiet=True, use_latex='mathjax', use_unicode=True)\n",
    "from IPython.display import HTML, display\n",
    "\n",
    "import os, sys\n",
    "lib_path = os.path.abspath(os.path.join('..', 'src'))\n",
    "sys.path.append(lib_path)\n",
    "\n",
    "from EqDisp import eq_disp, eqs_disp"
   ]
  },
  {
   "cell_type": "markdown",
   "metadata": {
    "slideshow": {
     "slide_type": "-"
    }
   },
   "source": [
    "<img src=\"image/1.1.png\" alt=\"Figure 1.1\" align=left>"
   ]
  },
  {
   "cell_type": "code",
   "execution_count": 2,
   "metadata": {
    "collapsed": false
   },
   "outputs": [],
   "source": [
    "# Global\n",
    "var('w_1 w_2 L P t E')\n",
    "var('A, y, u, du_dy, epsilon')\n",
    "# Element\n",
    "var('l_1 l_2 l_3 l_4') \n",
    "var('epsilon_1 epsilon_2 epsilon_3 epsilon_4')\n",
    "var('sigma_1 sigma_2 sigma_3 sigma_4')\n",
    "# Node\n",
    "var('u_1 u_2 u_3 u_4 u_5')"
   ]
  },
  {
   "cell_type": "code",
   "execution_count": 5,
   "metadata": {
    "collapsed": true
   },
   "outputs": [],
   "source": [
    "# Predefined Value\n",
    "E_val = 10.4e6\n",
    "w_1_val = 2\n",
    "w_2_val = 1\n",
    "t_val = 0.125\n",
    "L_val = 10\n",
    "P_5_val = 1e3"
   ]
  },
  {
   "cell_type": "code",
   "execution_count": 3,
   "metadata": {
    "collapsed": false
   },
   "outputs": [
    {
     "name": "stdout",
     "output_type": "stream",
     "text": [
      ">>> Equilibrium Equation:\n"
     ]
    },
    {
     "data": {
      "text/html": [
       "\\({{\\epsilon}}={\\frac{du(y)}{dy}}\\)$\\,\\,\\,\\,\\,$\\({A(y)}={t \\left(w_{1} + \\frac{y}{L} \\left(- w_{1} + w_{2}\\right)\\right)}\\)"
      ],
      "text/plain": [
       "<IPython.core.display.HTML object>"
      ]
     },
     "metadata": {},
     "output_type": "display_data"
    },
    {
     "data": {
      "text/html": [
       "\\begin{equation}\\begin{aligned}{P-E{\\epsilon}A(y)}={P-EA(y)\\frac{du(y)}{dy}}={0}\\end{aligned}\\end{equation}"
      ],
      "text/plain": [
       "<IPython.core.display.HTML object>"
      ]
     },
     "metadata": {},
     "output_type": "display_data"
    },
    {
     "data": {
      "text/html": [
       "\\begin{equation}\\begin{aligned}{\\frac{du(y)}{dy}}={\\frac{P}{EA(y)}}={\\frac{P}{E t \\left(w_{1} + \\frac{y}{L} \\left(- w_{1} + w_{2}\\right)\\right)}}\\end{aligned}\\end{equation}"
      ],
      "text/plain": [
       "<IPython.core.display.HTML object>"
      ]
     },
     "metadata": {},
     "output_type": "display_data"
    }
   ],
   "source": [
    "A = (w_1 + (w_2-w_1)/L*y)*t\n",
    "du_dy = P / (E * A)\n",
    "\n",
    "print('>>> Equilibrium Equation:')\n",
    "eqs_disp([r'{\\epsilon}', r'\\frac{du(y)}{dy}'], [r'A(y)', A])\n",
    "eq_disp(r'P-E{\\epsilon}A(y)', r'P-EA(y)\\frac{du(y)}{dy}', 0)\n",
    "eq_disp(r'\\frac{du(y)}{dy}', r'\\frac{P}{EA(y)}', du_dy)"
   ]
  },
  {
   "cell_type": "code",
   "execution_count": 4,
   "metadata": {
    "collapsed": false,
    "scrolled": true
   },
   "outputs": [
    {
     "name": "stdout",
     "output_type": "stream",
     "text": [
      ">>> Diplacement: (obtained by integration)\n"
     ]
    },
    {
     "data": {
      "text/html": [
       "\\begin{equation}\\begin{aligned}{u(y)}&={\\int_{0}^{y} \\frac{P}{E t \\left(w_{1} + \\frac{y}{L} \\left(- w_{1} + w_{2}\\right)\\right)}\\, dy}\\\\&={\\frac{L P}{E t \\left(w_{1} - w_{2}\\right)} \\left(- \\log{\\left (E t \\left(- L w_{1} + y \\left(w_{1} - w_{2}\\right)\\right) \\right )} + \\log{\\left (- E L t w_{1} \\right )}\\right)}\\end{aligned}\\end{equation}"
      ],
      "text/plain": [
       "<IPython.core.display.HTML object>"
      ]
     },
     "metadata": {},
     "output_type": "display_data"
    }
   ],
   "source": [
    "u = Integral(du_dy, (y, 0, y))\n",
    "u_ = simplify(u.doit())\n",
    "\n",
    "print('>>> Diplacement: (obtained by integration)')\n",
    "\n",
    "eq_disp('u(y)', u, True, \n",
    "        u_)\n",
    "\n",
    "u = u_"
   ]
  },
  {
   "cell_type": "code",
   "execution_count": 6,
   "metadata": {
    "collapsed": false,
    "scrolled": true
   },
   "outputs": [
    {
     "name": "stdout",
     "output_type": "stream",
     "text": [
      ">>> Diplacement Vector:\n"
     ]
    },
    {
     "data": {
      "text/html": [
       "\\begin{equation}\\begin{aligned}{\\{u\\}}={\\left[\\begin{matrix}0\\\\0.00102716455865018\\\\0.00221293901885988\\\\0.00361541253265954\\\\0.00533190138892267\\end{matrix}\\right]}\\end{aligned}\\end{equation}"
      ],
      "text/plain": [
       "<IPython.core.display.HTML object>"
      ]
     },
     "metadata": {},
     "output_type": "display_data"
    }
   ],
   "source": [
    "l_1_val = l_2_val = l_3_val = l_4_val = L_val / 4\n",
    "\n",
    "u = u.subs([(E, E_val), (L, L_val), (P, P_5_val), (w_1, w_1_val), (w_2, w_2_val), (t, t_val)])\n",
    "\n",
    "u_1_val = u.subs(y, 0)\n",
    "u_2_val = u.subs(y, l_1_val)\n",
    "u_3_val = u.subs(y, l_1_val + l_2_val)\n",
    "u_4_val = u.subs(y, l_1_val + l_2_val + l_3_val)\n",
    "u_5_val = u.subs(y, l_1_val + l_2_val + l_3_val + l_4_val)\n",
    "\n",
    "u_val = Matrix([u_1_val, u_2_val, u_3_val, u_4_val, u_5_val])\n",
    "\n",
    "print('>>> Diplacement Vector:')\n",
    "eq_disp(r'\\{u\\}', u_val)"
   ]
  },
  {
   "cell_type": "code",
   "execution_count": 7,
   "metadata": {
    "collapsed": false
   },
   "outputs": [
    {
     "name": "stdout",
     "output_type": "stream",
     "text": [
      ">>> Strain Vector:\n"
     ]
    },
    {
     "data": {
      "text/html": [
       "\\begin{equation}\\begin{aligned}{\\{\\epsilon\\}}={\\left[\\begin{matrix}\\frac{1}{l_{1}} \\left(- u_{1} + u_{2}\\right)\\\\\\frac{1}{l_{2}} \\left(- u_{2} + u_{3}\\right)\\\\\\frac{1}{l_{3}} \\left(- u_{3} + u_{4}\\right)\\\\\\frac{1}{l_{4}} \\left(- u_{4} + u_{5}\\right)\\end{matrix}\\right]}={\\left[\\begin{matrix}0.000410865823460072\\\\0.000474309784083882\\\\0.000560989405519863\\\\0.000686595542505253\\end{matrix}\\right]}\\end{aligned}\\end{equation}"
      ],
      "text/plain": [
       "<IPython.core.display.HTML object>"
      ]
     },
     "metadata": {},
     "output_type": "display_data"
    },
    {
     "name": "stdout",
     "output_type": "stream",
     "text": [
      ">>> Stress Vector:\n"
     ]
    },
    {
     "data": {
      "text/html": [
       "\\begin{equation}\\begin{aligned}{\\{\\sigma\\}}={\\left[\\begin{matrix}E \\epsilon_{1}\\\\E \\epsilon_{2}\\\\E \\epsilon_{3}\\\\E \\epsilon_{4}\\end{matrix}\\right]}={\\left[\\begin{matrix}4273.00456398474\\\\4932.82175447237\\\\5834.28981740657\\\\7140.59364205463\\end{matrix}\\right]}\\end{aligned}\\end{equation}"
      ],
      "text/plain": [
       "<IPython.core.display.HTML object>"
      ]
     },
     "metadata": {},
     "output_type": "display_data"
    }
   ],
   "source": [
    "sigma_1 = E * epsilon_1\n",
    "sigma_2 = E * epsilon_2\n",
    "sigma_3 = E * epsilon_3\n",
    "sigma_4 = E * epsilon_4\n",
    "\n",
    "u_1_val, u_2_val, u_3_val, u_4_val, u_5_val = u_val\n",
    "\n",
    "epsilon_1 = (u_2 - u_1)/l_1\n",
    "epsilon_2 = (u_3 - u_2)/l_2\n",
    "epsilon_3 = (u_4 - u_3)/l_3\n",
    "epsilon_4 = (u_5 - u_4)/l_4\n",
    "\n",
    "epsilon_1_val = epsilon_1.subs([(u_1, u_1_val), (u_2, u_2_val), (l_1, l_1_val)])\n",
    "epsilon_2_val = epsilon_2.subs([(u_2, u_2_val), (u_3, u_3_val), (l_2, l_2_val)])\n",
    "epsilon_3_val = epsilon_3.subs([(u_3, u_3_val), (u_4, u_4_val), (l_3, l_3_val)])\n",
    "epsilon_4_val = epsilon_4.subs([(u_4, u_4_val), (u_5, u_5_val), (l_4, l_4_val)])\n",
    "\n",
    "epsilon = Matrix([epsilon_1, epsilon_2, epsilon_3, epsilon_4])\n",
    "epsilon_val = Matrix([epsilon_1_val, epsilon_2_val, epsilon_3_val, epsilon_4_val])\n",
    "\n",
    "sigma_1_val = sigma_1.subs([(E, E_val), ('epsilon_1', epsilon_1_val)])\n",
    "sigma_2_val = sigma_2.subs([(E, E_val), ('epsilon_2', epsilon_2_val)])\n",
    "sigma_3_val = sigma_3.subs([(E, E_val), ('epsilon_3', epsilon_3_val)])\n",
    "sigma_4_val = sigma_4.subs([(E, E_val), ('epsilon_4', epsilon_4_val)])\n",
    "\n",
    "sigma = Matrix([sigma_1, sigma_2, sigma_3, sigma_4])\n",
    "sigma_val = Matrix([sigma_1_val, sigma_2_val, sigma_3_val, sigma_4_val])\n",
    "\n",
    "print('>>> Strain Vector:')\n",
    "eq_disp('\\{\\epsilon\\}', epsilon, epsilon_val)\n",
    "\n",
    "print('>>> Stress Vector:')\n",
    "eq_disp('\\{\\sigma\\}', sigma, sigma_val)"
   ]
  },
  {
   "cell_type": "code",
   "execution_count": null,
   "metadata": {
    "collapsed": true
   },
   "outputs": [],
   "source": []
  }
 ],
 "metadata": {
  "kernelspec": {
   "display_name": "Python 3",
   "language": "python",
   "name": "python3"
  },
  "language_info": {
   "codemirror_mode": {
    "name": "ipython",
    "version": 3
   },
   "file_extension": ".py",
   "mimetype": "text/x-python",
   "name": "python",
   "nbconvert_exporter": "python",
   "pygments_lexer": "ipython3",
   "version": "3.4.3"
  }
 },
 "nbformat": 4,
 "nbformat_minor": 0
}
