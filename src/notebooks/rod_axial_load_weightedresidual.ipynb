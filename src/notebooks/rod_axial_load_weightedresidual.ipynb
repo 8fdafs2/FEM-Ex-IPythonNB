{
 "cells": [
  {
   "cell_type": "code",
   "execution_count": 2,
   "metadata": {
    "collapsed": false
   },
   "outputs": [
    {
     "name": "stdout",
     "output_type": "stream",
     "text": [
      "IPython console for SymPy 0.7.6 (Python 3.4.3-64-bit) (ground types: gmpy)\n"
     ]
    }
   ],
   "source": [
    "from sympy import *\n",
    "init_session(quiet=True, use_latex='mathjax', use_unicode=True)\n",
    "from IPython.display import HTML, display\n",
    "\n",
    "import os, sys\n",
    "lib_path = os.path.abspath(os.path.join('..', 'src'))\n",
    "sys.path.append(lib_path)\n",
    "\n",
    "from EqDisp import eq_disp, eqs_disp"
   ]
  },
  {
   "cell_type": "markdown",
   "metadata": {
    "slideshow": {
     "slide_type": "-"
    }
   },
   "source": [
    "<img src=\"image/1.1.png\" alt=\"Figure 1.1\" align=left>"
   ]
  },
  {
   "cell_type": "code",
   "execution_count": 10,
   "metadata": {
    "collapsed": false
   },
   "outputs": [],
   "source": [
    "# Global\n",
    "var('w_1 w_2 L P t E y')\n",
    "var('c_1 c_2 c_3')\n",
    "# Element\n",
    "var('l_1 l_2 l_3 l_4') \n",
    "var('epsilon_1 epsilon_2 epsilon_3 epsilon_4')\n",
    "# Node\n",
    "var('u_1 u_2 u_3 u_4 u_5');"
   ]
  },
  {
   "cell_type": "code",
   "execution_count": 4,
   "metadata": {
    "collapsed": true
   },
   "outputs": [],
   "source": [
    "# Predefined Value\n",
    "E_val = 10.4e6\n",
    "w_1_val = 2\n",
    "w_2_val = 1\n",
    "t_val = 0.125\n",
    "L_val = 10\n",
    "P_5_val = 1e3"
   ]
  },
  {
   "cell_type": "code",
   "execution_count": 5,
   "metadata": {
    "collapsed": false
   },
   "outputs": [
    {
     "name": "stdout",
     "output_type": "stream",
     "text": [
      ">>> Equilibrium Equation:\n"
     ]
    },
    {
     "data": {
      "text/html": [
       "\\({{\\epsilon}}={\\frac{du(y)}{dy}}\\)$\\,\\,\\,\\,\\,$\\({A(y)}={t \\left(w_{1} + \\frac{y}{L} \\left(- w_{1} + w_{2}\\right)\\right)}\\)"
      ],
      "text/plain": [
       "<IPython.core.display.HTML object>"
      ]
     },
     "metadata": {},
     "output_type": "display_data"
    },
    {
     "data": {
      "text/html": [
       "\\begin{equation}\\begin{aligned}{P-E{\\epsilon}A(y)}={P-EA(y)\\frac{du(y)}{dy}}={0}\\end{aligned}\\end{equation}"
      ],
      "text/plain": [
       "<IPython.core.display.HTML object>"
      ]
     },
     "metadata": {},
     "output_type": "display_data"
    },
    {
     "name": "stdout",
     "output_type": "stream",
     "text": [
      ">>> Displacement assumed to respect the law of cubic polynomial:\n"
     ]
    },
    {
     "data": {
      "text/html": [
       "\\begin{equation}\\begin{aligned}{u(y)}={c_{1} y + c_{2} y^{2} + c_{3} y^{3}}\\end{aligned}\\end{equation}"
      ],
      "text/plain": [
       "<IPython.core.display.HTML object>"
      ]
     },
     "metadata": {},
     "output_type": "display_data"
    },
    {
     "data": {
      "text/html": [
       "\\begin{equation}\\begin{aligned}{\\frac{du}{dy}}={c_{1} + 2 c_{2} y + 3 c_{3} y^{2}}\\end{aligned}\\end{equation}"
      ],
      "text/plain": [
       "<IPython.core.display.HTML object>"
      ]
     },
     "metadata": {},
     "output_type": "display_data"
    },
    {
     "name": "stdout",
     "output_type": "stream",
     "text": [
      ">>> Residual:\n"
     ]
    },
    {
     "data": {
      "text/html": [
       "\\begin{equation}\\begin{aligned}{\\Re}={P-E{\\epsilon}A(y)}={- E t \\left(w_{1} + \\frac{y}{L} \\left(- w_{1} + w_{2}\\right)\\right) \\left(c_{1} + 2 c_{2} y + 3 c_{3} y^{2}\\right) + P}\\end{aligned}\\end{equation}"
      ],
      "text/plain": [
       "<IPython.core.display.HTML object>"
      ]
     },
     "metadata": {},
     "output_type": "display_data"
    }
   ],
   "source": [
    "A = (w_1 + (w_2-w_1)/L*y)*t\n",
    "\n",
    "print('>>> Equilibrium Equation:')\n",
    "eqs_disp([r'{\\epsilon}', r'\\frac{du(y)}{dy}'], [r'A(y)', A])\n",
    "eq_disp(r'P-E{\\epsilon}A(y)', r'P-EA(y)\\frac{du(y)}{dy}', 0)\n",
    "\n",
    "u = c_1 * y + c_2 * y**2 + c_3 * y**3\n",
    "du_dy = diff(u, y)\n",
    "\n",
    "print('>>> Displacement assumed to respect the law of cubic polynomial:')\n",
    "eq_disp(r'u(y)', u)\n",
    "eq_disp(r'\\frac{du}{dy}', du_dy)\n",
    "\n",
    "Re = P - E * A * du_dy\n",
    "\n",
    "print('>>> Residual:')\n",
    "eq_disp(r'\\Re', r'P-E{\\epsilon}A(y)', Re)"
   ]
  },
  {
   "cell_type": "code",
   "execution_count": 6,
   "metadata": {
    "collapsed": false
   },
   "outputs": [
    {
     "name": "stdout",
     "output_type": "stream",
     "text": [
      ">>> Equation Set by Collocation Method: (In Use)\n"
     ]
    },
    {
     "data": {
      "text/html": [
       "\\begin{equation}\\begin{aligned}{Eq_1}={- E t \\left(\\frac{2 w_{1}}{3} + \\frac{w_{2}}{3}\\right) \\left(\\frac{L^{2} c_{3}}{3} + \\frac{2 L}{3} c_{2} + c_{1}\\right) + P}\\end{aligned}\\end{equation}\\begin{equation}\\begin{aligned}{Eq_2}={- E t \\left(\\frac{w_{1}}{3} + \\frac{2 w_{2}}{3}\\right) \\left(\\frac{4 c_{3}}{3} L^{2} + \\frac{4 L}{3} c_{2} + c_{1}\\right) + P}\\end{aligned}\\end{equation}\\begin{equation}\\begin{aligned}{Eq_3}={- E t w_{2} \\left(3 L^{2} c_{3} + 2 L c_{2} + c_{1}\\right) + P}\\end{aligned}\\end{equation}"
      ],
      "text/plain": [
       "<IPython.core.display.HTML object>"
      ]
     },
     "metadata": {},
     "output_type": "display_data"
    },
    {
     "name": "stdout",
     "output_type": "stream",
     "text": [
      ">>> Equation Set by Subdomain Method:\n"
     ]
    },
    {
     "data": {
      "text/html": [
       "\\begin{equation}\\begin{aligned}{Eq_1}={\\int_{0}^{\\frac{L}{3}} - E t \\left(w_{1} + \\frac{y}{L} \\left(- w_{1} + w_{2}\\right)\\right) \\left(c_{1} + 2 c_{2} y + 3 c_{3} y^{2}\\right) + P\\, dy}\\end{aligned}\\end{equation}\\begin{equation}\\begin{aligned}{Eq_2}={\\int_{\\frac{L}{3}}^{\\frac{2 L}{3}} - E t \\left(w_{1} + \\frac{y}{L} \\left(- w_{1} + w_{2}\\right)\\right) \\left(c_{1} + 2 c_{2} y + 3 c_{3} y^{2}\\right) + P\\, dy}\\end{aligned}\\end{equation}\\begin{equation}\\begin{aligned}{Eq_3}={\\int_{\\frac{2 L}{3}}^{L} - E t \\left(w_{1} + \\frac{y}{L} \\left(- w_{1} + w_{2}\\right)\\right) \\left(c_{1} + 2 c_{2} y + 3 c_{3} y^{2}\\right) + P\\, dy}\\end{aligned}\\end{equation}"
      ],
      "text/plain": [
       "<IPython.core.display.HTML object>"
      ]
     },
     "metadata": {},
     "output_type": "display_data"
    },
    {
     "name": "stdout",
     "output_type": "stream",
     "text": [
      ">>> Equation Set by Galerkin Method:\n"
     ]
    },
    {
     "data": {
      "text/html": [
       "\\begin{equation}\\begin{aligned}{Eq_1}={\\int_{0}^{L} y \\left(- E t \\left(w_{1} + \\frac{y}{L} \\left(- w_{1} + w_{2}\\right)\\right) \\left(c_{1} + 2 c_{2} y + 3 c_{3} y^{2}\\right) + P\\right)\\, dy}\\end{aligned}\\end{equation}\\begin{equation}\\begin{aligned}{Eq_2}={\\int_{0}^{L} y^{2} \\left(- E t \\left(w_{1} + \\frac{y}{L} \\left(- w_{1} + w_{2}\\right)\\right) \\left(c_{1} + 2 c_{2} y + 3 c_{3} y^{2}\\right) + P\\right)\\, dy}\\end{aligned}\\end{equation}\\begin{equation}\\begin{aligned}{Eq_3}={\\int_{0}^{L} y^{3} \\left(- E t \\left(w_{1} + \\frac{y}{L} \\left(- w_{1} + w_{2}\\right)\\right) \\left(c_{1} + 2 c_{2} y + 3 c_{3} y^{2}\\right) + P\\right)\\, dy}\\end{aligned}\\end{equation}"
      ],
      "text/plain": [
       "<IPython.core.display.HTML object>"
      ]
     },
     "metadata": {},
     "output_type": "display_data"
    },
    {
     "name": "stdout",
     "output_type": "stream",
     "text": [
      ">>> Equation Set by LeastSquare Method:\n"
     ]
    },
    {
     "data": {
      "text/html": [
       "\\begin{equation}\\begin{aligned}{Eq_1}={\\int_{0}^{L} \\left(- E t \\left(w_{1} + \\frac{y}{L} \\left(- w_{1} + w_{2}\\right)\\right) \\left(c_{1} + 2 c_{2} y + 3 c_{3} y^{2}\\right) + P\\right) \\frac{\\partial}{\\partial c_{1}}\\left(- E t \\left(w_{1} + \\frac{y}{L} \\left(- w_{1} + w_{2}\\right)\\right) \\left(c_{1} + 2 c_{2} y + 3 c_{3} y^{2}\\right) + P\\right)\\, dy}\\end{aligned}\\end{equation}\\begin{equation}\\begin{aligned}{Eq_2}={\\int_{0}^{L} \\left(- E t \\left(w_{1} + \\frac{y}{L} \\left(- w_{1} + w_{2}\\right)\\right) \\left(c_{1} + 2 c_{2} y + 3 c_{3} y^{2}\\right) + P\\right) \\frac{\\partial}{\\partial c_{2}}\\left(- E t \\left(w_{1} + \\frac{y}{L} \\left(- w_{1} + w_{2}\\right)\\right) \\left(c_{1} + 2 c_{2} y + 3 c_{3} y^{2}\\right) + P\\right)\\, dy}\\end{aligned}\\end{equation}\\begin{equation}\\begin{aligned}{Eq_3}={\\int_{0}^{L} \\left(- E t \\left(w_{1} + \\frac{y}{L} \\left(- w_{1} + w_{2}\\right)\\right) \\left(c_{1} + 2 c_{2} y + 3 c_{3} y^{2}\\right) + P\\right) \\frac{\\partial}{\\partial c_{3}}\\left(- E t \\left(w_{1} + \\frac{y}{L} \\left(- w_{1} + w_{2}\\right)\\right) \\left(c_{1} + 2 c_{2} y + 3 c_{3} y^{2}\\right) + P\\right)\\, dy}\\end{aligned}\\end{equation}"
      ],
      "text/plain": [
       "<IPython.core.display.HTML object>"
      ]
     },
     "metadata": {},
     "output_type": "display_data"
    }
   ],
   "source": [
    "# Collocation Method\n",
    "\n",
    "Eq_1_c = Re.subs(y, L/3)\n",
    "Eq_2_c = Re.subs(y, L/3*2)\n",
    "Eq_3_c = Re.subs(y, L)\n",
    "\n",
    "Eq_1, Eq_2, Eq_3 = Eq_1_c, Eq_2_c, Eq_3_c\n",
    "\n",
    "print('>>> Equation Set by Collocation Method: (In Use)')\n",
    "eqs_disp(['Eq_1', Eq_1_c], ['Eq_2', Eq_2_c], ['Eq_3', Eq_3_c], inline=False)\n",
    "\n",
    "# Subdomain Method\n",
    "\n",
    "Eq_1_s = Integral(Re, [y, 0, L/3])\n",
    "Eq_2_s = Integral(Re, [y, L/3, L/3*2])\n",
    "Eq_3_s = Integral(Re, [y, L/3*2, L])\n",
    "\n",
    "print('>>> Equation Set by Subdomain Method:')\n",
    "eqs_disp(['Eq_1', Eq_1_s], ['Eq_2', Eq_2_s], ['Eq_3', Eq_3_s], inline=False)\n",
    "\n",
    "# Galerkin Method\n",
    "\n",
    "phi_1, phi_2, phi_3 = y, y**2, y**3\n",
    "\n",
    "Eq_1_g = Integral(Re*phi_1, [y, 0, L])\n",
    "Eq_2_g = Integral(Re*phi_2, [y, 0, L])\n",
    "Eq_3_g = Integral(Re*phi_3, [y, 0, L])\n",
    "\n",
    "print('>>> Equation Set by Galerkin Method:')\n",
    "eqs_disp(['Eq_1', Eq_1_g], ['Eq_2', Eq_2_g], ['Eq_3', Eq_3_g], inline=False)\n",
    "\n",
    "# LeastSquare Method\n",
    "\n",
    "phi_1 = Derivative(Re, c_1)\n",
    "phi_2 = Derivative(Re, c_2)\n",
    "phi_3 = Derivative(Re, c_3)\n",
    "Eq_1_l = Integral(Re*phi_1, [y, 0, L])\n",
    "Eq_2_l = Integral(Re*phi_2, [y, 0, L])\n",
    "Eq_3_l = Integral(Re*phi_3, [y, 0, L])\n",
    "\n",
    "print('>>> Equation Set by LeastSquare Method:')\n",
    "eqs_disp(['Eq_1', Eq_1_l], ['Eq_2', Eq_2_l], ['Eq_3', Eq_3_l], inline=False)"
   ]
  },
  {
   "cell_type": "code",
   "execution_count": 7,
   "metadata": {
    "collapsed": false
   },
   "outputs": [
    {
     "name": "stdout",
     "output_type": "stream",
     "text": [
      ">>> polynomial coefficient obtained by solving the Equation Set:\n"
     ]
    },
    {
     "data": {
      "text/html": [
       "\\begin{equation}\\begin{aligned}{Eq_1}={- 2166666.66666667 c_{1} - 14444444.4444444 c_{2} - 72222222.2222222 c_{3} + 1000.0}={0}\\end{aligned}\\end{equation}\\begin{equation}\\begin{aligned}{Eq_2}={- 1733333.33333333 c_{1} - 23111111.1111111 c_{2} - 231111111.111111 c_{3} + 1000.0}={0}\\end{aligned}\\end{equation}\\begin{equation}\\begin{aligned}{Eq_3}={- 1733333.33333333 c_{1} - 23111111.1111111 c_{2} - 231111111.111111 c_{3} + 1000.0}={0}\\end{aligned}\\end{equation}"
      ],
      "text/plain": [
       "<IPython.core.display.HTML object>"
      ]
     },
     "metadata": {},
     "output_type": "display_data"
    },
    {
     "data": {
      "text/html": [
       "\\begin{equation}\\begin{aligned}{c_1}={0.000423076923076918}\\end{aligned}\\end{equation}\\begin{equation}\\begin{aligned}{c_2}={7.72189349112414 \\cdot 10^{-19}}\\end{aligned}\\end{equation}\\begin{equation}\\begin{aligned}{c_3}={1.15384615384612 \\cdot 10^{-6}}\\end{aligned}\\end{equation}"
      ],
      "text/plain": [
       "<IPython.core.display.HTML object>"
      ]
     },
     "metadata": {},
     "output_type": "display_data"
    }
   ],
   "source": [
    "Eq_1 = Eq_1.subs([(E, E_val), (P, P_5_val), (t, t_val), (L, L_val), (w_1, w_1_val), (w_2, w_2_val)]).doit()\n",
    "Eq_2 = Eq_2.subs([(E, E_val), (P, P_5_val), (t, t_val), (L, L_val), (w_1, w_1_val), (w_2, w_2_val)]).doit()\n",
    "Eq_3 = Eq_3.subs([(E, E_val), (P, P_5_val), (t, t_val), (L, L_val), (w_1, w_1_val), (w_2, w_2_val)]).doit()\n",
    "\n",
    "sol = solve([Eq_1, Eq_2, Eq_3], [c_1, c_2, c_3])\n",
    "c_1_val, c_2_val, c_3_val = sol[c_1], sol[c_2], sol[c_3]\n",
    "\n",
    "print('>>> polynomial coefficient obtained by solving the Equation Set:')\n",
    "eqs_disp([r'Eq_1', Eq_1, 0],\n",
    "         [r'Eq_2', Eq_2, 0],\n",
    "         [r'Eq_3', Eq_2, 0], inline = False)\n",
    "eqs_disp([r'c_1', c_1_val],\n",
    "         [r'c_2', c_2_val],\n",
    "         [r'c_3', c_3_val], inline = False)"
   ]
  },
  {
   "cell_type": "code",
   "execution_count": 8,
   "metadata": {
    "collapsed": false
   },
   "outputs": [
    {
     "name": "stdout",
     "output_type": "stream",
     "text": [
      ">>> Diplacement Vector:\n"
     ]
    },
    {
     "data": {
      "text/html": [
       "\\begin{equation}\\begin{aligned}{\\{u\\}}={\\left[\\begin{matrix}0\\\\0.00107572115384615\\\\0.00225961538461538\\\\0.00365985576923076\\\\0.00538461538461538\\end{matrix}\\right]}\\end{aligned}\\end{equation}"
      ],
      "text/plain": [
       "<IPython.core.display.HTML object>"
      ]
     },
     "metadata": {},
     "output_type": "display_data"
    }
   ],
   "source": [
    "l_1_val = l_2_val = l_3_val = l_4_val = L_val / 4\n",
    "\n",
    "u = u.subs([(c_1, c_1_val), (c_2, c_2_val), (c_3, c_3_val)])\n",
    "\n",
    "u_1_val = u.subs(y, 0)\n",
    "u_2_val = u.subs(y, l_1_val)\n",
    "u_3_val = u.subs(y, l_1_val + l_2_val)\n",
    "u_4_val = u.subs(y, l_1_val + l_2_val + l_3_val)\n",
    "u_5_val = u.subs(y, l_1_val + l_2_val + l_3_val + l_4_val)\n",
    "\n",
    "u_val = Matrix([u_1_val, u_2_val, u_3_val, u_4_val, u_5_val])\n",
    "\n",
    "print('>>> Diplacement Vector:')\n",
    "eq_disp(r'\\{u\\}', u_val)"
   ]
  },
  {
   "cell_type": "code",
   "execution_count": 9,
   "metadata": {
    "collapsed": false
   },
   "outputs": [
    {
     "name": "stdout",
     "output_type": "stream",
     "text": [
      ">>> Strain Vector:\n"
     ]
    },
    {
     "data": {
      "text/html": [
       "\\begin{equation}\\begin{aligned}{\\{\\epsilon\\}}={\\left[\\begin{matrix}\\frac{1}{l_{1}} \\left(- u_{1} + u_{2}\\right)\\\\\\frac{1}{l_{2}} \\left(- u_{2} + u_{3}\\right)\\\\\\frac{1}{l_{3}} \\left(- u_{3} + u_{4}\\right)\\\\\\frac{1}{l_{4}} \\left(- u_{4} + u_{5}\\right)\\end{matrix}\\right]}={\\left[\\begin{matrix}0.000430288461538459\\\\0.000473557692307692\\\\0.000560096153846155\\\\0.000689903846153847\\end{matrix}\\right]}\\end{aligned}\\end{equation}"
      ],
      "text/plain": [
       "<IPython.core.display.HTML object>"
      ]
     },
     "metadata": {},
     "output_type": "display_data"
    },
    {
     "name": "stdout",
     "output_type": "stream",
     "text": [
      ">>> Stress Vector:\n"
     ]
    },
    {
     "data": {
      "text/html": [
       "\\begin{equation}\\begin{aligned}{\\{\\sigma\\}}={\\left[\\begin{matrix}E \\epsilon_{1}\\\\E \\epsilon_{2}\\\\E \\epsilon_{3}\\\\E \\epsilon_{4}\\end{matrix}\\right]}={\\left[\\begin{matrix}4474.99999999997\\\\4925.0\\\\5825.00000000001\\\\7175.0\\end{matrix}\\right]}\\end{aligned}\\end{equation}"
      ],
      "text/plain": [
       "<IPython.core.display.HTML object>"
      ]
     },
     "metadata": {},
     "output_type": "display_data"
    }
   ],
   "source": [
    "sigma_1 = E * epsilon_1\n",
    "sigma_2 = E * epsilon_2\n",
    "sigma_3 = E * epsilon_3\n",
    "sigma_4 = E * epsilon_4\n",
    "\n",
    "u_1_val, u_2_val, u_3_val, u_4_val, u_5_val = u_val\n",
    "\n",
    "epsilon_1 = (u_2 - u_1)/l_1\n",
    "epsilon_2 = (u_3 - u_2)/l_2\n",
    "epsilon_3 = (u_4 - u_3)/l_3\n",
    "epsilon_4 = (u_5 - u_4)/l_4\n",
    "\n",
    "epsilon_1_val = epsilon_1.subs([(u_1, u_1_val), (u_2, u_2_val), (l_1, l_1_val)])\n",
    "epsilon_2_val = epsilon_2.subs([(u_2, u_2_val), (u_3, u_3_val), (l_2, l_2_val)])\n",
    "epsilon_3_val = epsilon_3.subs([(u_3, u_3_val), (u_4, u_4_val), (l_3, l_3_val)])\n",
    "epsilon_4_val = epsilon_4.subs([(u_4, u_4_val), (u_5, u_5_val), (l_4, l_4_val)])\n",
    "\n",
    "epsilon = Matrix([epsilon_1, epsilon_2, epsilon_3, epsilon_4])\n",
    "epsilon_val = Matrix([epsilon_1_val, epsilon_2_val, epsilon_3_val, epsilon_4_val])\n",
    "\n",
    "sigma_1_val = sigma_1.subs([(E, E_val), ('epsilon_1', epsilon_1_val)])\n",
    "sigma_2_val = sigma_2.subs([(E, E_val), ('epsilon_2', epsilon_2_val)])\n",
    "sigma_3_val = sigma_3.subs([(E, E_val), ('epsilon_3', epsilon_3_val)])\n",
    "sigma_4_val = sigma_4.subs([(E, E_val), ('epsilon_4', epsilon_4_val)])\n",
    "\n",
    "sigma = Matrix([sigma_1, sigma_2, sigma_3, sigma_4])\n",
    "sigma_val = Matrix([sigma_1_val, sigma_2_val, sigma_3_val, sigma_4_val])\n",
    "\n",
    "print('>>> Strain Vector:')\n",
    "eq_disp('\\{\\epsilon\\}', epsilon, epsilon_val)\n",
    "\n",
    "print('>>> Stress Vector:')\n",
    "eq_disp('\\{\\sigma\\}', sigma, sigma_val)"
   ]
  },
  {
   "cell_type": "code",
   "execution_count": null,
   "metadata": {
    "collapsed": true
   },
   "outputs": [],
   "source": []
  }
 ],
 "metadata": {
  "kernelspec": {
   "display_name": "Python 3",
   "language": "python",
   "name": "python3"
  },
  "language_info": {
   "codemirror_mode": {
    "name": "ipython",
    "version": 3
   },
   "file_extension": ".py",
   "mimetype": "text/x-python",
   "name": "python",
   "nbconvert_exporter": "python",
   "pygments_lexer": "ipython3",
   "version": "3.4.3"
  }
 },
 "nbformat": 4,
 "nbformat_minor": 0
}
