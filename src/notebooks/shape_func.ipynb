{
 "cells": [
  {
   "cell_type": "code",
   "execution_count": 65,
   "metadata": {
    "collapsed": false
   },
   "outputs": [
    {
     "name": "stdout",
     "output_type": "stream",
     "text": [
      "IPython console for SymPy 0.7.6 (Python 3.4.3-64-bit) (ground types: gmpy)\n"
     ]
    }
   ],
   "source": [
    "from sympy import *\n",
    "init_session(quiet=True, use_latex='mathjax', use_unicode=True)\n",
    "from IPython.display import HTML, display\n",
    "\n",
    "import os, sys\n",
    "lib_path = os.path.abspath(os.path.join('..', 'src'))\n",
    "sys.path.append(lib_path)\n",
    "\n",
    "from EqDisp import eq_disp, eqs_disp"
   ]
  },
  {
   "cell_type": "markdown",
   "metadata": {},
   "source": [
    "<img src=\"image/img_01.png\" alt=\"img_01\" align=left>"
   ]
  },
  {
   "cell_type": "markdown",
   "metadata": {},
   "source": [
    "For any element:\n",
    "\n",
    "$${S_1 = -\\frac {1}{\\ell}(-\\ell+x)}$$\n",
    "$${S_2 = \\frac {x}{\\ell}}$$"
   ]
  },
  {
   "cell_type": "code",
   "execution_count": 66,
   "metadata": {
    "collapsed": false
   },
   "outputs": [],
   "source": [
    "var('ell x xi X X_1 X_2 S_1 S_2 T_1 T_2');"
   ]
  },
  {
   "cell_type": "code",
   "execution_count": 67,
   "metadata": {
    "collapsed": false
   },
   "outputs": [
    {
     "data": {
      "text/html": [
       "\\begin{equation}\\begin{aligned}{T}={S_{1} T_{1} + S_{2} T_{2}}={\\frac{T_{1} \\left(X - X_{2}\\right)}{X_{1} - X_{2}} + \\frac{T_{2} \\left(X - X_{1}\\right)}{- X_{1} + X_{2}}}\\end{aligned}\\end{equation}"
      ],
      "text/plain": [
       "<IPython.core.display.HTML object>"
      ]
     },
     "metadata": {},
     "output_type": "display_data"
    }
   ],
   "source": [
    "T = S_1 * T_1 + S_2 * T_2\n",
    "\n",
    "S_1_ = (X - X_2) / (X_1 - X_2)\n",
    "S_2_ = (X - X_1) / (X_2 - X_1)\n",
    "\n",
    "T_ = S_1_ * T_1 + S_2_ * T_2\n",
    "\n",
    "eq_disp('T', T, T_)"
   ]
  },
  {
   "cell_type": "code",
   "execution_count": 68,
   "metadata": {
    "collapsed": false
   },
   "outputs": [
    {
     "data": {
      "text/html": [
       "\\begin{equation}\\begin{aligned}{T}={\\frac{T_{1}}{\\ell} \\left(\\ell - x\\right) + \\frac{T_{2} x}{\\ell}}\\end{aligned}\\end{equation}"
      ],
      "text/plain": [
       "<IPython.core.display.HTML object>"
      ]
     },
     "metadata": {},
     "output_type": "display_data"
    }
   ],
   "source": [
    "S_1__ = 1/ell*(ell-x)\n",
    "S_2__ = x/ell\n",
    "\n",
    "T__ = S_1__ * T_1 + S_2__ * T_2 \n",
    "\n",
    "eq_disp('T', T__)"
   ]
  },
  {
   "cell_type": "markdown",
   "metadata": {},
   "source": [
    "${X = 8 \\,\\,\\, >>> \\,\\,\\, \\ell = 5 \\,\\,\\, x = 3 \\,\\,\\, T_1 = 34 \\,\\,\\, T_2 = 20}$"
   ]
  },
  {
   "cell_type": "code",
   "execution_count": 69,
   "metadata": {
    "collapsed": true
   },
   "outputs": [],
   "source": [
    "ell_val, x_val, T_1_val, T_2_val = 5, 3, 34, 20"
   ]
  },
  {
   "cell_type": "code",
   "execution_count": 70,
   "metadata": {
    "collapsed": false
   },
   "outputs": [
    {
     "data": {
      "text/html": [
       "\\begin{equation}\\begin{aligned}{T}={25.6}\\end{aligned}\\end{equation}"
      ],
      "text/plain": [
       "<IPython.core.display.HTML object>"
      ]
     },
     "metadata": {},
     "output_type": "display_data"
    }
   ],
   "source": [
    "T_val = T__.subs([(ell, ell_val), (x, x_val), (T_1, T_1_val), (T_2, T_2_val)])\n",
    "\n",
    "eq_disp('T', T_val.evalf())"
   ]
  },
  {
   "cell_type": "code",
   "execution_count": 71,
   "metadata": {
    "collapsed": false
   },
   "outputs": [
    {
     "data": {
      "text/html": [
       "\\begin{equation}\\begin{aligned}{T}={- \\frac{1}{2} \\left(T_{1} \\left(\\xi - 1\\right) + T_{2} \\left(- \\xi - 1\\right)\\right)}\\end{aligned}\\end{equation}"
      ],
      "text/plain": [
       "<IPython.core.display.HTML object>"
      ]
     },
     "metadata": {},
     "output_type": "display_data"
    }
   ],
   "source": [
    "T___ = T__.subs([(x, (xi + 1) * ell/2)])\n",
    "\n",
    "eq_disp('T', T___.simplify().factor(T_1, T_2))"
   ]
  },
  {
   "cell_type": "markdown",
   "metadata": {},
   "source": [
    "${X = 7.5 \\,\\,\\, >>> \\,\\,\\, \\xi = 2*x/\\ell-1 = 2*2.5/5-1 = 0 \\,\\,\\, T_1 = 34 \\,\\,\\, T_2 = 20}$"
   ]
  },
  {
   "cell_type": "code",
   "execution_count": 72,
   "metadata": {
    "collapsed": true
   },
   "outputs": [],
   "source": [
    "xi_val, T_1_val, T_2_val = 0, 34, 20"
   ]
  },
  {
   "cell_type": "code",
   "execution_count": 73,
   "metadata": {
    "collapsed": false
   },
   "outputs": [
    {
     "data": {
      "text/html": [
       "\\begin{equation}\\begin{aligned}{T}={27.0}\\end{aligned}\\end{equation}"
      ],
      "text/plain": [
       "<IPython.core.display.HTML object>"
      ]
     },
     "metadata": {},
     "output_type": "display_data"
    }
   ],
   "source": [
    "T_val = T___.subs([(xi, xi_val), (T_1, T_1_val), (T_2, T_2_val)])\n",
    "\n",
    "eq_disp('T', T_val.evalf())"
   ]
  }
 ],
 "metadata": {
  "kernelspec": {
   "display_name": "Python 3",
   "language": "python",
   "name": "python3"
  },
  "language_info": {
   "codemirror_mode": {
    "name": "ipython",
    "version": 3
   },
   "file_extension": ".py",
   "mimetype": "text/x-python",
   "name": "python",
   "nbconvert_exporter": "python",
   "pygments_lexer": "ipython3",
   "version": "3.4.3"
  }
 },
 "nbformat": 4,
 "nbformat_minor": 0
}
