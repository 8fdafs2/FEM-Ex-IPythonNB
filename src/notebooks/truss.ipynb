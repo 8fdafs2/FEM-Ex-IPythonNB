{
 "cells": [
  {
   "cell_type": "code",
   "execution_count": 35,
   "metadata": {
    "collapsed": false
   },
   "outputs": [
    {
     "name": "stdout",
     "output_type": "stream",
     "text": [
      "IPython console for SymPy 0.7.6 (Python 3.4.3-64-bit) (ground types: gmpy)\n"
     ]
    }
   ],
   "source": [
    "from sympy import *\n",
    "init_session(quiet=True, use_latex='mathjax', use_unicode=True)\n",
    "from IPython.display import HTML, display\n",
    "\n",
    "import os, sys\n",
    "lib_path = os.path.abspath(os.path.join('..', 'src'))\n",
    "sys.path.append(lib_path)\n",
    "\n",
    "from EqDisp import eq_disp, eqs_disp"
   ]
  },
  {
   "cell_type": "markdown",
   "metadata": {
    "slideshow": {
     "slide_type": "-"
    }
   },
   "source": [
    "<table style=\"border-style: hidden; border-width: 0px; font-size: 12px; border-collapse: collapse; border-color: gray; background-color: #F5F5F5\">\n",
    "    <tr style=\"border-style: hidden;\">\n",
    "        <td style=\"border-style: hidden;\" colspan=2 align=center>\n",
    "            <img src=\"image/2.5.png\" alt=\"Figure 2.5\">\n",
    "            <center><b>Figure 2.5</b></center>\n",
    "        </td>\n",
    "    </tr>\n",
    "    <tr style=\"border-style: hidden;\">\n",
    "        <td style=\"border-style: hidden;\" align=center>\n",
    "            <img src=\"image/2.6.png\" alt=\"Figure 2.6\">\n",
    "            <center><b>Figure 2.6</b></center>\n",
    "        </td>\n",
    "        <td style=\"border-style: hidden;\" align=center>\n",
    "            <img src=\"image/2.7.png\" alt=\"Figure 2.7\">\n",
    "            <center><b>Figure 2.7</b></center>\n",
    "        </td>\n",
    "    </tr>\n",
    "    <tr style=\"border-style: hidden;\">\n",
    "        <td style=\"border-style: hidden;\" align=center>\n",
    "            <img src=\"image/2.8.png\" alt=\"Figure 2.8\">\n",
    "            <center><b>Figure 2.8</b></center>\n",
    "        </td>\n",
    "        <td style=\"border-style: hidden;\" align=center>\n",
    "            <img src=\"image/2.9.png\" alt=\"Figure 2.9\">\n",
    "            <center><b>Figure 2.9</b></center>\n",
    "        </td>\n",
    "    </tr>\n",
    "    <tr style=\"border-style: hidden;\">\n",
    "        <td style=\"border-style: hidden;\" colspan=2 align=center>\n",
    "            <img src=\"image/2.10.png\" alt=\"Figure 2.10\">\n",
    "            <center><b>Figure 2.10</b></center>\n",
    "        </td>\n",
    "    </tr>\n",
    "</table>"
   ]
  },
  {
   "cell_type": "code",
   "execution_count": 36,
   "metadata": {
    "collapsed": false
   },
   "outputs": [],
   "source": [
    "# Element\n",
    "var('A_1 A_2 A_3 A_4 A_5 A_6')\n",
    "var('L_1 L_2 L_3 L_4 L_5 L_6')\n",
    "var('E_1 E_2 E_3 E_4 E_5 E_6')\n",
    "var('k_1 k_2 k_3 k_4 k_5 k_6')\n",
    "var('theta_1 theta_2 theta_3 theta_4 theta_5 theta_6')\n",
    "var('epsilon_1 epsilon_2 epsilon_3 epsilon_4 epsilon_5 epsilon_6')\n",
    "# Node\n",
    "var('U_1x U_1y U_2x U_2y U_3x U_3y U_4x U_4y U_5x U_5y')\n",
    "var('u_1x u_1y u_2x u_2y u_3x u_3y u_4x u_4y u_5x u_5y')\n",
    "var('F_1x F_1y F_2x F_2y F_3x F_3y F_4x F_4y F_5x F_5y')\n",
    "var('f_1x f_1y f_2x f_2y f_3x f_3y f_4x f_4y f_5x f_5y')\n",
    "var('R_1x R_1y R_2x R_2y R_3x R_3y R_4x R_4y R_5x R_5y');"
   ]
  },
  {
   "cell_type": "code",
   "execution_count": 37,
   "metadata": {
    "collapsed": true
   },
   "outputs": [],
   "source": [
    "# Predefined Value\n",
    "U_1x_val = U_1y_val = 0\n",
    "U_3x_val = U_3y_val = 0\n",
    "F_4y_val = F_5y_val = -500\n",
    "\n",
    "theta_1_val, theta_2_val, theta_3_val, theta_4_val, theta_5_val, theta_6_val = 0, rad(135), 0, rad(90), rad(45), 0\n",
    "E_1_val = E_2_val = E_3_val = E_4_val = E_5_val = E_6_val = 1.9e6\n",
    "A_1_val = A_2_val = A_3_val = A_4_val = A_5_val = A_6_val = 8\n",
    "L_1_val = L_3_val = L_4_val = L_6_val = 36\n",
    "L_2_val = L_5_val = 50.9"
   ]
  },
  {
   "cell_type": "code",
   "execution_count": 38,
   "metadata": {
    "collapsed": false
   },
   "outputs": [],
   "source": [
    "# Vectors in Local Coord. Sys. & Global Coord. Sys.\n",
    "U_1 = Matrix([U_1x, U_1y, U_2x, U_2y]); u_1 = Matrix([u_1x, u_1y, u_2x, u_2y])\n",
    "F_1 = Matrix([F_1x, F_1y, F_2x, F_2y]); f_1 = Matrix([f_1x, f_1y, f_2x, f_2y])\n",
    "U_2 = Matrix([U_2x, U_2y, U_3x, U_3y]); u_2 = Matrix([u_2x, u_2y, u_3x, u_3y])\n",
    "F_2 = Matrix([F_2x, F_2y, F_3x, F_3y]); f_2 = Matrix([f_2x, f_2y, f_3x, f_3y])\n",
    "U_3 = Matrix([U_3x, U_3y, U_4x, U_4y]); u_3 = Matrix([u_3x, u_3y, u_4x, u_4y])\n",
    "F_3 = Matrix([F_3x, F_3y, F_4x, F_4y]); f_3 = Matrix([f_3x, f_3y, f_4x, f_4y])\n",
    "U_4 = Matrix([U_2x, U_2y, U_4x, U_4y]); u_4 = Matrix([u_2x, u_2y, u_4x, u_4y])\n",
    "F_4 = Matrix([F_2x, F_2y, F_4x, F_4y]); f_4 = Matrix([f_2x, f_2y, f_4x, f_4y])\n",
    "U_5 = Matrix([U_2x, U_2y, U_5x, U_5y]); u_5 = Matrix([u_2x, u_2y, u_5x, u_5y])\n",
    "F_5 = Matrix([F_2x, F_2y, F_5x, F_5y]); f_5 = Matrix([f_2x, f_2y, f_5x, f_5y])\n",
    "U_6 = Matrix([U_4x, U_4y, U_5x, U_5y]); u_6 = Matrix([u_4x, u_4y, u_5x, u_5y])\n",
    "F_6 = Matrix([F_4x, F_4y, F_5x, F_5y]); f_6 = Matrix([f_4x, f_4y, f_5x, f_5y])"
   ]
  },
  {
   "cell_type": "code",
   "execution_count": 39,
   "metadata": {
    "collapsed": false
   },
   "outputs": [
    {
     "name": "stdout",
     "output_type": "stream",
     "text": [
      ">>> Converting Displacement Vector from Local Coord. Sys. to Global one:\n"
     ]
    },
    {
     "data": {
      "text/html": [
       "\\begin{equation}\\begin{aligned}{\\{U_1\\}}={[T_1]\\{u_1\\}}\\end{aligned}\\end{equation}"
      ],
      "text/plain": [
       "<IPython.core.display.HTML object>"
      ]
     },
     "metadata": {},
     "output_type": "display_data"
    },
    {
     "name": "stdout",
     "output_type": "stream",
     "text": [
      "------------------\n"
     ]
    },
    {
     "data": {
      "text/html": [
       "\\begin{equation}\\begin{aligned}{\\left[\\begin{matrix}U_{1x}\\\\U_{1y}\\\\U_{2x}\\\\U_{2y}\\end{matrix}\\right]}={\\left[\\begin{matrix}\\cos{\\left (\\theta_{1} \\right )} & - \\sin{\\left (\\theta_{1} \\right )} & 0 & 0\\\\\\sin{\\left (\\theta_{1} \\right )} & \\cos{\\left (\\theta_{1} \\right )} & 0 & 0\\\\0 & 0 & \\cos{\\left (\\theta_{1} \\right )} & - \\sin{\\left (\\theta_{1} \\right )}\\\\0 & 0 & \\sin{\\left (\\theta_{1} \\right )} & \\cos{\\left (\\theta_{1} \\right )}\\end{matrix}\\right] \\left[\\begin{matrix}u_{1x}\\\\u_{1y}\\\\u_{2x}\\\\u_{2y}\\end{matrix}\\right]}\\end{aligned}\\end{equation}"
      ],
      "text/plain": [
       "<IPython.core.display.HTML object>"
      ]
     },
     "metadata": {},
     "output_type": "display_data"
    },
    {
     "name": "stdout",
     "output_type": "stream",
     "text": [
      ".\n",
      ".\n",
      ".\n"
     ]
    },
    {
     "data": {
      "text/html": [
       "\\begin{equation}\\begin{aligned}{\\{U_6\\}}={[T_6]\\{u_6\\}}\\end{aligned}\\end{equation}"
      ],
      "text/plain": [
       "<IPython.core.display.HTML object>"
      ]
     },
     "metadata": {},
     "output_type": "display_data"
    },
    {
     "name": "stdout",
     "output_type": "stream",
     "text": [
      "------------------\n"
     ]
    },
    {
     "data": {
      "text/html": [
       "\\begin{equation}\\begin{aligned}{\\left[\\begin{matrix}U_{4x}\\\\U_{4y}\\\\U_{5x}\\\\U_{5y}\\end{matrix}\\right]}={\\left[\\begin{matrix}\\cos{\\left (\\theta_{6} \\right )} & - \\sin{\\left (\\theta_{6} \\right )} & 0 & 0\\\\\\sin{\\left (\\theta_{6} \\right )} & \\cos{\\left (\\theta_{6} \\right )} & 0 & 0\\\\0 & 0 & \\cos{\\left (\\theta_{6} \\right )} & - \\sin{\\left (\\theta_{6} \\right )}\\\\0 & 0 & \\sin{\\left (\\theta_{6} \\right )} & \\cos{\\left (\\theta_{6} \\right )}\\end{matrix}\\right] \\left[\\begin{matrix}u_{4x}\\\\u_{4y}\\\\u_{5x}\\\\u_{5y}\\end{matrix}\\right]}\\end{aligned}\\end{equation}"
      ],
      "text/plain": [
       "<IPython.core.display.HTML object>"
      ]
     },
     "metadata": {},
     "output_type": "display_data"
    },
    {
     "name": "stdout",
     "output_type": "stream",
     "text": [
      "\n",
      "\n",
      ">>> Converting Load Vector from Local Coord. Sys. to Global one:\n"
     ]
    },
    {
     "data": {
      "text/html": [
       "\\begin{equation}\\begin{aligned}{\\{F_1\\}}={[T_1]\\{f_1\\}}\\end{aligned}\\end{equation}"
      ],
      "text/plain": [
       "<IPython.core.display.HTML object>"
      ]
     },
     "metadata": {},
     "output_type": "display_data"
    },
    {
     "name": "stdout",
     "output_type": "stream",
     "text": [
      "------------------\n"
     ]
    },
    {
     "data": {
      "text/html": [
       "\\begin{equation}\\begin{aligned}{\\left[\\begin{matrix}U_{1x}\\\\U_{1y}\\\\U_{2x}\\\\U_{2y}\\end{matrix}\\right]}={\\left[\\begin{matrix}\\cos{\\left (\\theta_{1} \\right )} & - \\sin{\\left (\\theta_{1} \\right )} & 0 & 0\\\\\\sin{\\left (\\theta_{1} \\right )} & \\cos{\\left (\\theta_{1} \\right )} & 0 & 0\\\\0 & 0 & \\cos{\\left (\\theta_{1} \\right )} & - \\sin{\\left (\\theta_{1} \\right )}\\\\0 & 0 & \\sin{\\left (\\theta_{1} \\right )} & \\cos{\\left (\\theta_{1} \\right )}\\end{matrix}\\right] \\left[\\begin{matrix}u_{1x}\\\\u_{1y}\\\\u_{2x}\\\\u_{2y}\\end{matrix}\\right]}\\end{aligned}\\end{equation}"
      ],
      "text/plain": [
       "<IPython.core.display.HTML object>"
      ]
     },
     "metadata": {},
     "output_type": "display_data"
    },
    {
     "name": "stdout",
     "output_type": "stream",
     "text": [
      ".\n",
      ".\n",
      ".\n"
     ]
    },
    {
     "data": {
      "text/html": [
       "\\begin{equation}\\begin{aligned}{\\{F_6\\}}={[T_6]\\{f_6\\}}\\end{aligned}\\end{equation}"
      ],
      "text/plain": [
       "<IPython.core.display.HTML object>"
      ]
     },
     "metadata": {},
     "output_type": "display_data"
    },
    {
     "name": "stdout",
     "output_type": "stream",
     "text": [
      "------------------\n"
     ]
    },
    {
     "data": {
      "text/html": [
       "\\begin{equation}\\begin{aligned}{\\left[\\begin{matrix}U_{1x}\\\\U_{1y}\\\\U_{2x}\\\\U_{2y}\\end{matrix}\\right]}={\\left[\\begin{matrix}\\cos{\\left (\\theta_{1} \\right )} & - \\sin{\\left (\\theta_{1} \\right )} & 0 & 0\\\\\\sin{\\left (\\theta_{1} \\right )} & \\cos{\\left (\\theta_{1} \\right )} & 0 & 0\\\\0 & 0 & \\cos{\\left (\\theta_{1} \\right )} & - \\sin{\\left (\\theta_{1} \\right )}\\\\0 & 0 & \\sin{\\left (\\theta_{1} \\right )} & \\cos{\\left (\\theta_{1} \\right )}\\end{matrix}\\right] \\left[\\begin{matrix}u_{1x}\\\\u_{1y}\\\\u_{2x}\\\\u_{2y}\\end{matrix}\\right]}\\end{aligned}\\end{equation}"
      ],
      "text/plain": [
       "<IPython.core.display.HTML object>"
      ]
     },
     "metadata": {},
     "output_type": "display_data"
    }
   ],
   "source": [
    "# Transition Matrix for Converting Vector from Local Coord. Sys. to Global one\n",
    "T_1 = Matrix([[cos(theta_1), -sin(theta_1), 0, 0], \n",
    "              [sin(theta_1),  cos(theta_1), 0, 0],\n",
    "              [0, 0, cos(theta_1), -sin(theta_1)],\n",
    "              [0, 0, sin(theta_1),  cos(theta_1)]])\n",
    "\n",
    "T_2 = T_1.subs(theta_1, theta_2)\n",
    "T_3 = T_1.subs(theta_1, theta_3)\n",
    "T_4 = T_1.subs(theta_1, theta_4)\n",
    "T_5 = T_1.subs(theta_1, theta_5)\n",
    "T_6 = T_1.subs(theta_1, theta_6)\n",
    "\n",
    "print('>>> Converting Displacement Vector from Local Coord. Sys. to Global one:')\n",
    "eq_disp('\\{U_1\\}', '[T_1]\\{u_1\\}')\n",
    "print('------------------')\n",
    "eq_disp(U_1, MatMul(T_1, u_1))\n",
    "print('\\n'.join(list('...')))\n",
    "eq_disp('\\{U_6\\}', '[T_6]\\{u_6\\}')\n",
    "print('------------------')\n",
    "eq_disp(U_6, MatMul(T_6, u_6))\n",
    "print('\\n')\n",
    "print('>>> Converting Load Vector from Local Coord. Sys. to Global one:')\n",
    "eq_disp('\\{F_1\\}', '[T_1]\\{f_1\\}')\n",
    "print('------------------')\n",
    "eq_disp(U_1, MatMul(T_1, u_1))\n",
    "print('\\n'.join(list('...')))\n",
    "eq_disp('\\{F_6\\}', '[T_6]\\{f_6\\}')\n",
    "print('------------------')\n",
    "eq_disp(U_1, MatMul(T_1, u_1))"
   ]
  },
  {
   "cell_type": "code",
   "execution_count": 40,
   "metadata": {
    "collapsed": false
   },
   "outputs": [
    {
     "name": "stdout",
     "output_type": "stream",
     "text": [
      ">>> Stiffness Matrix in Local Coord. Sys.:\n"
     ]
    },
    {
     "data": {
      "text/html": [
       "\\begin{equation}\\begin{aligned}{\\{f_1\\}}={[K_1]\\{u_1\\}}\\end{aligned}\\end{equation}"
      ],
      "text/plain": [
       "<IPython.core.display.HTML object>"
      ]
     },
     "metadata": {},
     "output_type": "display_data"
    },
    {
     "name": "stdout",
     "output_type": "stream",
     "text": [
      "------------------\n"
     ]
    },
    {
     "data": {
      "text/html": [
       "\\begin{equation}\\begin{aligned}{\\left[\\begin{matrix}f_{1x}\\\\f_{1y}\\\\f_{2x}\\\\f_{2y}\\end{matrix}\\right]}={\\left[\\begin{matrix}k_{1} & 0 & - k_{1} & 0\\\\0 & 0 & 0 & 0\\\\- k_{1} & 0 & k_{1} & 0\\\\0 & 0 & 0 & 0\\end{matrix}\\right] \\left[\\begin{matrix}u_{1x}\\\\u_{1y}\\\\u_{2x}\\\\u_{2y}\\end{matrix}\\right]}\\end{aligned}\\end{equation}"
      ],
      "text/plain": [
       "<IPython.core.display.HTML object>"
      ]
     },
     "metadata": {},
     "output_type": "display_data"
    },
    {
     "name": "stdout",
     "output_type": "stream",
     "text": [
      ".\n",
      ".\n",
      ".\n"
     ]
    },
    {
     "data": {
      "text/html": [
       "\\begin{equation}\\begin{aligned}{\\{f_6\\}}={[K_6]\\{u_6\\}}\\end{aligned}\\end{equation}"
      ],
      "text/plain": [
       "<IPython.core.display.HTML object>"
      ]
     },
     "metadata": {},
     "output_type": "display_data"
    },
    {
     "name": "stdout",
     "output_type": "stream",
     "text": [
      "------------------\n"
     ]
    },
    {
     "data": {
      "text/html": [
       "\\begin{equation}\\begin{aligned}{\\left[\\begin{matrix}f_{4x}\\\\f_{4y}\\\\f_{5x}\\\\f_{5y}\\end{matrix}\\right]}={\\left[\\begin{matrix}k_{6} & 0 & - k_{6} & 0\\\\0 & 0 & 0 & 0\\\\- k_{6} & 0 & k_{6} & 0\\\\0 & 0 & 0 & 0\\end{matrix}\\right] \\left[\\begin{matrix}u_{4x}\\\\u_{4y}\\\\u_{5x}\\\\u_{5y}\\end{matrix}\\right]}\\end{aligned}\\end{equation}"
      ],
      "text/plain": [
       "<IPython.core.display.HTML object>"
      ]
     },
     "metadata": {},
     "output_type": "display_data"
    }
   ],
   "source": [
    "# Stiffness Matrix in Local Coord. Sys.\n",
    "K_1 = Matrix([[k_1,  0, -k_1, 0], \n",
    "              [0,    0, 0,    0],\n",
    "              [-k_1, 0, k_1,  0],\n",
    "              [0,    0, 0,    0]])\n",
    "\n",
    "K_2 = K_1.subs(k_1, k_2)\n",
    "K_3 = K_1.subs(k_1, k_3)\n",
    "K_4 = K_1.subs(k_1, k_4)\n",
    "K_5 = K_1.subs(k_1, k_5)\n",
    "K_6 = K_1.subs(k_1, k_6)\n",
    "\n",
    "print('>>> Stiffness Matrix in Local Coord. Sys.:')\n",
    "eq_disp('\\{f_1\\}', '[K_1]\\{u_1\\}')\n",
    "print('------------------')\n",
    "eq_disp(f_1, MatMul(K_1, u_1))\n",
    "print('\\n'.join(list('...')))\n",
    "eq_disp('\\{f_6\\}', '[K_6]\\{u_6\\}')\n",
    "print('------------------')\n",
    "eq_disp(f_6, MatMul(K_6, u_6))"
   ]
  },
  {
   "cell_type": "code",
   "execution_count": 41,
   "metadata": {
    "collapsed": false
   },
   "outputs": [
    {
     "data": {
      "text/html": [
       "\\begin{equation}\\begin{aligned}{\\{f\\}}={[K]\\{u\\}}\\end{aligned}\\end{equation}"
      ],
      "text/plain": [
       "<IPython.core.display.HTML object>"
      ]
     },
     "metadata": {},
     "output_type": "display_data"
    },
    {
     "data": {
      "text/html": [
       "\\begin{equation}\\begin{aligned}{[T]^{-1}\\{F\\}}={[K][T]^{-1}\\{U\\}}\\end{aligned}\\end{equation}"
      ],
      "text/plain": [
       "<IPython.core.display.HTML object>"
      ]
     },
     "metadata": {},
     "output_type": "display_data"
    },
    {
     "data": {
      "text/html": [
       "\\begin{equation}\\begin{aligned}{\\{F\\}}={[T][K][T]^{-1}\\{U\\}}\\end{aligned}\\end{equation}"
      ],
      "text/plain": [
       "<IPython.core.display.HTML object>"
      ]
     },
     "metadata": {},
     "output_type": "display_data"
    },
    {
     "data": {
      "text/html": [
       "\\begin{equation}\\begin{aligned}{\\{F\\}}={[K_G]\\{U\\}}\\end{aligned}\\end{equation}"
      ],
      "text/plain": [
       "<IPython.core.display.HTML object>"
      ]
     },
     "metadata": {},
     "output_type": "display_data"
    }
   ],
   "source": [
    "eq_disp('\\{f\\}', '[K]\\{u\\}')\n",
    "eq_disp('[T]^{-1}\\{F\\}', '[K][T]^{-1}\\{U\\}')\n",
    "eq_disp('\\{F\\}', '[T][K][T]^{-1}\\{U\\}')\n",
    "eq_disp('\\{F\\}', '[K_G]\\{U\\}')"
   ]
  },
  {
   "cell_type": "code",
   "execution_count": 42,
   "metadata": {
    "collapsed": false
   },
   "outputs": [
    {
     "name": "stdout",
     "output_type": "stream",
     "text": [
      ">>> Stiffness Matrix in Global Coord. Sys.:\n"
     ]
    },
    {
     "data": {
      "text/html": [
       "\\begin{equation}\\begin{aligned}{\\{F_1\\}}={[K_{G1}]\\{U_1\\}}\\end{aligned}\\end{equation}"
      ],
      "text/plain": [
       "<IPython.core.display.HTML object>"
      ]
     },
     "metadata": {},
     "output_type": "display_data"
    },
    {
     "name": "stdout",
     "output_type": "stream",
     "text": [
      "------------------\n"
     ]
    },
    {
     "data": {
      "text/html": [
       "\\begin{equation}\\begin{aligned}{\\left[\\begin{matrix}F_{1x}\\\\F_{1y}\\\\F_{2x}\\\\F_{2y}\\end{matrix}\\right]}={\\left[\\begin{matrix}k_{1} \\cos^{2}{\\left (\\theta_{1} \\right )} & \\frac{k_{1}}{2} \\sin{\\left (2 \\theta_{1} \\right )} & - k_{1} \\cos^{2}{\\left (\\theta_{1} \\right )} & - \\frac{k_{1}}{2} \\sin{\\left (2 \\theta_{1} \\right )}\\\\\\frac{k_{1}}{2} \\sin{\\left (2 \\theta_{1} \\right )} & k_{1} \\sin^{2}{\\left (\\theta_{1} \\right )} & - \\frac{k_{1}}{2} \\sin{\\left (2 \\theta_{1} \\right )} & - k_{1} \\sin^{2}{\\left (\\theta_{1} \\right )}\\\\- k_{1} \\cos^{2}{\\left (\\theta_{1} \\right )} & - \\frac{k_{1}}{2} \\sin{\\left (2 \\theta_{1} \\right )} & k_{1} \\cos^{2}{\\left (\\theta_{1} \\right )} & \\frac{k_{1}}{2} \\sin{\\left (2 \\theta_{1} \\right )}\\\\- \\frac{k_{1}}{2} \\sin{\\left (2 \\theta_{1} \\right )} & - k_{1} \\sin^{2}{\\left (\\theta_{1} \\right )} & \\frac{k_{1}}{2} \\sin{\\left (2 \\theta_{1} \\right )} & k_{1} \\sin^{2}{\\left (\\theta_{1} \\right )}\\end{matrix}\\right] \\left[\\begin{matrix}U_{1x}\\\\U_{1y}\\\\U_{2x}\\\\U_{2y}\\end{matrix}\\right]}\\end{aligned}\\end{equation}"
      ],
      "text/plain": [
       "<IPython.core.display.HTML object>"
      ]
     },
     "metadata": {},
     "output_type": "display_data"
    },
    {
     "name": "stdout",
     "output_type": "stream",
     "text": [
      ".\n",
      ".\n",
      ".\n"
     ]
    },
    {
     "data": {
      "text/html": [
       "\\begin{equation}\\begin{aligned}{\\{F_6\\}}={[K_{G6}]\\{U_6\\}}\\end{aligned}\\end{equation}"
      ],
      "text/plain": [
       "<IPython.core.display.HTML object>"
      ]
     },
     "metadata": {},
     "output_type": "display_data"
    },
    {
     "name": "stdout",
     "output_type": "stream",
     "text": [
      "------------------\n"
     ]
    },
    {
     "data": {
      "text/html": [
       "\\begin{equation}\\begin{aligned}{\\left[\\begin{matrix}F_{4x}\\\\F_{4y}\\\\F_{5x}\\\\F_{5y}\\end{matrix}\\right]}={\\left[\\begin{matrix}k_{6} \\cos^{2}{\\left (\\theta_{6} \\right )} & \\frac{k_{6}}{2} \\sin{\\left (2 \\theta_{6} \\right )} & - k_{6} \\cos^{2}{\\left (\\theta_{6} \\right )} & - \\frac{k_{6}}{2} \\sin{\\left (2 \\theta_{6} \\right )}\\\\\\frac{k_{6}}{2} \\sin{\\left (2 \\theta_{6} \\right )} & k_{6} \\sin^{2}{\\left (\\theta_{6} \\right )} & - \\frac{k_{6}}{2} \\sin{\\left (2 \\theta_{6} \\right )} & - k_{6} \\sin^{2}{\\left (\\theta_{6} \\right )}\\\\- k_{6} \\cos^{2}{\\left (\\theta_{6} \\right )} & - \\frac{k_{6}}{2} \\sin{\\left (2 \\theta_{6} \\right )} & k_{6} \\cos^{2}{\\left (\\theta_{6} \\right )} & \\frac{k_{6}}{2} \\sin{\\left (2 \\theta_{6} \\right )}\\\\- \\frac{k_{6}}{2} \\sin{\\left (2 \\theta_{6} \\right )} & - k_{6} \\sin^{2}{\\left (\\theta_{6} \\right )} & \\frac{k_{6}}{2} \\sin{\\left (2 \\theta_{6} \\right )} & k_{6} \\sin^{2}{\\left (\\theta_{6} \\right )}\\end{matrix}\\right] \\left[\\begin{matrix}U_{4x}\\\\U_{4y}\\\\U_{5x}\\\\U_{5y}\\end{matrix}\\right]}\\end{aligned}\\end{equation}"
      ],
      "text/plain": [
       "<IPython.core.display.HTML object>"
      ]
     },
     "metadata": {},
     "output_type": "display_data"
    }
   ],
   "source": [
    "# Stiffness Matrix in Global Coord. Sys.\n",
    "K_G1 = simplify(T_1 * K_1 * T_1**-1)\n",
    "K_G2 = K_G1.subs([(k_1, k_2), (theta_1, theta_2)])\n",
    "K_G3 = K_G1.subs([(k_1, k_3), (theta_1, theta_3)])\n",
    "K_G4 = K_G1.subs([(k_1, k_4), (theta_1, theta_4)])\n",
    "K_G5 = K_G1.subs([(k_1, k_5), (theta_1, theta_5)])\n",
    "K_G6 = K_G1.subs([(k_1, k_6), (theta_1, theta_6)])\n",
    "# K_G2 = simplify(T_2 * K_2 * T_2**-1)\n",
    "# K_G3 = simplify(T_3 * K_3 * T_3**-1)\n",
    "# K_G4 = simplify(T_4 * K_4 * T_4**-1)\n",
    "# K_G5 = simplify(T_5 * K_5 * T_5**-1)\n",
    "# K_G6 = simplify(T_6 * K_6 * T_6**-1)\n",
    "\n",
    "print('>>> Stiffness Matrix in Global Coord. Sys.:')\n",
    "eq_disp('\\{F_1\\}', '[K_{G1}]\\{U_1\\}')\n",
    "print('------------------')\n",
    "eq_disp(F_1, MatMul(K_G1, U_1))\n",
    "print('\\n'.join(list('...')))\n",
    "eq_disp('\\{F_6\\}', '[K_{G6}]\\{U_6\\}')\n",
    "print('------------------')\n",
    "eq_disp(F_6, MatMul(K_G6, U_6))"
   ]
  },
  {
   "cell_type": "code",
   "execution_count": 43,
   "metadata": {
    "collapsed": false
   },
   "outputs": [
    {
     "name": "stdout",
     "output_type": "stream",
     "text": [
      ">>> Global Stiffness Matrix:\n"
     ]
    },
    {
     "data": {
      "text/html": [
       "\\begin{equation}\\begin{aligned}{[K_G]}\\\\&={\\left[\\begin{matrix}k_{1} \\cos^{2}{\\left (\\theta_{1} \\right )} & \\frac{k_{1}}{2} \\sin{\\left (2 \\theta_{1} \\right )} & - k_{1} \\cos^{2}{\\left (\\theta_{1} \\right )} & - \\frac{k_{1}}{2} \\sin{\\left (2 \\theta_{1} \\right )} & 0 & 0 & 0 & 0 & 0 & 0\\\\\\frac{k_{1}}{2} \\sin{\\left (2 \\theta_{1} \\right )} & k_{1} \\sin^{2}{\\left (\\theta_{1} \\right )} & - \\frac{k_{1}}{2} \\sin{\\left (2 \\theta_{1} \\right )} & - k_{1} \\sin^{2}{\\left (\\theta_{1} \\right )} & 0 & 0 & 0 & 0 & 0 & 0\\\\- k_{1} \\cos^{2}{\\left (\\theta_{1} \\right )} & - \\frac{k_{1}}{2} \\sin{\\left (2 \\theta_{1} \\right )} & k_{1} \\cos^{2}{\\left (\\theta_{1} \\right )} + k_{2} \\cos^{2}{\\left (\\theta_{2} \\right )} + k_{4} \\cos^{2}{\\left (\\theta_{4} \\right )} + k_{5} \\cos^{2}{\\left (\\theta_{5} \\right )} & \\frac{k_{1}}{2} \\sin{\\left (2 \\theta_{1} \\right )} + \\frac{k_{2}}{2} \\sin{\\left (2 \\theta_{2} \\right )} + \\frac{k_{4}}{2} \\sin{\\left (2 \\theta_{4} \\right )} + \\frac{k_{5}}{2} \\sin{\\left (2 \\theta_{5} \\right )} & - k_{2} \\cos^{2}{\\left (\\theta_{2} \\right )} & - \\frac{k_{2}}{2} \\sin{\\left (2 \\theta_{2} \\right )} & - k_{4} \\cos^{2}{\\left (\\theta_{4} \\right )} & - \\frac{k_{4}}{2} \\sin{\\left (2 \\theta_{4} \\right )} & - k_{5} \\cos^{2}{\\left (\\theta_{5} \\right )} & - \\frac{k_{5}}{2} \\sin{\\left (2 \\theta_{5} \\right )}\\\\- \\frac{k_{1}}{2} \\sin{\\left (2 \\theta_{1} \\right )} & - k_{1} \\sin^{2}{\\left (\\theta_{1} \\right )} & \\frac{k_{1}}{2} \\sin{\\left (2 \\theta_{1} \\right )} + \\frac{k_{2}}{2} \\sin{\\left (2 \\theta_{2} \\right )} + \\frac{k_{4}}{2} \\sin{\\left (2 \\theta_{4} \\right )} + \\frac{k_{5}}{2} \\sin{\\left (2 \\theta_{5} \\right )} & k_{1} \\sin^{2}{\\left (\\theta_{1} \\right )} + k_{2} \\sin^{2}{\\left (\\theta_{2} \\right )} + k_{4} \\sin^{2}{\\left (\\theta_{4} \\right )} + k_{5} \\sin^{2}{\\left (\\theta_{5} \\right )} & - \\frac{k_{2}}{2} \\sin{\\left (2 \\theta_{2} \\right )} & - k_{2} \\sin^{2}{\\left (\\theta_{2} \\right )} & - \\frac{k_{4}}{2} \\sin{\\left (2 \\theta_{4} \\right )} & - k_{4} \\sin^{2}{\\left (\\theta_{4} \\right )} & - \\frac{k_{5}}{2} \\sin{\\left (2 \\theta_{5} \\right )} & - k_{5} \\sin^{2}{\\left (\\theta_{5} \\right )}\\\\0 & 0 & - k_{2} \\cos^{2}{\\left (\\theta_{2} \\right )} & - \\frac{k_{2}}{2} \\sin{\\left (2 \\theta_{2} \\right )} & k_{2} \\cos^{2}{\\left (\\theta_{2} \\right )} + k_{3} \\cos^{2}{\\left (\\theta_{3} \\right )} & \\frac{k_{2}}{2} \\sin{\\left (2 \\theta_{2} \\right )} + \\frac{k_{3}}{2} \\sin{\\left (2 \\theta_{3} \\right )} & - k_{3} \\cos^{2}{\\left (\\theta_{3} \\right )} & - \\frac{k_{3}}{2} \\sin{\\left (2 \\theta_{3} \\right )} & 0 & 0\\\\0 & 0 & - \\frac{k_{2}}{2} \\sin{\\left (2 \\theta_{2} \\right )} & - k_{2} \\sin^{2}{\\left (\\theta_{2} \\right )} & \\frac{k_{2}}{2} \\sin{\\left (2 \\theta_{2} \\right )} + \\frac{k_{3}}{2} \\sin{\\left (2 \\theta_{3} \\right )} & k_{2} \\sin^{2}{\\left (\\theta_{2} \\right )} + k_{3} \\sin^{2}{\\left (\\theta_{3} \\right )} & - \\frac{k_{3}}{2} \\sin{\\left (2 \\theta_{3} \\right )} & - k_{3} \\sin^{2}{\\left (\\theta_{3} \\right )} & 0 & 0\\\\0 & 0 & - k_{4} \\cos^{2}{\\left (\\theta_{4} \\right )} & - \\frac{k_{4}}{2} \\sin{\\left (2 \\theta_{4} \\right )} & - k_{3} \\cos^{2}{\\left (\\theta_{3} \\right )} & - \\frac{k_{3}}{2} \\sin{\\left (2 \\theta_{3} \\right )} & k_{3} \\cos^{2}{\\left (\\theta_{3} \\right )} + k_{4} \\cos^{2}{\\left (\\theta_{4} \\right )} + k_{6} \\cos^{2}{\\left (\\theta_{6} \\right )} & \\frac{k_{3}}{2} \\sin{\\left (2 \\theta_{3} \\right )} + \\frac{k_{4}}{2} \\sin{\\left (2 \\theta_{4} \\right )} + \\frac{k_{6}}{2} \\sin{\\left (2 \\theta_{6} \\right )} & - k_{6} \\cos^{2}{\\left (\\theta_{6} \\right )} & - \\frac{k_{6}}{2} \\sin{\\left (2 \\theta_{6} \\right )}\\\\0 & 0 & - \\frac{k_{4}}{2} \\sin{\\left (2 \\theta_{4} \\right )} & - k_{4} \\sin^{2}{\\left (\\theta_{4} \\right )} & - \\frac{k_{3}}{2} \\sin{\\left (2 \\theta_{3} \\right )} & - k_{3} \\sin^{2}{\\left (\\theta_{3} \\right )} & \\frac{k_{3}}{2} \\sin{\\left (2 \\theta_{3} \\right )} + \\frac{k_{4}}{2} \\sin{\\left (2 \\theta_{4} \\right )} + \\frac{k_{6}}{2} \\sin{\\left (2 \\theta_{6} \\right )} & k_{3} \\sin^{2}{\\left (\\theta_{3} \\right )} + k_{4} \\sin^{2}{\\left (\\theta_{4} \\right )} + k_{6} \\sin^{2}{\\left (\\theta_{6} \\right )} & - \\frac{k_{6}}{2} \\sin{\\left (2 \\theta_{6} \\right )} & - k_{6} \\sin^{2}{\\left (\\theta_{6} \\right )}\\\\0 & 0 & - k_{5} \\cos^{2}{\\left (\\theta_{5} \\right )} & - \\frac{k_{5}}{2} \\sin{\\left (2 \\theta_{5} \\right )} & 0 & 0 & - k_{6} \\cos^{2}{\\left (\\theta_{6} \\right )} & - \\frac{k_{6}}{2} \\sin{\\left (2 \\theta_{6} \\right )} & k_{5} \\cos^{2}{\\left (\\theta_{5} \\right )} + k_{6} \\cos^{2}{\\left (\\theta_{6} \\right )} & \\frac{k_{5}}{2} \\sin{\\left (2 \\theta_{5} \\right )} + \\frac{k_{6}}{2} \\sin{\\left (2 \\theta_{6} \\right )}\\\\0 & 0 & - \\frac{k_{5}}{2} \\sin{\\left (2 \\theta_{5} \\right )} & - k_{5} \\sin^{2}{\\left (\\theta_{5} \\right )} & 0 & 0 & - \\frac{k_{6}}{2} \\sin{\\left (2 \\theta_{6} \\right )} & - k_{6} \\sin^{2}{\\left (\\theta_{6} \\right )} & \\frac{k_{5}}{2} \\sin{\\left (2 \\theta_{5} \\right )} + \\frac{k_{6}}{2} \\sin{\\left (2 \\theta_{6} \\right )} & k_{5} \\sin^{2}{\\left (\\theta_{5} \\right )} + k_{6} \\sin^{2}{\\left (\\theta_{6} \\right )}\\end{matrix}\\right]}\\\\&={\\left[\\begin{matrix}k_{1} & 0 & - k_{1} & 0 & 0 & 0 & 0 & 0 & 0 & 0\\\\0 & 0 & 0 & 0 & 0 & 0 & 0 & 0 & 0 & 0\\\\- k_{1} & 0 & k_{1} + \\frac{k_{2}}{2} + \\frac{k_{5}}{2} & - \\frac{k_{2}}{2} + \\frac{k_{5}}{2} & - \\frac{k_{2}}{2} & \\frac{k_{2}}{2} & 0 & 0 & - \\frac{k_{5}}{2} & - \\frac{k_{5}}{2}\\\\0 & 0 & - \\frac{k_{2}}{2} + \\frac{k_{5}}{2} & \\frac{k_{2}}{2} + k_{4} + \\frac{k_{5}}{2} & \\frac{k_{2}}{2} & - \\frac{k_{2}}{2} & 0 & - k_{4} & - \\frac{k_{5}}{2} & - \\frac{k_{5}}{2}\\\\0 & 0 & - \\frac{k_{2}}{2} & \\frac{k_{2}}{2} & \\frac{k_{2}}{2} + k_{3} & - \\frac{k_{2}}{2} & - k_{3} & 0 & 0 & 0\\\\0 & 0 & \\frac{k_{2}}{2} & - \\frac{k_{2}}{2} & - \\frac{k_{2}}{2} & \\frac{k_{2}}{2} & 0 & 0 & 0 & 0\\\\0 & 0 & 0 & 0 & - k_{3} & 0 & k_{3} + k_{6} & 0 & - k_{6} & 0\\\\0 & 0 & 0 & - k_{4} & 0 & 0 & 0 & k_{4} & 0 & 0\\\\0 & 0 & - \\frac{k_{5}}{2} & - \\frac{k_{5}}{2} & 0 & 0 & - k_{6} & 0 & \\frac{k_{5}}{2} + k_{6} & \\frac{k_{5}}{2}\\\\0 & 0 & - \\frac{k_{5}}{2} & - \\frac{k_{5}}{2} & 0 & 0 & 0 & 0 & \\frac{k_{5}}{2} & \\frac{k_{5}}{2}\\end{matrix}\\right]}\\end{aligned}\\end{equation}"
      ],
      "text/plain": [
       "<IPython.core.display.HTML object>"
      ]
     },
     "metadata": {},
     "output_type": "display_data"
    }
   ],
   "source": [
    "# Global Stiffness Matrix\n",
    "K_G = zeros(10,10)\n",
    "K_G[0:4,  0:4] += K_G1\n",
    "K_G[2:6,  2:6] += K_G2\n",
    "K_G[4:8,  4:8] += K_G3\n",
    "K_G[2:4,  2:4] += K_G4[0:2, 0:2]\n",
    "K_G[2:4,  6:8] += K_G4[0:2, 2:4]\n",
    "K_G[6:8,  2:4] += K_G4[2:4, 0:2]\n",
    "K_G[6:8,  6:8] += K_G4[2:4, 2:4]\n",
    "K_G[2:4,  2:4] += K_G5[0:2, 0:2]\n",
    "K_G[2:4, 8:10] += K_G5[0:2, 2:4]\n",
    "K_G[8:10, 2:4] += K_G5[2:4, 0:2]\n",
    "K_G[8:10,8:10] += K_G5[2:4, 2:4]\n",
    "K_G[6:10, 6:10] += K_G6\n",
    "\n",
    "K_G_ = K_G.subs([(theta_1, theta_1_val), (theta_2, theta_2_val), (theta_3, theta_3_val), \n",
    "                 (theta_4, theta_4_val), (theta_5, theta_5_val), (theta_6, theta_6_val)])\n",
    "\n",
    "print('>>> Global Stiffness Matrix:')\n",
    "eq_disp('[K_G]', True,\n",
    "        K_G, True,\n",
    "        K_G_)\n",
    "\n",
    "K_G = K_G_"
   ]
  },
  {
   "cell_type": "code",
   "execution_count": 44,
   "metadata": {
    "collapsed": false
   },
   "outputs": [
    {
     "name": "stdout",
     "output_type": "stream",
     "text": [
      ">>> Equilibrium Equation:\n"
     ]
    },
    {
     "data": {
      "text/html": [
       "\\begin{equation}\\begin{aligned}{\\{R\\}}={[K_G]\\{U\\} - \\{F\\}}\\end{aligned}\\end{equation}"
      ],
      "text/plain": [
       "<IPython.core.display.HTML object>"
      ]
     },
     "metadata": {},
     "output_type": "display_data"
    },
    {
     "name": "stdout",
     "output_type": "stream",
     "text": [
      "------------------\n"
     ]
    },
    {
     "data": {
      "text/html": [
       "\\begin{equation}\\begin{aligned}{\\left[\\begin{matrix}R_{1x}\\\\0\\\\0\\\\0\\\\R_{3x}\\\\R_{3y}\\\\0\\\\0\\\\0\\\\0\\end{matrix}\\right]}={\\left[\\begin{matrix}0\\\\0\\\\0\\\\0\\\\0\\\\0\\\\0\\\\- F_{4y}\\\\0\\\\- F_{5y}\\end{matrix}\\right] + \\left[\\begin{matrix}k_{1} & 0 & - k_{1} & 0 & 0 & 0 & 0 & 0 & 0 & 0\\\\0 & 0 & 0 & 0 & 0 & 0 & 0 & 0 & 0 & 0\\\\- k_{1} & 0 & k_{1} + \\frac{k_{2}}{2} + \\frac{k_{5}}{2} & - \\frac{k_{2}}{2} + \\frac{k_{5}}{2} & - \\frac{k_{2}}{2} & \\frac{k_{2}}{2} & 0 & 0 & - \\frac{k_{5}}{2} & - \\frac{k_{5}}{2}\\\\0 & 0 & - \\frac{k_{2}}{2} + \\frac{k_{5}}{2} & \\frac{k_{2}}{2} + k_{4} + \\frac{k_{5}}{2} & \\frac{k_{2}}{2} & - \\frac{k_{2}}{2} & 0 & - k_{4} & - \\frac{k_{5}}{2} & - \\frac{k_{5}}{2}\\\\0 & 0 & - \\frac{k_{2}}{2} & \\frac{k_{2}}{2} & \\frac{k_{2}}{2} + k_{3} & - \\frac{k_{2}}{2} & - k_{3} & 0 & 0 & 0\\\\0 & 0 & \\frac{k_{2}}{2} & - \\frac{k_{2}}{2} & - \\frac{k_{2}}{2} & \\frac{k_{2}}{2} & 0 & 0 & 0 & 0\\\\0 & 0 & 0 & 0 & - k_{3} & 0 & k_{3} + k_{6} & 0 & - k_{6} & 0\\\\0 & 0 & 0 & - k_{4} & 0 & 0 & 0 & k_{4} & 0 & 0\\\\0 & 0 & - \\frac{k_{5}}{2} & - \\frac{k_{5}}{2} & 0 & 0 & - k_{6} & 0 & \\frac{k_{5}}{2} + k_{6} & \\frac{k_{5}}{2}\\\\0 & 0 & - \\frac{k_{5}}{2} & - \\frac{k_{5}}{2} & 0 & 0 & 0 & 0 & \\frac{k_{5}}{2} & \\frac{k_{5}}{2}\\end{matrix}\\right] \\left[\\begin{matrix}U_{1x}\\\\U_{1y}\\\\U_{2x}\\\\U_{2y}\\\\U_{3x}\\\\U_{3y}\\\\U_{4x}\\\\U_{4y}\\\\U_{5x}\\\\U_{5y}\\end{matrix}\\right]}\\end{aligned}\\end{equation}"
      ],
      "text/plain": [
       "<IPython.core.display.HTML object>"
      ]
     },
     "metadata": {},
     "output_type": "display_data"
    },
    {
     "name": "stdout",
     "output_type": "stream",
     "text": [
      "\n",
      "\n",
      ">>> Global Stiffness Matrix (Reaction Force eliminated)\n"
     ]
    },
    {
     "data": {
      "text/html": [
       "\\begin{equation}\\begin{aligned}{[K_{GM}]\\{U\\}}={\\{F\\}}\\end{aligned}\\end{equation}"
      ],
      "text/plain": [
       "<IPython.core.display.HTML object>"
      ]
     },
     "metadata": {},
     "output_type": "display_data"
    },
    {
     "name": "stdout",
     "output_type": "stream",
     "text": [
      "------------------\n"
     ]
    },
    {
     "data": {
      "text/html": [
       "\\begin{equation}\\begin{aligned}{\\left[\\begin{matrix}1 & 0 & 0 & 0 & 0 & 0 & 0 & 0 & 0 & 0\\\\0 & 1 & 0 & 0 & 0 & 0 & 0 & 0 & 0 & 0\\\\0 & 0 & k_{1} + \\frac{k_{2}}{2} + \\frac{k_{5}}{2} & - \\frac{k_{2}}{2} + \\frac{k_{5}}{2} & 0 & 0 & 0 & 0 & - \\frac{k_{5}}{2} & - \\frac{k_{5}}{2}\\\\0 & 0 & - \\frac{k_{2}}{2} + \\frac{k_{5}}{2} & \\frac{k_{2}}{2} + k_{4} + \\frac{k_{5}}{2} & 0 & 0 & 0 & - k_{4} & - \\frac{k_{5}}{2} & - \\frac{k_{5}}{2}\\\\0 & 0 & 0 & 0 & 1 & 0 & 0 & 0 & 0 & 0\\\\0 & 0 & 0 & 0 & 0 & 1 & 0 & 0 & 0 & 0\\\\0 & 0 & 0 & 0 & 0 & 0 & k_{3} + k_{6} & 0 & - k_{6} & 0\\\\0 & 0 & 0 & - k_{4} & 0 & 0 & 0 & k_{4} & 0 & 0\\\\0 & 0 & - \\frac{k_{5}}{2} & - \\frac{k_{5}}{2} & 0 & 0 & - k_{6} & 0 & \\frac{k_{5}}{2} + k_{6} & \\frac{k_{5}}{2}\\\\0 & 0 & - \\frac{k_{5}}{2} & - \\frac{k_{5}}{2} & 0 & 0 & 0 & 0 & \\frac{k_{5}}{2} & \\frac{k_{5}}{2}\\end{matrix}\\right] \\left[\\begin{matrix}U_{1x}\\\\U_{1y}\\\\U_{2x}\\\\U_{2y}\\\\U_{3x}\\\\U_{3y}\\\\U_{4x}\\\\U_{4y}\\\\U_{5x}\\\\U_{5y}\\end{matrix}\\right]}={\\left[\\begin{matrix}0\\\\0\\\\0\\\\0\\\\0\\\\0\\\\0\\\\F_{4y}\\\\0\\\\F_{5y}\\end{matrix}\\right]}\\end{aligned}\\end{equation}"
      ],
      "text/plain": [
       "<IPython.core.display.HTML object>"
      ]
     },
     "metadata": {},
     "output_type": "display_data"
    }
   ],
   "source": [
    "# Global Stiffness Matrix (Reaction Force eliminated)\n",
    "K_GM = Matrix(K_G)\n",
    "\n",
    "K_GM[0:2, 0:2] = eye(2)\n",
    "K_GM[0:2, 2:10] = zeros(2, 8)\n",
    "K_GM[2:10, 0:2] = zeros(8, 2)\n",
    "\n",
    "K_GM[4:6, 4:6] = eye(2)\n",
    "K_GM[0:4, 4:6] = zeros(4, 2)\n",
    "K_GM[4:6, 0:4] = zeros(2, 4)\n",
    "K_GM[6:10, 4:6] = zeros(4, 2)\n",
    "K_GM[4:6, 6:10] = zeros(2, 4)\n",
    "\n",
    "U = Matrix([U_1x, U_1y, U_2x, U_2y, U_3x, U_3y, U_4x, U_4y, U_5x, U_5y])\n",
    "R = Matrix([R_1x, 0, 0, 0, R_3x, R_3y, 0, 0, 0, 0])\n",
    "F = Matrix([0, 0, 0, 0, 0, 0, 0, F_4y, 0, F_5y])\n",
    "\n",
    "print('>>> Equilibrium Equation:')\n",
    "eq_disp('\\{R\\}', '[K_G]\\{U\\} - \\{F\\}')\n",
    "print('------------------')\n",
    "eq_disp(R, MatMul(K_G, U) - F)\n",
    "print('\\n')\n",
    "print('>>> Global Stiffness Matrix (Reaction Force eliminated)')\n",
    "eq_disp('[K_{GM}]\\{U\\}', '\\{F\\}')\n",
    "print('------------------')\n",
    "eq_disp(MatMul(K_GM, U), F)"
   ]
  },
  {
   "cell_type": "code",
   "execution_count": 45,
   "metadata": {
    "collapsed": false
   },
   "outputs": [
    {
     "name": "stdout",
     "output_type": "stream",
     "text": [
      ">>> Element Stiffness:\n"
     ]
    },
    {
     "data": {
      "text/html": [
       "\\({k_1}={\\frac{A_{1} E_{1}}{L_{1}}}\\)$\\,\\,\\,\\,\\,$\\({k_2}={\\frac{A_{2} E_{2}}{L_{2}}}\\)$\\,\\,\\,\\,\\,$\\({k_3}={\\frac{A_{3} E_{3}}{L_{3}}}\\)$\\,\\,\\,\\,\\,$\\({k_4}={\\frac{A_{4} E_{4}}{L_{4}}}\\)$\\,\\,\\,\\,\\,$\\({k_5}={\\frac{A_{5} E_{5}}{L_{5}}}\\)$\\,\\,\\,\\,\\,$\\({k_6}={\\frac{A_{6} E_{6}}{L_{6}}}\\)"
      ],
      "text/plain": [
       "<IPython.core.display.HTML object>"
      ]
     },
     "metadata": {},
     "output_type": "display_data"
    },
    {
     "data": {
      "text/html": [
       "\\({k_1}={422222.222222222}\\)$\\,\\,\\,\\,\\,$\\({k_2}={298624.754420432}\\)$\\,\\,\\,\\,\\,$\\({k_3}={422222.222222222}\\)"
      ],
      "text/plain": [
       "<IPython.core.display.HTML object>"
      ]
     },
     "metadata": {},
     "output_type": "display_data"
    },
    {
     "data": {
      "text/html": [
       "\\({k_4}={422222.222222222}\\)$\\,\\,\\,\\,\\,$\\({k_5}={298624.754420432}\\)$\\,\\,\\,\\,\\,$\\({k_6}={422222.222222222}\\)"
      ],
      "text/plain": [
       "<IPython.core.display.HTML object>"
      ]
     },
     "metadata": {},
     "output_type": "display_data"
    }
   ],
   "source": [
    "# Element Stiffness\n",
    "k_1 = A_1 * E_1 / L_1\n",
    "k_2 = A_2 * E_2 / L_2\n",
    "k_3 = A_3 * E_3 / L_3\n",
    "k_4 = A_4 * E_4 / L_4\n",
    "k_5 = A_5 * E_5 / L_5\n",
    "k_6 = A_6 * E_6 / L_6\n",
    "\n",
    "k_1_val = k_1.subs([(A_1, A_1_val), (E_1, E_1_val), (L_1, L_1_val)])\n",
    "k_2_val = k_2.subs([(A_2, A_2_val), (E_2, E_2_val), (L_2, L_2_val)])\n",
    "k_3_val = k_3.subs([(A_3, A_3_val), (E_3, E_3_val), (L_3, L_3_val)])\n",
    "k_4_val = k_4.subs([(A_4, A_4_val), (E_4, E_4_val), (L_4, L_4_val)])\n",
    "k_5_val = k_5.subs([(A_5, A_5_val), (E_5, E_5_val), (L_5, L_5_val)])\n",
    "k_6_val = k_6.subs([(A_6, A_6_val), (E_6, E_6_val), (L_6, L_6_val)])\n",
    "\n",
    "print('>>> Element Stiffness:')\n",
    "eqs_disp(('k_1', k_1), ('k_2', k_2), ('k_3', k_3), \n",
    "         ('k_4', k_4), ('k_5', k_5), ('k_6', k_6))\n",
    "\n",
    "eqs_disp(('k_1', k_1_val), ('k_2', k_2_val), ('k_3', k_3_val))\n",
    "eqs_disp(('k_4', k_4_val), ('k_5', k_5_val), ('k_6', k_6_val))"
   ]
  },
  {
   "cell_type": "code",
   "execution_count": 46,
   "metadata": {
    "collapsed": false
   },
   "outputs": [
    {
     "name": "stdout",
     "output_type": "stream",
     "text": [
      ">>> Displacement Vector in Global Coord. Sys.:\n"
     ]
    },
    {
     "data": {
      "text/html": [
       "\\begin{equation}\\begin{aligned}{\\{U\\}}&={[K_{GM}]^{-1}\\{F\\}}\\\\&={\\left(\\left[\\begin{matrix}1 & 0 & 0 & 0 & 0 & 0 & 0 & 0 & 0 & 0\\\\0 & 1 & 0 & 0 & 0 & 0 & 0 & 0 & 0 & 0\\\\0 & 0 & 720846.976642654 & 0 & 0 & 0 & 0 & 0 & -149312.377210216 & -149312.377210216\\\\0 & 0 & 0 & 720846.976642654 & 0 & 0 & 0 & -422222.222222222 & -149312.377210216 & -149312.377210216\\\\0 & 0 & 0 & 0 & 1 & 0 & 0 & 0 & 0 & 0\\\\0 & 0 & 0 & 0 & 0 & 1 & 0 & 0 & 0 & 0\\\\0 & 0 & 0 & 0 & 0 & 0 & 844444.444444444 & 0 & -422222.222222222 & 0\\\\0 & 0 & 0 & -422222.222222222 & 0 & 0 & 0 & 422222.222222222 & 0 & 0\\\\0 & 0 & -149312.377210216 & -149312.377210216 & 0 & 0 & -422222.222222222 & 0 & 571534.599432438 & 149312.377210216\\\\0 & 0 & -149312.377210216 & -149312.377210216 & 0 & 0 & 0 & 0 & 149312.377210216 & 149312.377210216\\end{matrix}\\right]\\right)^{-1} \\left[\\begin{matrix}0\\\\0\\\\0\\\\0\\\\0\\\\0\\\\0\\\\-500\\\\0\\\\-500\\end{matrix}\\right]}\\end{aligned}\\end{equation}"
      ],
      "text/plain": [
       "<IPython.core.display.HTML object>"
      ]
     },
     "metadata": {},
     "output_type": "display_data"
    },
    {
     "data": {
      "text/html": [
       "\\begin{equation}\\begin{aligned}{\\{U\\}}={\\left[\\begin{matrix}0\\\\0\\\\-0.00355263157894737\\\\-0.01025\\\\0\\\\0\\\\0.00118421052631579\\\\-0.0114342105263158\\\\0.00236842105263158\\\\-0.0195197368421053\\end{matrix}\\right]}\\end{aligned}\\end{equation}"
      ],
      "text/plain": [
       "<IPython.core.display.HTML object>"
      ]
     },
     "metadata": {},
     "output_type": "display_data"
    },
    {
     "name": "stdout",
     "output_type": "stream",
     "text": [
      "\n",
      "\n",
      ">>> Reaction Force Vector in Global Coord. Sys.:\n"
     ]
    },
    {
     "data": {
      "text/html": [
       "\\begin{equation}\\begin{aligned}{\\{R\\}}&={[K_G]\\{U\\} - \\{F\\}}\\\\&={\\left[\\begin{matrix}0\\\\0\\\\0\\\\0\\\\0\\\\0\\\\0\\\\500\\\\0\\\\500\\end{matrix}\\right] + \\left[\\begin{matrix}422222.222222222 & 0 & -422222.222222222 & 0 & 0 & 0 & 0 & 0 & 0 & 0\\\\0 & 0 & 0 & 0 & 0 & 0 & 0 & 0 & 0 & 0\\\\-422222.222222222 & 0 & 720846.976642654 & 0 & -149312.377210216 & 149312.377210216 & 0 & 0 & -149312.377210216 & -149312.377210216\\\\0 & 0 & 0 & 720846.976642654 & 149312.377210216 & -149312.377210216 & 0 & -422222.222222222 & -149312.377210216 & -149312.377210216\\\\0 & 0 & -149312.377210216 & 149312.377210216 & 571534.599432438 & -149312.377210216 & -422222.222222222 & 0 & 0 & 0\\\\0 & 0 & 149312.377210216 & -149312.377210216 & -149312.377210216 & 149312.377210216 & 0 & 0 & 0 & 0\\\\0 & 0 & 0 & 0 & -422222.222222222 & 0 & 844444.444444444 & 0 & -422222.222222222 & 0\\\\0 & 0 & 0 & -422222.222222222 & 0 & 0 & 0 & 422222.222222222 & 0 & 0\\\\0 & 0 & -149312.377210216 & -149312.377210216 & 0 & 0 & -422222.222222222 & 0 & 571534.599432438 & 149312.377210216\\\\0 & 0 & -149312.377210216 & -149312.377210216 & 0 & 0 & 0 & 0 & 149312.377210216 & 149312.377210216\\end{matrix}\\right] \\left[\\begin{matrix}0\\\\0\\\\-0.00355263157894737\\\\-0.01025\\\\0\\\\0\\\\0.00118421052631579\\\\-0.0114342105263158\\\\0.00236842105263158\\\\-0.0195197368421053\\end{matrix}\\right]}\\end{aligned}\\end{equation}"
      ],
      "text/plain": [
       "<IPython.core.display.HTML object>"
      ]
     },
     "metadata": {},
     "output_type": "display_data"
    },
    {
     "data": {
      "text/html": [
       "\\begin{equation}\\begin{aligned}{\\{R\\}}={\\left[\\begin{matrix}1500.0\\\\0\\\\4.54747350886464 \\cdot 10^{-13}\\\\4.54747350886464 \\cdot 10^{-13}\\\\-1500.0\\\\1000.0\\\\0\\\\0\\\\-4.54747350886464 \\cdot 10^{-13}\\\\-4.54747350886464 \\cdot 10^{-13}\\end{matrix}\\right]}\\end{aligned}\\end{equation}"
      ],
      "text/plain": [
       "<IPython.core.display.HTML object>"
      ]
     },
     "metadata": {},
     "output_type": "display_data"
    }
   ],
   "source": [
    "# Displacement Solved in Regards to Global Coord. Sys.\n",
    "K_GM_val = K_GM.subs([('k_1', k_1_val), ('k_2', k_2_val), ('k_3', k_3_val),\n",
    "                      ('k_4', k_4_val), ('k_5', k_5_val), ('k_6', k_6_val)])\n",
    "\n",
    "F_val = F.subs([('F_4y', F_4y_val), ('F_5y', F_5y_val)])\n",
    "\n",
    "U_val = K_GM_val**-1 * F_val\n",
    "\n",
    "K_G_val = K_G.subs([('k_1', k_1_val), ('k_2', k_2_val), ('k_3', k_3_val),\n",
    "                    ('k_4', k_4_val), ('k_5', k_5_val), ('k_6', k_6_val)])\n",
    "\n",
    "R_val = K_G_val * U_val - F_val\n",
    "\n",
    "print('>>> Displacement Vector in Global Coord. Sys.:')\n",
    "eq_disp('\\{U\\}', \n",
    "        '[K_{GM}]^{-1}\\{F\\}', True, \n",
    "        MatPow(K_GM_val, -1) * F_val)\n",
    "eq_disp('\\{U\\}', U_val)\n",
    "print('\\n')\n",
    "print('>>> Reaction Force Vector in Global Coord. Sys.:')\n",
    "eq_disp('\\{R\\}', \n",
    "        '[K_G]\\{U\\} - \\{F\\}', True, \n",
    "        MatMul(K_G_val, U_val) - F_val)\n",
    "eq_disp('\\{R\\}', R_val)"
   ]
  },
  {
   "cell_type": "code",
   "execution_count": 49,
   "metadata": {
    "collapsed": false
   },
   "outputs": [
    {
     "name": "stdout",
     "output_type": "stream",
     "text": [
      ">>> Displacement Vector in Local Coord. Sys.:\n"
     ]
    },
    {
     "data": {
      "text/html": [
       "\\begin{equation}\\begin{aligned}{\\{u_1\\}}={[T_1]^{-1}\\{U_1\\}}\\end{aligned}\\end{equation}"
      ],
      "text/plain": [
       "<IPython.core.display.HTML object>"
      ]
     },
     "metadata": {},
     "output_type": "display_data"
    },
    {
     "name": "stdout",
     "output_type": "stream",
     "text": [
      "------------------\n"
     ]
    },
    {
     "data": {
      "text/html": [
       "\\begin{equation}\\begin{aligned}{\\left[\\begin{matrix}u_{1x}\\\\u_{1y}\\\\u_{2x}\\\\u_{2y}\\end{matrix}\\right]}={\\left(\\left[\\begin{matrix}\\cos{\\left (\\theta_{1} \\right )} & - \\sin{\\left (\\theta_{1} \\right )} & 0 & 0\\\\\\sin{\\left (\\theta_{1} \\right )} & \\cos{\\left (\\theta_{1} \\right )} & 0 & 0\\\\0 & 0 & \\cos{\\left (\\theta_{1} \\right )} & - \\sin{\\left (\\theta_{1} \\right )}\\\\0 & 0 & \\sin{\\left (\\theta_{1} \\right )} & \\cos{\\left (\\theta_{1} \\right )}\\end{matrix}\\right]\\right)^{-1} \\left[\\begin{matrix}U_{1x}\\\\U_{1y}\\\\U_{2x}\\\\U_{2y}\\end{matrix}\\right]}\\end{aligned}\\end{equation}"
      ],
      "text/plain": [
       "<IPython.core.display.HTML object>"
      ]
     },
     "metadata": {},
     "output_type": "display_data"
    },
    {
     "name": "stdout",
     "output_type": "stream",
     "text": [
      ".\n",
      ".\n",
      ".\n"
     ]
    },
    {
     "data": {
      "text/html": [
       "\\begin{equation}\\begin{aligned}{\\{u_6\\}}={[T_6]^{-1}\\{U_6\\}}\\end{aligned}\\end{equation}"
      ],
      "text/plain": [
       "<IPython.core.display.HTML object>"
      ]
     },
     "metadata": {},
     "output_type": "display_data"
    },
    {
     "name": "stdout",
     "output_type": "stream",
     "text": [
      "------------------\n"
     ]
    },
    {
     "data": {
      "text/html": [
       "\\begin{equation}\\begin{aligned}{\\left[\\begin{matrix}u_{4x}\\\\u_{4y}\\\\u_{5x}\\\\u_{5y}\\end{matrix}\\right]}={\\left(\\left[\\begin{matrix}\\cos{\\left (\\theta_{6} \\right )} & - \\sin{\\left (\\theta_{6} \\right )} & 0 & 0\\\\\\sin{\\left (\\theta_{6} \\right )} & \\cos{\\left (\\theta_{6} \\right )} & 0 & 0\\\\0 & 0 & \\cos{\\left (\\theta_{6} \\right )} & - \\sin{\\left (\\theta_{6} \\right )}\\\\0 & 0 & \\sin{\\left (\\theta_{6} \\right )} & \\cos{\\left (\\theta_{6} \\right )}\\end{matrix}\\right]\\right)^{-1} \\left[\\begin{matrix}U_{4x}\\\\U_{4y}\\\\U_{5x}\\\\U_{5y}\\end{matrix}\\right]}\\end{aligned}\\end{equation}"
      ],
      "text/plain": [
       "<IPython.core.display.HTML object>"
      ]
     },
     "metadata": {},
     "output_type": "display_data"
    },
    {
     "name": "stdout",
     "output_type": "stream",
     "text": [
      "\n",
      "\n"
     ]
    },
    {
     "data": {
      "text/html": [
       "\\({\\{u_1\\}}={\\left[\\begin{matrix}u_{1x}\\\\u_{1y}\\\\u_{2x}\\\\u_{2y}\\end{matrix}\\right]}={\\left[\\begin{matrix}0\\\\0\\\\-0.00355263157894737\\\\-0.01025\\end{matrix}\\right]}\\)$\\,\\,\\,\\,\\,$\\({\\{u_2\\}}={\\left[\\begin{matrix}u_{2x}\\\\u_{2y}\\\\u_{3x}\\\\u_{3y}\\end{matrix}\\right]}={\\left[\\begin{matrix}-0.00473575462663096\\\\0.00975993438769327\\\\0\\\\0\\end{matrix}\\right]}\\)$\\,\\,\\,\\,\\,$\\({\\{u_3\\}}={\\left[\\begin{matrix}u_{3x}\\\\u_{3y}\\\\u_{4x}\\\\u_{4y}\\end{matrix}\\right]}={\\left[\\begin{matrix}0\\\\0\\\\0.00118421052631579\\\\-0.0114342105263158\\end{matrix}\\right]}\\)$\\,\\,\\,\\,\\,$\\({\\{u_4\\}}={\\left[\\begin{matrix}u_{2x}\\\\u_{2y}\\\\u_{4x}\\\\u_{4y}\\end{matrix}\\right]}={\\left[\\begin{matrix}-0.01025\\\\0.00355263157894737\\\\-0.0114342105263158\\\\-0.00118421052631579\\end{matrix}\\right]}\\)$\\,\\,\\,\\,\\,$\\({\\{u_5\\}}={\\left[\\begin{matrix}u_{2x}\\\\u_{2y}\\\\u_{5x}\\\\u_{5y}\\end{matrix}\\right]}={\\left[\\begin{matrix}-0.00975993438769327\\\\-0.00473575462663096\\\\-0.0121278117010087\\\\-0.0154772648750503\\end{matrix}\\right]}\\)$\\,\\,\\,\\,\\,$\\({\\{u_6\\}}={\\left[\\begin{matrix}u_{4x}\\\\u_{4y}\\\\u_{5x}\\\\u_{5y}\\end{matrix}\\right]}={\\left[\\begin{matrix}0.00118421052631579\\\\-0.0114342105263158\\\\0.00236842105263158\\\\-0.0195197368421053\\end{matrix}\\right]}\\)"
      ],
      "text/plain": [
       "<IPython.core.display.HTML object>"
      ]
     },
     "metadata": {},
     "output_type": "display_data"
    }
   ],
   "source": [
    "# Displacement in Local Coord. Sys. Obtained by Using Transtion Matrix\n",
    "print('>>> Displacement Vector in Local Coord. Sys.:')\n",
    "eq_disp('\\{u_1\\}', '[T_1]^{-1}\\{U_1\\}')\n",
    "print('------------------')\n",
    "eq_disp(u_1, MatPow(T_1, -1) * U_1)\n",
    "print('\\n'.join(list('...')))\n",
    "eq_disp('\\{u_6\\}', '[T_6]^{-1}\\{U_6\\}')\n",
    "print('------------------')\n",
    "eq_disp(u_6, MatPow(T_6, -1) * U_6)\n",
    "\n",
    "U_1_val = Matrix(U_val[0:4])\n",
    "T_1_val = T_1.subs(theta_1, theta_1_val)\n",
    "u_1_val = T_1_val ** -1 * U_1_val\n",
    "\n",
    "U_2_val = Matrix(U_val[2:6])\n",
    "T_2_val = T_2.subs(theta_2, theta_2_val)\n",
    "u_2_val = T_2_val ** -1 * U_2_val\n",
    "\n",
    "U_3_val = Matrix(U_val[4:8])\n",
    "T_3_val = T_3.subs(theta_3, theta_3_val)\n",
    "u_3_val = T_3_val ** -1 * U_3_val\n",
    "\n",
    "U_4_val = Matrix(U_val[2:4] + U_val[6:8])\n",
    "T_4_val = T_4.subs(theta_4, theta_4_val)\n",
    "u_4_val = T_4_val ** -1 * U_4_val\n",
    "\n",
    "U_5_val = Matrix(U_val[2:4] + U_val[8:10])\n",
    "T_5_val = T_5.subs(theta_5, theta_5_val)\n",
    "u_5_val = T_5_val ** -1 * U_5_val\n",
    "\n",
    "U_6_val = Matrix(U_val[6:10])\n",
    "T_6_val = T_6.subs(theta_6, theta_6_val)\n",
    "u_6_val = T_6_val ** -1 * U_6_val\n",
    "\n",
    "print('\\n')\n",
    "eqs_disp(['\\{u_1\\}', u_1, u_1_val.evalf()], \n",
    "         ['\\{u_2\\}', u_2, u_2_val.evalf()],\n",
    "         ['\\{u_3\\}', u_3, u_3_val.evalf()],\n",
    "         ['\\{u_4\\}', u_4, u_4_val.evalf()],\n",
    "         ['\\{u_5\\}', u_5, u_5_val.evalf()],\n",
    "         ['\\{u_6\\}', u_6, u_6_val.evalf()])"
   ]
  },
  {
   "cell_type": "code",
   "execution_count": 48,
   "metadata": {
    "collapsed": false
   },
   "outputs": [
    {
     "name": "stdout",
     "output_type": "stream",
     "text": [
      ">>> Strain Vector:\n"
     ]
    },
    {
     "data": {
      "text/html": [
       "\\begin{equation}\\begin{aligned}{\\{\\epsilon\\}}={\\left[\\begin{matrix}\\frac{1}{L_{1}} \\left(- u_{1x} + u_{2x}\\right)\\\\\\frac{1}{L_{2}} \\left(- u_{2x} + u_{3x}\\right)\\\\\\frac{1}{L_{3}} \\left(- u_{3x} + u_{4x}\\right)\\\\\\frac{1}{L_{4}} \\left(- u_{2x} + u_{4x}\\right)\\\\\\frac{1}{L_{5}} \\left(- u_{2x} + u_{5x}\\right)\\\\\\frac{1}{L_{6}} \\left(- u_{4x} + u_{5x}\\right)\\end{matrix}\\right]}={\\left[\\begin{matrix}-9.86842105263158 \\cdot 10^{-5}\\\\9.30403659455984 \\cdot 10^{-5}\\\\3.28947368421052 \\cdot 10^{-5}\\\\-3.28947368421053 \\cdot 10^{-5}\\\\-4.65201829727992 \\cdot 10^{-5}\\\\3.28947368421052 \\cdot 10^{-5}\\end{matrix}\\right]}\\end{aligned}\\end{equation}"
      ],
      "text/plain": [
       "<IPython.core.display.HTML object>"
      ]
     },
     "metadata": {},
     "output_type": "display_data"
    },
    {
     "name": "stdout",
     "output_type": "stream",
     "text": [
      ">>> Stress Vector:\n"
     ]
    },
    {
     "data": {
      "text/html": [
       "\\begin{equation}\\begin{aligned}{\\{\\sigma\\}}={\\left[\\begin{matrix}E_{1} \\epsilon_{1}\\\\E_{2} \\epsilon_{2}\\\\E_{3} \\epsilon_{3}\\\\E_{4} \\epsilon_{4}\\\\E_{5} \\epsilon_{5}\\\\E_{6} \\epsilon_{6}\\end{matrix}\\right]}={\\left[\\begin{matrix}-187.5\\\\176.776695296637\\\\62.5\\\\-62.5\\\\-88.3883476483185\\\\62.5\\end{matrix}\\right]}\\end{aligned}\\end{equation}"
      ],
      "text/plain": [
       "<IPython.core.display.HTML object>"
      ]
     },
     "metadata": {},
     "output_type": "display_data"
    }
   ],
   "source": [
    "# Solve Strain & Stress on Basis of Displacement Solution\n",
    "sigma_1 = E_1 * epsilon_1\n",
    "sigma_2 = E_2 * epsilon_2\n",
    "sigma_3 = E_3 * epsilon_3\n",
    "sigma_4 = E_4 * epsilon_4\n",
    "sigma_5 = E_5 * epsilon_5\n",
    "sigma_6 = E_6 * epsilon_6\n",
    "\n",
    "epsilon_1 = (u_2x - u_1x)/L_1\n",
    "epsilon_2 = (u_3x - u_2x)/L_2\n",
    "epsilon_3 = (u_4x - u_3x)/L_3\n",
    "epsilon_4 = (u_4x - u_2x)/L_4\n",
    "epsilon_5 = (u_5x - u_2x)/L_5\n",
    "epsilon_6 = (u_5x - u_4x)/L_6\n",
    "\n",
    "u_2x_val, u_1x_val = u_1_val[2], u_1_val[0]\n",
    "epsilon_1_val = epsilon_1.subs([(u_2x, u_2x_val), (u_1x, u_1x_val), (L_1, L_1_val)])\n",
    "u_3x_val, u_2x_val = u_2_val[2], u_2_val[0]\n",
    "epsilon_2_val = epsilon_2.subs([(u_3x, u_3x_val), (u_2x, u_2x_val), (L_2, L_2_val)])\n",
    "u_4x_val, u_3x_val = u_3_val[2], u_3_val[0]\n",
    "epsilon_3_val = epsilon_3.subs([(u_4x, u_4x_val), (u_3x, u_3x_val), (L_3, L_3_val)])\n",
    "u_4x_val, u_2x_val = u_4_val[2], u_4_val[0]\n",
    "epsilon_4_val = epsilon_4.subs([(u_4x, u_4x_val), (u_2x, u_2x_val), (L_4, L_4_val)])\n",
    "u_5x_val, u_2x_val = u_5_val[2], u_5_val[0]\n",
    "epsilon_5_val = epsilon_5.subs([(u_5x, u_5x_val), (u_2x, u_2x_val), (L_5, L_5_val)])\n",
    "u_5x_val, u_4x_val = u_6_val[2], u_6_val[0]\n",
    "epsilon_6_val = epsilon_6.subs([(u_5x, u_5x_val), (u_4x, u_4x_val), (L_6, L_6_val)])\n",
    "\n",
    "epsilon = Matrix([epsilon_1, epsilon_2, epsilon_3, epsilon_4, epsilon_5, epsilon_6])\n",
    "epsilon_val = Matrix([epsilon_1_val, epsilon_2_val, epsilon_3_val, epsilon_4_val, epsilon_5_val, epsilon_6_val]).evalf()\n",
    "\n",
    "print('>>> Strain Vector:')\n",
    "eq_disp('\\{\\epsilon\\}', epsilon, epsilon_val)\n",
    "\n",
    "sigma_1_val = sigma_1.subs([(E_1, E_1_val), ('epsilon_1', epsilon_1_val)])\n",
    "sigma_2_val = sigma_2.subs([(E_2, E_2_val), ('epsilon_2', epsilon_2_val)])\n",
    "sigma_3_val = sigma_3.subs([(E_3, E_3_val), ('epsilon_3', epsilon_3_val)])\n",
    "sigma_4_val = sigma_4.subs([(E_4, E_4_val), ('epsilon_4', epsilon_4_val)])\n",
    "sigma_5_val = sigma_5.subs([(E_5, E_5_val), ('epsilon_5', epsilon_5_val)])\n",
    "sigma_6_val = sigma_6.subs([(E_6, E_6_val), ('epsilon_6', epsilon_6_val)])\n",
    "\n",
    "sigma = Matrix([sigma_1, sigma_2, sigma_3, sigma_4, sigma_5, sigma_6])\n",
    "sigma_val = Matrix([sigma_1_val, sigma_2_val, sigma_3_val, sigma_4_val, sigma_5_val, sigma_6_val]).evalf()\n",
    "\n",
    "print('>>> Stress Vector:')\n",
    "eq_disp('\\{\\sigma\\}', sigma, sigma_val)"
   ]
  },
  {
   "cell_type": "code",
   "execution_count": null,
   "metadata": {
    "collapsed": true
   },
   "outputs": [],
   "source": []
  }
 ],
 "metadata": {
  "kernelspec": {
   "display_name": "Python 3",
   "language": "python",
   "name": "python3"
  },
  "language_info": {
   "codemirror_mode": {
    "name": "ipython",
    "version": 3
   },
   "file_extension": ".py",
   "mimetype": "text/x-python",
   "name": "python",
   "nbconvert_exporter": "python",
   "pygments_lexer": "ipython3",
   "version": "3.4.3"
  }
 },
 "nbformat": 4,
 "nbformat_minor": 0
}
